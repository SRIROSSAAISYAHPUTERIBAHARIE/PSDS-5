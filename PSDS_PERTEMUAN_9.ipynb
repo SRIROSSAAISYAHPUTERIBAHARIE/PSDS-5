{
  "nbformat": 4,
  "nbformat_minor": 0,
  "metadata": {
    "colab": {
      "provenance": [],
      "authorship_tag": "ABX9TyMkwGnmVo+iODGZ3rCO4uOU",
      "include_colab_link": true
    },
    "kernelspec": {
      "name": "python3",
      "display_name": "Python 3"
    },
    "language_info": {
      "name": "python"
    }
  },
  "cells": [
    {
      "cell_type": "markdown",
      "metadata": {
        "id": "view-in-github",
        "colab_type": "text"
      },
      "source": [
        "<a href=\"https://colab.research.google.com/github/SRIROSSAAISYAHPUTERIBAHARIE/PSDS-5.0/blob/main/PSDS_PERTEMUAN_9.ipynb\" target=\"_parent\"><img src=\"https://colab.research.google.com/assets/colab-badge.svg\" alt=\"Open In Colab\"/></a>"
      ]
    },
    {
      "cell_type": "markdown",
      "source": [
        "#**SRI ROSSA AISYAH PUTERI BAHARIE**\n",
        "#**2100015052**\n",
        "**PERTEMUAN 9**"
      ],
      "metadata": {
        "id": "kGfSxD4IVOFk"
      }
    },
    {
      "cell_type": "markdown",
      "source": [
        "#**List Phyton**"
      ],
      "metadata": {
        "id": "ERDVX_cTVz4P"
      }
    },
    {
      "cell_type": "markdown",
      "source": [
        "Dalam bahasa pemrograman Phyton, struktur data yang paling dasar adalah urutan atau list. Setiap elemen-elemen urutan akan diberi nomor posisi atau indeksnya. Indeks pertama dalam list adalah nol, indeks kedua adalah satu dan seterusnya.\n",
        "Phyton memiliki enam jenis urutan built-in, namun yang paling umum adalah list dan tuple. Ada beberapa hal yang dapat anda lakukan dengan semua jenis list. Operasi ini meliputi pengindeksan, pengiris,, penambahan, perbanyak, dan pengecekan keanggotaan. Selain itu, Phyton memiliki fungsi built-in untuk menemukan panjang list dan untuk menemukan elemen terbesar dan terkecilnya."
      ],
      "metadata": {
        "id": "iTkFmziZV7iW"
      }
    },
    {
      "cell_type": "markdown",
      "source": [
        "#**Membuat List Phyton**"
      ],
      "metadata": {
        "id": "sRhry5slXFPi"
      }
    },
    {
      "cell_type": "markdown",
      "source": [
        "List adalah tipe data yang paling serbaguna yang tersedia di dalam bahasa Phyton, yang dapat ditulis sebagai daftar nilai yang dipisahkan koma(item) antara tanda kurung siku. Hal penting dalam daftar adalah item dalam list tidak boleh sama jenisnya.\n",
        "Mmebuat list sangat sederhana, tinggal memasukkan berbagai nilai yang dipisahkan koma diantara kurung siku. Dibawah ini adalah contoh sederhana pembuatan list dalam bahasa Phyton."
      ],
      "metadata": {
        "id": "5xgW1xm2XNws"
      }
    },
    {
      "cell_type": "code",
      "source": [
        "#Contoh sederhana pembuatan List pada bahasa pemrograman Phyton\n",
        "List1 = ['Kimia', 'Fisika', 1993, 2017]\n",
        "List2 = [1, 2, 3, 4, 5]\n",
        "List3 = [\"a\", \"b\", \"c\", \"d\"]\n",
        "\n",
        "print('List 1:', List1)\n",
        "print('List 2:', List2)\n",
        "print('List 3:', List3)"
      ],
      "metadata": {
        "colab": {
          "base_uri": "https://localhost:8080/"
        },
        "id": "mcOr0lNAYChd",
        "outputId": "7fb153e6-62b7-461c-f193-c6881c4d0b2d"
      },
      "execution_count": 1,
      "outputs": [
        {
          "output_type": "stream",
          "name": "stdout",
          "text": [
            "List 1: ['Kimia', 'Fisika', 1993, 2017]\n",
            "List 2: [1, 2, 3, 4, 5]\n",
            "List 3: ['a', 'b', 'c', 'd']\n"
          ]
        }
      ]
    },
    {
      "cell_type": "markdown",
      "source": [
        "#Akses Nilai dalam List Phyton"
      ],
      "metadata": {
        "id": "7XabeycnY7e8"
      }
    },
    {
      "cell_type": "markdown",
      "source": [
        "Untuk mengakses nilai dalam list Phyton, gunakan tanda kurung siku untuk mengiris beserta indeks untuk mendapatkan nilai yang tersedia pada indeks tersebut."
      ],
      "metadata": {
        "id": "RYQLLjOZY_VE"
      }
    },
    {
      "cell_type": "code",
      "source": [
        "#Cara mengakses Nilai dalam List Phyton\n",
        "List1 = ['Kimia', 'Fisika', 1993, 2017]\n",
        "List2 = [1, 2, 3, 4, 5, 6, 7]\n",
        "\n",
        "print(\"List1[0]: \", List1[0])\n",
        "print(\"List2[1:5]: \", List2[1:5])"
      ],
      "metadata": {
        "colab": {
          "base_uri": "https://localhost:8080/"
        },
        "id": "ynkOn88fZTGI",
        "outputId": "d041f69d-f77e-44dd-c637-9c280cef1a13"
      },
      "execution_count": 2,
      "outputs": [
        {
          "output_type": "stream",
          "name": "stdout",
          "text": [
            "List1[0]:  Kimia\n",
            "List2[1:5]:  [2, 3, 4, 5]\n"
          ]
        }
      ]
    },
    {
      "cell_type": "markdown",
      "source": [
        "#**Update Nilai dalam List Phyton**"
      ],
      "metadata": {
        "id": "M5UfkCyzbSkV"
      }
    },
    {
      "cell_type": "markdown",
      "source": [
        "Kita dapat memperbarui satu atau beberapa nilai di dalam list dengan memberikan potongan di sisi kiri operator penugasan, dan kita dapat menambahkan ke dalam list dengan metode append()."
      ],
      "metadata": {
        "id": "hJ7m3iLubWyw"
      }
    },
    {
      "cell_type": "code",
      "source": [
        "List = ['Fisika', 'Kimia', 1993, 2017]\n",
        "print(\"Nilai ada pada indeks 2: \", List[2])\n",
        "\n",
        "List[2] = 2001\n",
        "print(\"Nilai baru ada pada indeks 2: \", List[2])"
      ],
      "metadata": {
        "colab": {
          "base_uri": "https://localhost:8080/"
        },
        "id": "K2KgN6Hzb7JN",
        "outputId": "5f309db7-e61b-4085-8b1f-e2196ea69d9f"
      },
      "execution_count": 3,
      "outputs": [
        {
          "output_type": "stream",
          "name": "stdout",
          "text": [
            "Nilai ada pada indeks 2:  1993\n",
            "Nilai baru ada pada indeks 2:  2001\n"
          ]
        }
      ]
    },
    {
      "cell_type": "markdown",
      "source": [
        "#**Hapus Nilai dalam List Phyton**"
      ],
      "metadata": {
        "id": "i5GMXqjxc5HP"
      }
    },
    {
      "cell_type": "markdown",
      "source": [
        "Untuk menghapus nilai dalam list phyton, kita dapat menggunakan salah satu pernyataan del jika anda tahu persis elemen yang anda hapus. Kita dapat menggunakan metode remove() jika anda tidak tahu persis item mana yang akan dihapus."
      ],
      "metadata": {
        "id": "G71MAyLJc-Jq"
      }
    },
    {
      "cell_type": "code",
      "source": [
        "#Contoh cara menghapus nilai pada list Phyton\n",
        "List = ['Fisika', 'Kimia', 1993, 2017]\n",
        "print(List)\n",
        "del List[2]\n",
        "print(\"Setelah dihapus nilai pada indeks 2: \", List)"
      ],
      "metadata": {
        "colab": {
          "base_uri": "https://localhost:8080/"
        },
        "id": "m_NK4I6ydaLA",
        "outputId": "e8f74def-5a2d-4877-b4c8-d79eb3f38746"
      },
      "execution_count": 4,
      "outputs": [
        {
          "output_type": "stream",
          "name": "stdout",
          "text": [
            "['Fisika', 'Kimia', 1993, 2017]\n",
            "Setelah dihapus nilai pada indeks 2:  ['Fisika', 'Kimia', 2017]\n"
          ]
        }
      ]
    },
    {
      "cell_type": "markdown",
      "source": [
        "#**Slicing pada List Phyton**"
      ],
      "metadata": {
        "id": "dy9M1PLFdw3I"
      }
    },
    {
      "cell_type": "markdown",
      "source": [
        "Karena string mirip dengan list, maka slicing operator [] juga dapat digunakan pada string untuk mengambil isinya atau bahkan substring. Sebuah string utuh bersifat mutable (bisa diubah), namun elemennya bersifat immutable (tidak bisa diubah)."
      ],
      "metadata": {
        "id": "eNRCkyMMd3gt"
      }
    },
    {
      "cell_type": "code",
      "source": [
        "L = ['C++', 'Java', 'Phyton']\n",
        "\n",
        "print('Indeks ke-2: ', L[2])\n",
        "print('Indeks ke-2 dari belakang: ', L[-2])\n",
        "print('Indeks ke-1 dan 2: ', L[1:])"
      ],
      "metadata": {
        "colab": {
          "base_uri": "https://localhost:8080/"
        },
        "id": "dAf0Fgi1eUJo",
        "outputId": "f3ee8aac-2063-4778-f3fb-55ccf462a46f"
      },
      "execution_count": 7,
      "outputs": [
        {
          "output_type": "stream",
          "name": "stdout",
          "text": [
            "Indeks ke-2:  Phyton\n",
            "Indeks ke-2 dari belakang:  Java\n",
            "Indeks ke-1 dan 2:  ['Java', 'Phyton']\n"
          ]
        }
      ]
    },
    {
      "cell_type": "markdown",
      "source": [
        "#**Set**"
      ],
      "metadata": {
        "id": "xxZWICL8exHq"
      }
    },
    {
      "cell_type": "markdown",
      "source": [
        "Set juga merupakan tipe data untuk mengumpulkan beberapa item dalam satu variabel. Bedanya, item di dalam set bersifat tidak berurutan dan tidak bisa diubah/diduplikasi. Set menggunakan {} sebagai kontainer.\n",
        "Sama seperti list, set juga bisa diisi oleh item dengan berbagai jenis data."
      ],
      "metadata": {
        "id": "pUVIFk6hfEjn"
      }
    },
    {
      "cell_type": "markdown",
      "source": [
        "#**Mengakses Item dalam Set**"
      ],
      "metadata": {
        "id": "buUUEmWQflMv"
      }
    },
    {
      "cell_type": "markdown",
      "source": [
        "Karena set menampung item tidak secara berurutan, maka kita harus memasukkan nilai item secara spesifik dan tidak bisa menggunakan urutan seperti list."
      ],
      "metadata": {
        "id": "vppdCdDDfqcj"
      }
    },
    {
      "cell_type": "code",
      "source": [
        "a = {\"Rokok\", \"Korek\", \"Asbak\"}\n",
        "print(\"Rokok\" in a)"
      ],
      "metadata": {
        "colab": {
          "base_uri": "https://localhost:8080/"
        },
        "id": "_GCpBI6Cf53B",
        "outputId": "6773453b-35a5-4b5c-f974-6ef4c76cf017"
      },
      "execution_count": 8,
      "outputs": [
        {
          "output_type": "stream",
          "name": "stdout",
          "text": [
            "True\n"
          ]
        }
      ]
    },
    {
      "cell_type": "markdown",
      "source": [
        "#**Menghapus item dalam Set**"
      ],
      "metadata": {
        "id": "fhrhazjngFVN"
      }
    },
    {
      "cell_type": "markdown",
      "source": [
        "Untuk menghapus item dalam set, fungsi yang digunakan adalah (variabel).remove(item). Kita tidak bisa menggunakan .pop(urutan_item) seperti di list, karena set tidak memiliki urutan item."
      ],
      "metadata": {
        "id": "W4IvU7NDgJbw"
      }
    },
    {
      "cell_type": "code",
      "source": [
        "a = {\"Rokok\", \"Korek\", \"Asbak\"}\n",
        "a.remove(\"Korek\")\n",
        "print(a)"
      ],
      "metadata": {
        "colab": {
          "base_uri": "https://localhost:8080/"
        },
        "id": "CktPwatfgfNv",
        "outputId": "fbac2c7b-65cb-4dcd-c472-8e139f76b359"
      },
      "execution_count": 9,
      "outputs": [
        {
          "output_type": "stream",
          "name": "stdout",
          "text": [
            "{'Asbak', 'Rokok'}\n"
          ]
        }
      ]
    },
    {
      "cell_type": "markdown",
      "source": [
        "#**Dictonary**"
      ],
      "metadata": {
        "id": "XiZZN69NgnX1"
      }
    },
    {
      "cell_type": "markdown",
      "source": [
        "Dictionary sebagai tipe data berfungsi mengumpulkan beberapa item dalam satu variabel dengan format key:value. Item di dalam dictionary bersifat berurutan, bisa diubah, tetapi tidak bisa diduplikasi. Dictionary menggunakan simbol {item:item} sebagai kontainer.\n",
        "Contoh dictonary yang diisi item dengan berbagai jenis tipe data."
      ],
      "metadata": {
        "id": "QDiDpvfxgqED"
      }
    },
    {
      "cell_type": "code",
      "source": [
        "x = {\"Nama\" : \"Budi\", \"Umur\" : 50, \"Tinggi_Badan\" : 155.5}\n",
        "print(x)"
      ],
      "metadata": {
        "colab": {
          "base_uri": "https://localhost:8080/"
        },
        "id": "PA5ZjS_ZhUZ-",
        "outputId": "085382d9-748b-4e4c-a129-03cf02392f86"
      },
      "execution_count": 11,
      "outputs": [
        {
          "output_type": "stream",
          "name": "stdout",
          "text": [
            "{'Nama': 'Budi', 'Umur': 50, 'Tinggi_Badan': 155.5}\n"
          ]
        }
      ]
    },
    {
      "cell_type": "markdown",
      "source": [
        "#**Mengakses Value dari Dictionary**"
      ],
      "metadata": {
        "id": "kb_tuaTphwe5"
      }
    },
    {
      "cell_type": "markdown",
      "source": [
        "Untuk mengakses value dari sebuah key dalam dictionary, gunakan (variabel[key])."
      ],
      "metadata": {
        "id": "k-mu0KPkh1-a"
      }
    },
    {
      "cell_type": "code",
      "source": [
        "Menteri = {\"Nama\" : \"Budi\", \"Umur\" : 50}\n",
        "print(Menteri[\"Umur\"])"
      ],
      "metadata": {
        "colab": {
          "base_uri": "https://localhost:8080/"
        },
        "id": "5yr1uJxHiBGs",
        "outputId": "bd46a749-e384-45ba-da98-2f9a6af5904a"
      },
      "execution_count": 12,
      "outputs": [
        {
          "output_type": "stream",
          "name": "stdout",
          "text": [
            "50\n"
          ]
        }
      ]
    },
    {
      "cell_type": "code",
      "source": [
        "#Contoh cara membuat Dictionary pda Phyton\n",
        "dict = {'Name' : 'Zara', 'Age' : 7, 'Class' : 'Frist'}\n",
        "print(\"dict['Name'] : \", dict['Name'])\n",
        "print(\"dict['Age] : \", dict['Age'])"
      ],
      "metadata": {
        "colab": {
          "base_uri": "https://localhost:8080/"
        },
        "id": "6h9w881ciP5s",
        "outputId": "925246ca-9d7f-4343-c8e4-77f2b2673177"
      },
      "execution_count": 13,
      "outputs": [
        {
          "output_type": "stream",
          "name": "stdout",
          "text": [
            "dict['Name'] :  Zara\n",
            "dict['Age] :  7\n"
          ]
        }
      ]
    },
    {
      "cell_type": "markdown",
      "source": [
        "#**Update Nilai dalam Dictionary Phyton**"
      ],
      "metadata": {
        "id": "zWtF3xAIi9HM"
      }
    },
    {
      "cell_type": "markdown",
      "source": [
        "Dapat memeperbarui Dictionary dengan menambahkan entri baru atau pasangan nilai kunci, memodisikasi entri yang ada."
      ],
      "metadata": {
        "id": "I2YBWoaQjEJH"
      }
    },
    {
      "cell_type": "markdown",
      "source": [
        "#**Menguabah item**"
      ],
      "metadata": {
        "id": "AZPyzyIPjS-X"
      }
    },
    {
      "cell_type": "markdown",
      "source": [
        "Untuk mengubah item, kita menentukan terlebih dahulu key dari item yang ingin diubah. Sintaksis yang digunakan adalah (variabel[key]) = value_baru"
      ],
      "metadata": {
        "id": "OkZKz6A_jV-m"
      }
    },
    {
      "cell_type": "code",
      "source": [
        "#Update Dictionary Phyton\n",
        "dict = {'Name' : 'Zara', 'Age' : 7, 'Class' : 'Frist'}\n",
        "dict['Age'] = 8; #Mengubah entri yang sudah ada\n",
        "dict['School'] = \"DPS School\" #Menambah entri baru\n",
        "\n",
        "print(\"dict['Age']: \", dict['Age'])\n",
        "print(\"dict['School']: \", dict['School'])"
      ],
      "metadata": {
        "colab": {
          "base_uri": "https://localhost:8080/"
        },
        "id": "B-1aG93zjoia",
        "outputId": "6f049588-eced-4184-b61f-a927f7ef4070"
      },
      "execution_count": 15,
      "outputs": [
        {
          "output_type": "stream",
          "name": "stdout",
          "text": [
            "dict['Age']:  8\n",
            "dict['School']:  DPS School\n"
          ]
        }
      ]
    },
    {
      "cell_type": "code",
      "source": [
        "Menteri = {\"Nama\" : \"Budi\", \"Umur\" : 50}\n",
        "Menteri[\"Nama\"] = \"Adi\"\n",
        "print(Menteri)"
      ],
      "metadata": {
        "colab": {
          "base_uri": "https://localhost:8080/"
        },
        "id": "g9wGteR0k3jT",
        "outputId": "1dc4e615-b7ac-4a53-d672-4879243c3a02"
      },
      "execution_count": 16,
      "outputs": [
        {
          "output_type": "stream",
          "name": "stdout",
          "text": [
            "{'Nama': 'Adi', 'Umur': 50}\n"
          ]
        }
      ]
    },
    {
      "cell_type": "markdown",
      "source": [
        "#**Menambah item**"
      ],
      "metadata": {
        "id": "b3S5JIInlIF3"
      }
    },
    {
      "cell_type": "markdown",
      "source": [
        "Menambah item memiliki langkah yang sama dengan mengubah item. Bedanya, key yang dimasukkan adalah key baru yang belum ada di dalam dictionary. Sintaksis yang digunakan adalah (variabel[key_baru]) = value_baru."
      ],
      "metadata": {
        "id": "9x0niqH4lK2e"
      }
    },
    {
      "cell_type": "code",
      "source": [
        "Menteri = {\"Nama\" : \"Budi\", \"Umur\" : 50}\n",
        "Menteri[\"Kementerian\"] = \"Setneg\"\n",
        "print(Menteri)"
      ],
      "metadata": {
        "colab": {
          "base_uri": "https://localhost:8080/"
        },
        "id": "4Zc4a4OKkhI-",
        "outputId": "4991b683-f074-4ca6-c644-6725d4dc8914"
      },
      "execution_count": 17,
      "outputs": [
        {
          "output_type": "stream",
          "name": "stdout",
          "text": [
            "{'Nama': 'Budi', 'Umur': 50, 'Kementerian': 'Setneg'}\n"
          ]
        }
      ]
    },
    {
      "cell_type": "markdown",
      "source": [
        "#**Menghapus item**"
      ],
      "metadata": {
        "id": "O1LboYLpl4_9"
      }
    },
    {
      "cell_type": "markdown",
      "source": [
        "Untuk menghapus item dalam dictionary, kita menggunakan fungsi .pop dengan sintaksis (variabel).pop(key_yang_ingin_dihapus)."
      ],
      "metadata": {
        "id": "SDLQk0DMl8WU"
      }
    },
    {
      "cell_type": "code",
      "source": [
        "Menteri = {\"Nama\" : \"Budi\", \"Umur\" : 50, \"Kementerian\": \"Setneg\"}\n",
        "print(Menteri.pop(\"Kementerian\"))"
      ],
      "metadata": {
        "colab": {
          "base_uri": "https://localhost:8080/"
        },
        "id": "wevVUFmgmNQc",
        "outputId": "5a760457-8af3-4eed-c79f-470c0e73e364"
      },
      "execution_count": 21,
      "outputs": [
        {
          "output_type": "stream",
          "name": "stdout",
          "text": [
            "Setneg\n"
          ]
        }
      ]
    },
    {
      "cell_type": "code",
      "source": [
        "#Contoh cara menghapus pada Dictionary Phyton\n",
        "dict = {'Name': 'Zara', 'Age': 7, 'Class': 'Frist'}\n",
        "\n",
        "del dict['Name'] #Hapus entri dengan key 'Name'\n",
        "dict.clear() #Hapus semua entri di dict\n",
        "del dict #Hapus dictionary yang sudah ada\n",
        "\n",
        "print(\"dict['Age']: \", dict['Age'])\n",
        "print(\"dict['School']: \", dict['School'])"
      ],
      "metadata": {
        "colab": {
          "base_uri": "https://localhost:8080/"
        },
        "id": "FHswk7bMmrqT",
        "outputId": "1f82206f-4147-454b-966a-235f0a315a16"
      },
      "execution_count": 22,
      "outputs": [
        {
          "output_type": "stream",
          "name": "stdout",
          "text": [
            "dict['Age']:  dict['Age']\n",
            "dict['School']:  dict['School']\n"
          ]
        }
      ]
    }
  ]
}