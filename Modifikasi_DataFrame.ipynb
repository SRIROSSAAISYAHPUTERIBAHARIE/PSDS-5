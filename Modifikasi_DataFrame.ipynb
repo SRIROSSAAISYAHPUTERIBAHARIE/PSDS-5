{
  "nbformat": 4,
  "nbformat_minor": 0,
  "metadata": {
    "colab": {
      "provenance": [],
      "authorship_tag": "ABX9TyMmL9TMyGTOYwp3dMD9MmBv",
      "include_colab_link": true
    },
    "kernelspec": {
      "name": "python3",
      "display_name": "Python 3"
    },
    "language_info": {
      "name": "python"
    }
  },
  "cells": [
    {
      "cell_type": "markdown",
      "metadata": {
        "id": "view-in-github",
        "colab_type": "text"
      },
      "source": [
        "<a href=\"https://colab.research.google.com/github/SRIROSSAAISYAHPUTERIBAHARIE/PSDS-5.0/blob/main/Modifikasi_DataFrame.ipynb\" target=\"_parent\"><img src=\"https://colab.research.google.com/assets/colab-badge.svg\" alt=\"Open In Colab\"/></a>"
      ]
    },
    {
      "cell_type": "markdown",
      "source": [
        "#**SRI ROSSA AISYAH PUTERI BAHARIE**\n",
        "#**2100015052**\n",
        "**PERTEMUAN 13**"
      ],
      "metadata": {
        "id": "ZLjXKkLIIBnD"
      }
    },
    {
      "cell_type": "markdown",
      "source": [
        "#**Penggabungan Series/DataFrame**"
      ],
      "metadata": {
        "id": "mwNdNP48ILh2"
      }
    },
    {
      "cell_type": "markdown",
      "source": [
        "Terdapat beberapa metode untuk menggabungkan Series/DataFrame di Pandas, yaitu :\n",
        "\n",
        "1.   Append\n",
        "2.   Concat\n",
        "3.   Merge\n",
        "4.   Join\n",
        "\n",
        "\n",
        "\n"
      ],
      "metadata": {
        "id": "Fid7rK-6IRsS"
      }
    },
    {
      "cell_type": "markdown",
      "source": [
        "#**Import Library**"
      ],
      "metadata": {
        "id": "5TvQAQ3pIpF-"
      }
    },
    {
      "cell_type": "markdown",
      "source": [
        "Import beberapa library berikut untuk digunakan di sepanjang notebook ini :"
      ],
      "metadata": {
        "id": "Qm-UbBUYItWu"
      }
    },
    {
      "cell_type": "code",
      "source": [
        "import pandas as pd"
      ],
      "metadata": {
        "id": "csoSQHGUI1vK"
      },
      "execution_count": 1,
      "outputs": []
    },
    {
      "cell_type": "markdown",
      "source": [
        "**Append**\n",
        "\n",
        "Method **.append()** dapat digunakan pada dataframe/series yang ditujukan untuk menambah row-nya saja."
      ],
      "metadata": {
        "id": "ly57TqUII5Jo"
      }
    },
    {
      "cell_type": "code",
      "source": [
        "#Membuat series of int (s1) dan series of string (s2)\n",
        "s1 = pd.Series([1, 2, 3, 4, 5, 6])\n",
        "s2 = pd.Series([\"a\", \"b\", \"c\", \"d\", \"e\", \"f\"])\n",
        "\n",
        "#Menerapkan Method append\n",
        "s1_append_s2 = s1.append(s2)\n",
        "print(\"Series - append:\\n\", s1_append_s2)"
      ],
      "metadata": {
        "colab": {
          "base_uri": "https://localhost:8080/"
        },
        "id": "0I5rc5gjJR28",
        "outputId": "c0947d3a-a6db-43dc-825b-b36b88fbcdd7"
      },
      "execution_count": 2,
      "outputs": [
        {
          "output_type": "stream",
          "name": "stdout",
          "text": [
            "Series - append:\n",
            " 0    1\n",
            "1    2\n",
            "2    3\n",
            "3    4\n",
            "4    5\n",
            "5    6\n",
            "0    a\n",
            "1    b\n",
            "2    c\n",
            "3    d\n",
            "4    e\n",
            "5    f\n",
            "dtype: object\n"
          ]
        },
        {
          "output_type": "stream",
          "name": "stderr",
          "text": [
            "<ipython-input-2-e8e4a9ce6dfa>:6: FutureWarning: The series.append method is deprecated and will be removed from pandas in a future version. Use pandas.concat instead.\n",
            "  s1_append_s2 = s1.append(s2)\n"
          ]
        }
      ]
    },
    {
      "cell_type": "markdown",
      "source": [
        "Untuk **DataFrame**"
      ],
      "metadata": {
        "id": "zk_KF8wRKBu6"
      }
    },
    {
      "cell_type": "code",
      "source": [
        "#Buat DataFrame df1 dan df2\n",
        "df1 = pd.DataFrame({'a':[1, 2],\n",
        "                    'b':[3, 4]})\n",
        "print(\"df1:\\n\", df1)\n",
        "df2 = pd.DataFrame({'b':[1, 2],\n",
        "                    'a':[3, 4]})\n",
        "print(\"df2:\\n\", df2)\n",
        "\n",
        "#Terapkan method append\n",
        "df1_append_df2 = df1.append(df2)\n",
        "print(\"DataFrame - append:\\n\", df1_append_df2)"
      ],
      "metadata": {
        "colab": {
          "base_uri": "https://localhost:8080/"
        },
        "id": "kD7lKYm4KEqF",
        "outputId": "dfe53c2f-52da-4ea5-8c0e-9b5207abbe23"
      },
      "execution_count": 3,
      "outputs": [
        {
          "output_type": "stream",
          "name": "stdout",
          "text": [
            "df1:\n",
            "    a  b\n",
            "0  1  3\n",
            "1  2  4\n",
            "df2:\n",
            "    b  a\n",
            "0  1  3\n",
            "1  2  4\n",
            "DataFrame - append:\n",
            "    a  b\n",
            "0  1  3\n",
            "1  2  4\n",
            "0  3  1\n",
            "1  4  2\n"
          ]
        },
        {
          "output_type": "stream",
          "name": "stderr",
          "text": [
            "<ipython-input-3-bc0383e9c43d>:10: FutureWarning: The frame.append method is deprecated and will be removed from pandas in a future version. Use pandas.concat instead.\n",
            "  df1_append_df2 = df1.append(df2)\n"
          ]
        }
      ]
    },
    {
      "cell_type": "markdown",
      "source": [
        "**Concat**\n",
        "\n",
        "Method **.concat()** dapat digunakan pada dataframe yang ditujukan untuk penggabungan baik dalam row-wise (dalam arah) atau column-wise."
      ],
      "metadata": {
        "id": "A7eGkY6SK8-8"
      }
    },
    {
      "cell_type": "code",
      "source": [
        "#Membuat dataframe df1 dan df2\n",
        "df1 = pd.DataFrame({'a':[1, 2],\n",
        "                    'b':[3, 4]})\n",
        "print(\"df1:\\n\", df1)\n",
        "df2 = pd.DataFrame({'b':[1, 2],\n",
        "                    'a':[3, 4]})\n",
        "print(\"df2:\\n\", df2)\n",
        "\n",
        "#Menerapkan method concat row-wise\n",
        "row_wise_concat = pd.concat([df1, df2])\n",
        "print(\"Row-wise - concat:\\n\", row_wise_concat)"
      ],
      "metadata": {
        "colab": {
          "base_uri": "https://localhost:8080/"
        },
        "id": "-ruZmBdZLVhI",
        "outputId": "4015e39e-5fdf-413b-85ec-bae55acd3c48"
      },
      "execution_count": 4,
      "outputs": [
        {
          "output_type": "stream",
          "name": "stdout",
          "text": [
            "df1:\n",
            "    a  b\n",
            "0  1  3\n",
            "1  2  4\n",
            "df2:\n",
            "    b  a\n",
            "0  1  3\n",
            "1  2  4\n",
            "Row-wise - concat:\n",
            "    a  b\n",
            "0  1  3\n",
            "1  2  4\n",
            "0  3  1\n",
            "1  4  2\n"
          ]
        }
      ]
    },
    {
      "cell_type": "markdown",
      "source": [
        "Untuk penerapan concat pada **column-wise**"
      ],
      "metadata": {
        "id": "e0746lHxMPR8"
      }
    },
    {
      "cell_type": "code",
      "source": [
        "#Terapkan method concat column-wise\n",
        "col_wise_concat = pd.concat([df1, df2], axis = 1)\n",
        "print(\"Column-wise - concat:\\n\", col_wise_concat)"
      ],
      "metadata": {
        "colab": {
          "base_uri": "https://localhost:8080/"
        },
        "id": "SBf7YUY2MWsQ",
        "outputId": "2b02f70e-b74c-4d7e-800e-60535668713e"
      },
      "execution_count": 5,
      "outputs": [
        {
          "output_type": "stream",
          "name": "stdout",
          "text": [
            "Column-wise - concat:\n",
            "    a  b  b  a\n",
            "0  1  3  1  3\n",
            "1  2  4  2  4\n"
          ]
        }
      ]
    },
    {
      "cell_type": "markdown",
      "source": [
        "Data juga menambahkan identifer dari dataframe untuk data yang ditambahkan."
      ],
      "metadata": {
        "id": "i2Q5F93yM14P"
      }
    },
    {
      "cell_type": "code",
      "source": [
        "#Penambahan identifier --> Membentuk hasil penggabungan multiindex\n",
        "multiindex_concat = pd.concat([df1, df2], axis = 0, keys = ['df1', 'df2'])\n",
        "print(\"Multiindex - concat:\\n\", multiindex_concat)"
      ],
      "metadata": {
        "colab": {
          "base_uri": "https://localhost:8080/"
        },
        "id": "Id9vGR2KNGwC",
        "outputId": "3de4a2ef-fffb-4832-e6ea-9c660c198e8a"
      },
      "execution_count": 6,
      "outputs": [
        {
          "output_type": "stream",
          "name": "stdout",
          "text": [
            "Multiindex - concat:\n",
            "        a  b\n",
            "df1 0  1  3\n",
            "    1  2  4\n",
            "df2 0  3  1\n",
            "    1  4  2\n"
          ]
        }
      ]
    },
    {
      "cell_type": "markdown",
      "source": [
        "**Merge**\n",
        "\n",
        "Method **.merge()** untuk menggabungkan Series/DataFrame yang bentuknya mirip dengan syntax join di SQL, specify left and right tables, join key dan how to join (left, right inner, full outer)."
      ],
      "metadata": {
        "id": "Q_IhhBe3PjdZ"
      }
    },
    {
      "cell_type": "code",
      "source": [
        "#Membuat DataFrame df1 dan df2\n",
        "df1 = pd.DataFrame({\n",
        "    'key' : ['k1', 'k2', 'k3', 'k4', 'k5'],\n",
        "    'val1' : [200, 500, 0, 500, 100],\n",
        "    'val2' : [30, 50, 100, 20, 10]\n",
        "})\n",
        "print(\"df1:\\n\", df1)\n",
        "df2 = pd.DataFrame({\n",
        "    'key' : ['k1', 'k3', 'k5', 'k7', 'k10'],\n",
        "    'val3' : [1, 2, 3, 4, 5],\n",
        "    'val4' : [6, 7, 8, 8, 10]\n",
        "})\n",
        "print(\"df2:\\n\", df2)"
      ],
      "metadata": {
        "colab": {
          "base_uri": "https://localhost:8080/"
        },
        "id": "66QpxcsaQKH1",
        "outputId": "70c647e4-57e2-4b2d-f5ba-385ee9100944"
      },
      "execution_count": 21,
      "outputs": [
        {
          "output_type": "stream",
          "name": "stdout",
          "text": [
            "df1:\n",
            "   key  val1  val2\n",
            "0  k1   200    30\n",
            "1  k2   500    50\n",
            "2  k3     0   100\n",
            "3  k4   500    20\n",
            "4  k5   100    10\n",
            "df2:\n",
            "    key  val3  val4\n",
            "0   k1     1     6\n",
            "1   k3     2     7\n",
            "2   k5     3     8\n",
            "3   k7     4     8\n",
            "4  k10     5    10\n"
          ]
        }
      ]
    },
    {
      "cell_type": "markdown",
      "source": [
        "pd.merge yang ekivalen dengan SQL **left join**"
      ],
      "metadata": {
        "id": "uQD7RnD9RRnP"
      }
    },
    {
      "cell_type": "code",
      "source": [
        "#Merge yang ekivalen dengan SQL left join\n",
        "merge_df_left = pd.merge(left = df1, right = df2, how = 'left', left_on = 'key', right_on = 'key')\n",
        "print('Merge - Left:\\n', merge_df_left)"
      ],
      "metadata": {
        "colab": {
          "base_uri": "https://localhost:8080/"
        },
        "id": "BCNGFMq9RZJT",
        "outputId": "9cae8585-a02d-48ad-ba8b-4aa467e47d3a"
      },
      "execution_count": 9,
      "outputs": [
        {
          "output_type": "stream",
          "name": "stdout",
          "text": [
            "Merge - Left:\n",
            "   key  val1_x  val2_x  val1_y  val2_y\n",
            "0  k1     200      30     1.0     6.0\n",
            "1  k2     500      50     NaN     NaN\n",
            "2  k3       0     100     2.0     7.0\n",
            "3  k4     500      20     NaN     NaN\n",
            "4  k5     100      10     3.0     8.0\n"
          ]
        }
      ]
    },
    {
      "cell_type": "markdown",
      "source": [
        "pd.merge yang ekivalen dengan SQL **right join**"
      ],
      "metadata": {
        "id": "EgHl9PhmSCX3"
      }
    },
    {
      "cell_type": "code",
      "source": [
        "#Merge yang ekivalen dengan SQL right join\n",
        "merge_df_right = pd.merge(left = df1, right = df2, how = 'right', left_on = 'key', right_on = 'key')\n",
        "print('Merge - Right:\\n', merge_df_right)"
      ],
      "metadata": {
        "colab": {
          "base_uri": "https://localhost:8080/"
        },
        "id": "y7xWbU3-SJMK",
        "outputId": "9a8e5b53-328e-4448-fc4d-e40cff3b6c75"
      },
      "execution_count": 10,
      "outputs": [
        {
          "output_type": "stream",
          "name": "stdout",
          "text": [
            "Merge - Right:\n",
            "    key  val1_x  val2_x  val1_y  val2_y\n",
            "0   k1   200.0    30.0       1       6\n",
            "1   k3     0.0   100.0       2       7\n",
            "2   k5   100.0    10.0       3       8\n",
            "3   k7     NaN     NaN       4       8\n",
            "4  k10     NaN     NaN       5      10\n"
          ]
        }
      ]
    },
    {
      "cell_type": "markdown",
      "source": [
        "pd.merge yang ekivalen dengan SQL **inner join**"
      ],
      "metadata": {
        "id": "m-G4ayOxSid_"
      }
    },
    {
      "cell_type": "code",
      "source": [
        "#Merge yang ekivalen dengan SQL inner join\n",
        "merge_df_inner = pd.merge(left = df1, right = df2, how = 'inner', left_on = 'key', right_on = 'key')\n",
        "print('Merge - Inner:\\n', merge_df_inner)"
      ],
      "metadata": {
        "colab": {
          "base_uri": "https://localhost:8080/"
        },
        "id": "x_U5qjv_SqR5",
        "outputId": "c1c2bfb6-b0d0-4284-db53-830acccf7c3d"
      },
      "execution_count": 11,
      "outputs": [
        {
          "output_type": "stream",
          "name": "stdout",
          "text": [
            "Merge - Inner:\n",
            "   key  val1_x  val2_x  val1_y  val2_y\n",
            "0  k1     200      30       1       6\n",
            "1  k3       0     100       2       7\n",
            "2  k5     100      10       3       8\n"
          ]
        }
      ]
    },
    {
      "cell_type": "markdown",
      "source": [
        "pd.merge yang ekivalen dengan SQL **outer join**"
      ],
      "metadata": {
        "id": "aU6zYCLYS7Gw"
      }
    },
    {
      "cell_type": "code",
      "source": [
        "#Merge yang ekivalen dengan SQL outer join\n",
        "merge_df_outer = pd.merge(left = df1, right = df2, how = 'outer', left_on = 'key', right_on = 'key')\n",
        "print('Merge - Outer:\\n', merge_df_outer)"
      ],
      "metadata": {
        "colab": {
          "base_uri": "https://localhost:8080/"
        },
        "id": "aeaIPpLNTClZ",
        "outputId": "c6fcf2b2-55f9-4628-ed65-ddc64cb1ed5c"
      },
      "execution_count": 12,
      "outputs": [
        {
          "output_type": "stream",
          "name": "stdout",
          "text": [
            "Merge - Outer:\n",
            "    key  val1_x  val2_x  val1_y  val2_y\n",
            "0   k1   200.0    30.0     1.0     6.0\n",
            "1   k2   500.0    50.0     NaN     NaN\n",
            "2   k3     0.0   100.0     2.0     7.0\n",
            "3   k4   500.0    20.0     NaN     NaN\n",
            "4   k5   100.0    10.0     3.0     8.0\n",
            "5   k7     NaN     NaN     4.0     8.0\n",
            "6  k10     NaN     NaN     5.0    10.0\n"
          ]
        }
      ]
    },
    {
      "cell_type": "markdown",
      "source": [
        "Bagaimana jika salah satu dataframe yang akan digabungkan tersebut memiliki multiindex?"
      ],
      "metadata": {
        "id": "4fDKcyPmTOX_"
      }
    },
    {
      "cell_type": "code",
      "source": [
        "#Membuat DataFrame df1 dan df2\n",
        "df1 = pd.DataFrame({\n",
        "    'key' : ['k1', 'k2', 'k3', 'k4', 'k5'],\n",
        "    'val1' : [200, 500, 0, 500, 100],\n",
        "    'val2' : [30, 50, 100, 20, 10]\n",
        "}).set_index(['key', 'val2'])\n",
        "print(\"DataFrame 1:\\n\", df1)\n",
        "df2 = pd.DataFrame({\n",
        "    'key' : ['k1', 'k3', 'k5', 'k7', 'k10'],\n",
        "    'val3' : [1, 2, 3, 4, 5],\n",
        "    'val4' : [6, 7, 8, 8, 10]\n",
        "}).set_index(['key', 'val3'])\n",
        "print(\"DataFrame 2 :\\n\", df2)"
      ],
      "metadata": {
        "colab": {
          "base_uri": "https://localhost:8080/"
        },
        "id": "bb1GjEsyT84W",
        "outputId": "8161956b-eabb-4162-dfe0-1d9612f9c85a"
      },
      "execution_count": 20,
      "outputs": [
        {
          "output_type": "stream",
          "name": "stdout",
          "text": [
            "DataFrame 1:\n",
            "           val1\n",
            "key val2      \n",
            "k1  30     200\n",
            "k2  50     500\n",
            "k3  100      0\n",
            "k4  20     500\n",
            "k5  10     100\n",
            "DataFrame 2 :\n",
            "           val4\n",
            "key val3      \n",
            "k1  1        6\n",
            "k3  2        7\n",
            "k5  3        8\n",
            "k7  4        8\n",
            "k10 5       10\n"
          ]
        }
      ]
    },
    {
      "cell_type": "markdown",
      "source": [
        "Jika digabungkan secara langsung seperti yang telah dilakukan pada bagian sebelumnya."
      ],
      "metadata": {
        "id": "kpYWcHkEVG_K"
      }
    },
    {
      "cell_type": "code",
      "source": [
        "#Merge dataframe yang memiliki multi index\n",
        "#df_merge = pd.merge(df1, df2)\n",
        "#Print('Merging dataframe:\\n', df_merge)\n",
        "#Merge dataframe yang memiliki multi index\n",
        "df_merge = pd.merge(df1.reset_index(), df2.reset_index())\n",
        "print('Merging dataframe:\\n', df_merge)"
      ],
      "metadata": {
        "colab": {
          "base_uri": "https://localhost:8080/"
        },
        "id": "wLLr4IfjVNK2",
        "outputId": "d801838d-74ba-444b-94b6-0eaa07622827"
      },
      "execution_count": 19,
      "outputs": [
        {
          "output_type": "stream",
          "name": "stdout",
          "text": [
            "Merging dataframe:\n",
            " Empty DataFrame\n",
            "Columns: [key, val2, val1]\n",
            "Index: []\n"
          ]
        }
      ]
    },
    {
      "cell_type": "markdown",
      "source": [
        "**Join**\n",
        "\n",
        "Method **.join()** digunakan pada dataframe untuk menggabungkan kedua data dengan set index pada kedua tabel tersebut sebagai join key. Tanpa index, hal ini tidak akan berhasil."
      ],
      "metadata": {
        "id": "kQQbUZ9jWbOe"
      }
    },
    {
      "cell_type": "code",
      "source": [
        "#Buat dataframe df1 dan df2\n",
        "df1 = pd.DataFrame({\n",
        "    'key' : ['k1', 'k2', 'k3', 'k4', 'k5'],\n",
        "    'val1' : [200, 500, 0, 500, 100],\n",
        "    'val2' : [30, 50, 100, 20, 10]\n",
        "})\n",
        "df2 = pd.DataFrame({\n",
        "    'key' : ['k1', 'k3', 'k5', 'k7', 'k10'],\n",
        "    'val3' : [1, 2, 3, 4, 5],\n",
        "    'val4' : [6, 7, 8, 8, 10]\n",
        "})\n",
        "#Penerapan join dengan menggunakan set_index dan keyword how\n",
        "#df1.join(df2)\n",
        "#<-- akan error"
      ],
      "metadata": {
        "id": "4XNPE89uWyOe"
      },
      "execution_count": 22,
      "outputs": []
    },
    {
      "cell_type": "code",
      "source": [
        "print(df1.set_index('key').join(df2.set_index('key')))"
      ],
      "metadata": {
        "colab": {
          "base_uri": "https://localhost:8080/"
        },
        "id": "QJ3Ivv9KXj55",
        "outputId": "154b6b42-a72b-40a4-d32a-f8273e694889"
      },
      "execution_count": 24,
      "outputs": [
        {
          "output_type": "stream",
          "name": "stdout",
          "text": [
            "     val1  val2  val3  val4\n",
            "key                        \n",
            "k1    200    30   1.0   6.0\n",
            "k2    500    50   NaN   NaN\n",
            "k3      0   100   2.0   7.0\n",
            "k4    500    20   NaN   NaN\n",
            "k5    100    10   3.0   8.0\n"
          ]
        }
      ]
    },
    {
      "cell_type": "markdown",
      "source": [
        "Untuk tipe join yang lain (contoh = inner), harus menspecify keyword how = 'inner' seperti yang dicontohkan berikut:"
      ],
      "metadata": {
        "id": "LOJgYeE_XyGv"
      }
    },
    {
      "cell_type": "code",
      "source": [
        "join_df = df1.set_index('key').join(df2.set_index('key'), how = 'inner')\n",
        "print(join_df)"
      ],
      "metadata": {
        "colab": {
          "base_uri": "https://localhost:8080/"
        },
        "id": "nfnuL4KvX_08",
        "outputId": "7d2e0815-e8d3-4190-909e-a505e8a77ec5"
      },
      "execution_count": 25,
      "outputs": [
        {
          "output_type": "stream",
          "name": "stdout",
          "text": [
            "     val1  val2  val3  val4\n",
            "key                        \n",
            "k1    200    30     1     6\n",
            "k3      0   100     2     7\n",
            "k5    100    10     3     8\n"
          ]
        }
      ]
    }
  ]
}