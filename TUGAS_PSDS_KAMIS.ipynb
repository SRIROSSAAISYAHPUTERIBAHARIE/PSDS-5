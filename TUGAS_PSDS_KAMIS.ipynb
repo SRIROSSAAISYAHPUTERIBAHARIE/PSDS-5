{
  "nbformat": 4,
  "nbformat_minor": 0,
  "metadata": {
    "colab": {
      "provenance": []
    },
    "kernelspec": {
      "name": "python3",
      "display_name": "Python 3"
    },
    "language_info": {
      "name": "python"
    }
  },
  "cells": [
    {
      "cell_type": "markdown",
      "source": [
        "#**SRI ROSSA AISYAH PUTERI BAHARIE**\n",
        "#**2100015052**"
      ],
      "metadata": {
        "id": "i77kwFwACPl1"
      }
    },
    {
      "cell_type": "markdown",
      "source": [
        "#PENGENALAN PHYTON"
      ],
      "metadata": {
        "id": "sx7Tm8ApCk-1"
      }
    },
    {
      "cell_type": "markdown",
      "source": [
        "Phyton adalah bahasa pemrograman tingkat tinggi dengan dynamic semantics, bersifat object oriented, dan interpretatif. Bahasa pemrograman ini fokus dikembangkan pada keterbacaan bahasa pemrograman.\n",
        "\n",
        "\n",
        "1.   **Bahasa Pemrograman Tingkat Tinggi (High Level Programming)** artinya sintaks kode lebih mudah ditafsirkan oleh manusia.\n",
        "2.   **Interpretatif** artinya bahasa ini memerlukan intrepeter atau penerjemah. Ini memungkinkan kita untuk menggunakan bahasa yang lebih mudah kita pahami.\n",
        "3.  **Object Oriented** berarti bahwa bahasa pemrograman ini berorientasi kepada objek. Hal ini membuat phyton lebih mudah untuk dikembangkan.\n",
        "4.  **Dynamic Semantic** phyton secara otomatis akan menyesuaikan tipe dari suatu variable berdasarkan inputnya.\n",
        "\n"
      ],
      "metadata": {
        "id": "9Ndy3v7iC2YI"
      }
    },
    {
      "cell_type": "markdown",
      "source": [
        "#Mengapa Phyton?"
      ],
      "metadata": {
        "id": "qtXEHjpfE8uJ"
      }
    },
    {
      "cell_type": "markdown",
      "source": [
        "\n",
        "\n",
        "1.   Mudah dipahami\n",
        "2.   Grafis & Open Source\n",
        "3.   Dinamis\n",
        "4.   Memiliki Library terlengkap untuk Data Sains\n",
        "\n"
      ],
      "metadata": {
        "id": "Whc4T1vAFD4y"
      }
    },
    {
      "cell_type": "markdown",
      "source": [
        "#Struktur Program Pada Phyton"
      ],
      "metadata": {
        "id": "4jB9CYASFbwg"
      }
    },
    {
      "cell_type": "markdown",
      "source": [
        "Phyton pada umumnya terdiri dari :\n",
        "1.   **Statement**\n",
        "\n"
      ],
      "metadata": {
        "id": "0wnbuHMCFgyh"
      }
    },
    {
      "cell_type": "code",
      "source": [
        "print(\"Belajar Phyton menyenangkan\")\n",
        "print(\"Hallo Dunia\")"
      ],
      "metadata": {
        "colab": {
          "base_uri": "https://localhost:8080/"
        },
        "id": "8cFV8w2LFzBU",
        "outputId": "225833e2-389e-4577-b8e9-a83f84eff7a7"
      },
      "execution_count": 1,
      "outputs": [
        {
          "output_type": "stream",
          "name": "stdout",
          "text": [
            "Belajar Phyton menyenangkan\n",
            "Hallo Dunia\n"
          ]
        }
      ]
    },
    {
      "cell_type": "markdown",
      "source": [
        "2.   **Variables**\n",
        "\n"
      ],
      "metadata": {
        "id": "lqz27h6GGEaW"
      }
    },
    {
      "cell_type": "code",
      "source": [
        "Bilangan1 = 5\n",
        "Bilangan2 = 10\n",
        "Kalimat = \"Pejuang Data 3\""
      ],
      "metadata": {
        "id": "TGMHAoB9GLJg"
      },
      "execution_count": 2,
      "outputs": []
    },
    {
      "cell_type": "markdown",
      "source": [
        "3.    **Literals** : Simbol-simbol yang dapat kita gunakan untuk mengisi suatu variable."
      ],
      "metadata": {
        "id": "hKggRJYVGVyJ"
      }
    },
    {
      "cell_type": "markdown",
      "source": [
        "4. **Operators** : Simbol-simbol yang dapat digunakan untuk mengubah nilai dari suatu variable dengan melibatkan satu atau lebih variable dan literal."
      ],
      "metadata": {
        "id": "KUEQTQXVGpnh"
      }
    },
    {
      "cell_type": "code",
      "source": [
        "Bilangan1 + Bilangan2"
      ],
      "metadata": {
        "colab": {
          "base_uri": "https://localhost:8080/"
        },
        "id": "99y0Jif_Gdrm",
        "outputId": "cd625566-5492-4997-bed9-a3e799040c26"
      },
      "execution_count": 3,
      "outputs": [
        {
          "output_type": "execute_result",
          "data": {
            "text/plain": [
              "15"
            ]
          },
          "metadata": {},
          "execution_count": 3
        }
      ]
    },
    {
      "cell_type": "markdown",
      "source": [
        "5. **Reserved Words** : Kumpulan kata-kata yang memiliki makna khusus dalam bahasa pemrograman Phyton. Kata false, return, dan or merupakan contoh dari reserved words."
      ],
      "metadata": {
        "id": "n4uuhJoDHE4_"
      }
    },
    {
      "cell_type": "markdown",
      "source": [
        "6. **Whitespace** : Pada bahasa Phyton, spasi dan tab memiliki makna khusus untuk menandai serangkaian blok dalam kode Phyton."
      ],
      "metadata": {
        "id": "MTH21pb3HnBa"
      }
    },
    {
      "cell_type": "markdown",
      "source": [
        "7. **Comments** : Comments merupakan sekumpulan teks yang dituliskan di dalam sebuah program yang tidak akan mempengaruhi hasil dari sebuah pemrograman.\n",
        "\n",
        "Terdapat dua jenis Comments di dalam Phyton, yaitu :\n",
        "\n",
        "a. **Single Line Comment** (Comments dalam satu baris) seperti contoh berikut :"
      ],
      "metadata": {
        "id": "8EGYGhnGH3Ow"
      }
    },
    {
      "cell_type": "code",
      "source": [
        "#Ini adalah Comment\n",
        "print(\"Belajar Phyton\")"
      ],
      "metadata": {
        "colab": {
          "base_uri": "https://localhost:8080/"
        },
        "id": "UcCTdt2qIwZ1",
        "outputId": "782a2c5b-1ca8-44f2-fff9-35d3e894defd"
      },
      "execution_count": 4,
      "outputs": [
        {
          "output_type": "stream",
          "name": "stdout",
          "text": [
            "Belajar Phyton\n"
          ]
        }
      ]
    },
    {
      "cell_type": "markdown",
      "source": [
        "b. **Multi Line Comment** (Comments dalam beberapa baris) yang dapat dilakukan seperti pada contoh berikut :"
      ],
      "metadata": {
        "id": "M4jRmd4SIJ7A"
      }
    },
    {
      "cell_type": "code",
      "source": [
        "'''\n",
        "Ini adalah komentar panjang\n",
        "Bisa digunakan untuk memberikan penjelasan\n",
        "panjang pada sell kode Phyton,\n",
        "Misal dokumentasi program, spesifikasi\n",
        "Input output atau lainnya\n",
        "'''\n",
        "print(\"Belajar Phyton menyenangkan\")"
      ],
      "metadata": {
        "colab": {
          "base_uri": "https://localhost:8080/"
        },
        "id": "6AU9UYokJJnZ",
        "outputId": "6e7c895f-2f84-45e0-f1f3-3621f0cb7e18"
      },
      "execution_count": 8,
      "outputs": [
        {
          "output_type": "stream",
          "name": "stdout",
          "text": [
            "Belajar Phyton menyenangkan\n"
          ]
        }
      ]
    }
  ]
}