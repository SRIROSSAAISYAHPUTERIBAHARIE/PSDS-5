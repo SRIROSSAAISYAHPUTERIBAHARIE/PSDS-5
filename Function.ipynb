{
  "nbformat": 4,
  "nbformat_minor": 0,
  "metadata": {
    "colab": {
      "provenance": [],
      "authorship_tag": "ABX9TyMIsCPOyreYqDCUhQ32M3wK",
      "include_colab_link": true
    },
    "kernelspec": {
      "name": "python3",
      "display_name": "Python 3"
    },
    "language_info": {
      "name": "python"
    }
  },
  "cells": [
    {
      "cell_type": "markdown",
      "metadata": {
        "id": "view-in-github",
        "colab_type": "text"
      },
      "source": [
        "<a href=\"https://colab.research.google.com/github/SRIROSSAAISYAHPUTERIBAHARIE/PSDS-5.0/blob/main/Function.ipynb\" target=\"_parent\"><img src=\"https://colab.research.google.com/assets/colab-badge.svg\" alt=\"Open In Colab\"/></a>"
      ]
    },
    {
      "cell_type": "markdown",
      "source": [
        "#**SRI ROSSA AISYAH PUTERI BAHARIE**\n",
        "#**2100015052**\n",
        "**PERTEMUAN 11**"
      ],
      "metadata": {
        "id": "yjZPZP4Yd4Ho"
      }
    },
    {
      "cell_type": "markdown",
      "source": [
        "#**FUNCTION**"
      ],
      "metadata": {
        "id": "7x_aZpMQekZy"
      }
    },
    {
      "cell_type": "markdown",
      "source": [
        "Function (fungsi) adalah sebuah blok statment yang hanya akan dijalankan saat ia di panggil.\n",
        "\n",
        "Fungsi len() untuk mengukur jumlah elemen dalam sebuah list dan fungsi print() untuk menampilkan pesan pada layar konsol merupakan contoh dari bentuk fungsi yang telah disediakan oleh bahasa pemrograman Phyton dengan kata lain built-in function. Selain fungsi yang telah disediakan oleh Phyton, Phyton mengizinkan untuk mendeklarasikan fungsi dalam kode yang dituliskan yang dikenal dengan user defined function."
      ],
      "metadata": {
        "id": "tG5elrtHenaJ"
      }
    },
    {
      "cell_type": "code",
      "source": [
        "def nama_fungsi{argument}:\n",
        "  statment_1\n",
        "  -\n",
        "  statment_n\n",
        "  return returned_value"
      ],
      "metadata": {
        "id": "3UTOg1YYjgLb"
      },
      "execution_count": null,
      "outputs": []
    },
    {
      "cell_type": "markdown",
      "source": [
        "\n",
        "\n",
        "*   Nama_fungsi adalah untuk fungsi yang anda definisikan, memiliki arturan seperti penamaan variabel\n",
        "*   Argument adalah variabel masukkan ke fungsi, biasa tanpa variabel, satu variabel atau lebih\n",
        "*   Statment_1 ... statment_n adalah algoritma yang telah anda transfer dalam bahasa Phyton yang merupakan inti dari fungsi yang anda definisikan. Seluruh statment adalah menjorok (indent) ke dalam seperti yang pernah anda pelajari pada conditioning dan looping\n",
        "*   return_value adalah variabel output dari fungsi anda, bisa tanpa variabel, satu variabel atau lebih\n",
        "\n",
        "\n",
        "\n"
      ],
      "metadata": {
        "id": "TJ-ThPfjkKho"
      }
    },
    {
      "cell_type": "markdown",
      "source": [
        "#**Argumen dan Parameter**"
      ],
      "metadata": {
        "id": "z7aKDIlhlkVA"
      }
    },
    {
      "cell_type": "markdown",
      "source": [
        "\n",
        "\n",
        "*   Parameter adalah variabel yang digunakan dalam deklarasi fungsi\n",
        "*   Argumen adalah nilai yang diberikan saat pemanggilan fungsi\n",
        "\n"
      ],
      "metadata": {
        "id": "2FIxSzgxloqN"
      }
    },
    {
      "cell_type": "code",
      "source": [
        "def print_nama(nama): #'Nama' adalah parameter\n",
        "    print(nama)\n",
        "\n",
        "print_nama('Budi') #'Budi' adalah argumen"
      ],
      "metadata": {
        "colab": {
          "base_uri": "https://localhost:8080/"
        },
        "id": "nCJrpNhVPcBD",
        "outputId": "08b2a030-97ef-44e0-f526-cdb7b03de0d8"
      },
      "execution_count": 1,
      "outputs": [
        {
          "output_type": "stream",
          "name": "stdout",
          "text": [
            "Budi\n"
          ]
        }
      ]
    },
    {
      "cell_type": "markdown",
      "source": [
        "#**Argumen Posisi dan Kata Kunci**"
      ],
      "metadata": {
        "id": "nrhH6sQVQPCz"
      }
    },
    {
      "cell_type": "markdown",
      "source": [
        "Kita bisa menyatakan argumen posisi atau kata kunci. Beberapa manfaat argumen kata kunci dapat berupa:\n",
        "*   Kita dapat menyebut argumen dengan mereka untuk memperjelas apa yang mereka wakili\n",
        "*   Kita dapat mengatur ulang argumen dengan cara membuatnya paling mudah dibaca\n",
        "\n"
      ],
      "metadata": {
        "id": "XEPMiIZgQUAz"
      }
    },
    {
      "cell_type": "code",
      "source": [
        "def angka(a, b, c):\n",
        "  print(a, b, c)\n",
        "\n",
        "#Argumen posisi\n",
        "#Argumen berdasarkan posisinya\n",
        "angka(1, 2, 3)\n",
        "\n",
        "#Argumen berdasarkan kata kuncinya\n",
        "angka(a=1, b=2, c=3)\n",
        "angka(c=3, b=2, a=1)\n",
        "\n",
        "#Catatan : jika sudah diberi kunci maka urutan tidak menjadi penting\n",
        "#Campuran antara argumen posisi dan argumen kata kunci\n",
        "angka(1, b=2, c=3)\n",
        "\n",
        "#Ini tidak diijinkan:\n",
        "#foo(1, b=2, 3) #argumen posisional setelah argumen kunci\n",
        "#foo(1, b=2, a=3) #terdapat dua nilai unutk argumen kunci 'a'"
      ],
      "metadata": {
        "colab": {
          "base_uri": "https://localhost:8080/"
        },
        "id": "0zmtVIm3Q0Z0",
        "outputId": "bf6864ef-ff96-4983-939c-c4f92a8683b0"
      },
      "execution_count": 2,
      "outputs": [
        {
          "output_type": "stream",
          "name": "stdout",
          "text": [
            "1 2 3\n",
            "1 2 3\n",
            "1 2 3\n",
            "1 2 3\n"
          ]
        }
      ]
    },
    {
      "cell_type": "markdown",
      "source": [
        "#**Argumen Default**"
      ],
      "metadata": {
        "id": "Gdr58TQXSHPD"
      }
    },
    {
      "cell_type": "markdown",
      "source": [
        "Fungsi dapat memilki argumen default dengan nilai yang telah ditentukan sebelumnya. Argumen ini dapat ditinggalkan dan nilai default kemudian diteruskan ke fungsi, atau argumen dapat diubah dengan nilai yang berbeda. Perhatikan bahwa argumen default harus ditentukan sebagai **parameter terakhir** dalam suatu fungsi."
      ],
      "metadata": {
        "id": "fCK8YLVnSKv0"
      }
    },
    {
      "cell_type": "code",
      "source": [
        "#Argumen default\n",
        "def angka2(a, b, c, d=4):\n",
        "  print(a, b, c, d)\n",
        "angka2(1, 2, 3, 4)\n",
        "angka2(1, b=2, c=3, d=100)\n",
        "#Argumen default harus diletakkan terakhir"
      ],
      "metadata": {
        "colab": {
          "base_uri": "https://localhost:8080/"
        },
        "id": "koY-otw_SzFG",
        "outputId": "c5b658da-654d-4940-cdb4-cdcceeba0074"
      },
      "execution_count": 3,
      "outputs": [
        {
          "output_type": "stream",
          "name": "stdout",
          "text": [
            "1 2 3 4\n",
            "1 2 3 100\n"
          ]
        }
      ]
    },
    {
      "cell_type": "markdown",
      "source": [
        "#**Praktik Membuat Fungsi**"
      ],
      "metadata": {
        "id": "gbvW051VUOrR"
      }
    },
    {
      "cell_type": "code",
      "source": [
        "x = 1\n",
        "y = 2\n",
        "x*y"
      ],
      "metadata": {
        "colab": {
          "base_uri": "https://localhost:8080/"
        },
        "id": "iolWewC5US1h",
        "outputId": "42d0da2a-f792-4577-ab6b-8944a59ff3a8"
      },
      "execution_count": 4,
      "outputs": [
        {
          "output_type": "execute_result",
          "data": {
            "text/plain": [
              "2"
            ]
          },
          "metadata": {},
          "execution_count": 4
        }
      ]
    },
    {
      "cell_type": "code",
      "source": [
        "def penjumlahan(x, y): #Input\n",
        "  a=x+y     #proses\n",
        "  return a  #outpu\n",
        "\n",
        "penjumlahan(1, 2)   #Menggunakan fungsi"
      ],
      "metadata": {
        "colab": {
          "base_uri": "https://localhost:8080/"
        },
        "id": "1Z4n_pfyUXKI",
        "outputId": "ecbaac5e-292d-45db-8eb3-46d34e8fedf0"
      },
      "execution_count": 5,
      "outputs": [
        {
          "output_type": "execute_result",
          "data": {
            "text/plain": [
              "3"
            ]
          },
          "metadata": {},
          "execution_count": 5
        }
      ]
    },
    {
      "cell_type": "markdown",
      "source": [
        "**Penjumlahan yang memungkinkan untuk tiga bilangan**"
      ],
      "metadata": {
        "id": "HW-fhGIBUvwZ"
      }
    },
    {
      "cell_type": "code",
      "source": [
        "def penjumlahan(x, y, z=None):\n",
        "  if (z==None):\n",
        "    return x+y\n",
        "  else:\n",
        "    return x+y+z\n",
        "\n",
        "print(penjumlahan(1, 2))\n",
        "print(penjumlahan(1, 2, 3))"
      ],
      "metadata": {
        "colab": {
          "base_uri": "https://localhost:8080/"
        },
        "id": "qlP6qEMwU1Ro",
        "outputId": "6e1ea44f-5ea0-42e7-fdea-45b4e9ed4675"
      },
      "execution_count": 6,
      "outputs": [
        {
          "output_type": "stream",
          "name": "stdout",
          "text": [
            "3\n",
            "6\n"
          ]
        }
      ]
    },
    {
      "cell_type": "markdown",
      "source": [
        "**Menyimpan Hasil fungsi dalam variabel**"
      ],
      "metadata": {
        "id": "8ucVXBKcVO3C"
      }
    },
    {
      "cell_type": "code",
      "source": [
        "def penjumlahan(x, y):\n",
        "  return x+y\n",
        "\n",
        "a = penjumlahan\n",
        "a(1, 2)"
      ],
      "metadata": {
        "colab": {
          "base_uri": "https://localhost:8080/"
        },
        "id": "IcPV4ur3VTxn",
        "outputId": "279bc8ca-9361-4998-e95d-f4f6ccdbee2b"
      },
      "execution_count": 7,
      "outputs": [
        {
          "output_type": "execute_result",
          "data": {
            "text/plain": [
              "3"
            ]
          },
          "metadata": {},
          "execution_count": 7
        }
      ]
    },
    {
      "cell_type": "markdown",
      "source": [
        "#**Latihan 1**"
      ],
      "metadata": {
        "id": "xOFBXO3BVoZv"
      }
    },
    {
      "cell_type": "markdown",
      "source": [
        "Buatlah function phytagoras dengan input argumennya panjang tinggi dan alas segitiga untuk menghasilkan output nilai panjang sisi miring"
      ],
      "metadata": {
        "id": "zyeD7menVrg9"
      }
    },
    {
      "cell_type": "code",
      "source": [
        "import math\n",
        "\n",
        "def phytagoras(panjang_tinggi, panjang_alas):\n",
        "    panjang_miring = math.sqrt((panjang_tinggi ** 2) + (panjang_alas ** 2))\n",
        "    return panjang_miring\n",
        "\n",
        "# Contoh penggunaan fungsi\n",
        "tinggi = 2\n",
        "alas = 4\n",
        "hasil_miring = phytagoras(tinggi, alas)\n",
        "print(\"Panjang sisi miring segitiga adalah:\", hasil_miring)"
      ],
      "metadata": {
        "colab": {
          "base_uri": "https://localhost:8080/"
        },
        "id": "sUKhXQjKVuAu",
        "outputId": "e9b59a43-d2c1-44f6-80df-af98abd595ed"
      },
      "execution_count": 8,
      "outputs": [
        {
          "output_type": "stream",
          "name": "stdout",
          "text": [
            "Panjang sisi miring segitiga adalah: 4.47213595499958\n"
          ]
        }
      ]
    },
    {
      "cell_type": "markdown",
      "source": [
        "#**Latihan 2**"
      ],
      "metadata": {
        "id": "uBdpwyflVyq7"
      }
    },
    {
      "cell_type": "markdown",
      "source": [
        "Buatlah function luas permukaan balok dengan argumennya panjang, lebar, dan tinggi dari balok untuk menghasilkan output nilai luas permukaan blok tersebut"
      ],
      "metadata": {
        "id": "nm6TlTCmV1N-"
      }
    },
    {
      "cell_type": "code",
      "source": [
        "def luas_permukaan_balok(panjang, lebar, tinggi):\n",
        "  luas_permukaan_balok = (2*(panjang*lebar+panjang*tinggi+lebar*tinggi))\n",
        "  return luas_permukaan_balok\n",
        "\n",
        "#Eksekusi penggunaan fungsi\n",
        "panjang = int(input(\"panjang :\"))\n",
        "lebar = int(input(\"lebar :\"))\n",
        "tinggi = int(input(\"tinggi :\"))\n",
        "luas_permukaan_balok = luas_permukaan_balok(panjang, lebar, tinggi)\n",
        "print(\"luas permukaan baloknya adalah :\", luas_permukaan_balok)"
      ],
      "metadata": {
        "colab": {
          "base_uri": "https://localhost:8080/"
        },
        "id": "lJLYCfi7V6Ah",
        "outputId": "df512e7b-ac37-456d-a523-fc819d1e6500"
      },
      "execution_count": 9,
      "outputs": [
        {
          "output_type": "stream",
          "name": "stdout",
          "text": [
            "panjang :24\n",
            "lebar :10\n",
            "tinggi :5\n",
            "luas permukaan baloknya adalah : 820\n"
          ]
        }
      ]
    }
  ]
}