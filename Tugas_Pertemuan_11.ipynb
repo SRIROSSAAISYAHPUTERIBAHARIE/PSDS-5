{
  "nbformat": 4,
  "nbformat_minor": 0,
  "metadata": {
    "colab": {
      "provenance": [],
      "authorship_tag": "ABX9TyPtrOqvjf/MJHEwf1uFozh9",
      "include_colab_link": true
    },
    "kernelspec": {
      "name": "python3",
      "display_name": "Python 3"
    },
    "language_info": {
      "name": "python"
    }
  },
  "cells": [
    {
      "cell_type": "markdown",
      "metadata": {
        "id": "view-in-github",
        "colab_type": "text"
      },
      "source": [
        "<a href=\"https://colab.research.google.com/github/SRIROSSAAISYAHPUTERIBAHARIE/PSDS-5.0/blob/main/Tugas_Pertemuan_11.ipynb\" target=\"_parent\"><img src=\"https://colab.research.google.com/assets/colab-badge.svg\" alt=\"Open In Colab\"/></a>"
      ]
    },
    {
      "cell_type": "markdown",
      "source": [
        "#**SRI ROSSA AISYAH PUTERI BAHARIE**\n",
        "#**2100015052**\n",
        "**TUGAS LAMBDA**"
      ],
      "metadata": {
        "id": "tUveZl3_CnYM"
      }
    },
    {
      "cell_type": "markdown",
      "source": [
        "\n",
        "\n",
        "1.   Buat fungsi lambda untuk menghitung fungsi dari persegi panjang\n",
        "\n"
      ],
      "metadata": {
        "id": "9v6dW67yCt4S"
      }
    },
    {
      "cell_type": "code",
      "source": [
        "Luas = Panjang*Lebar\n",
        "Keliling = 2*(Panjang+Lebar)\n",
        "print(\"Menghitung Luas dan Keliling Persegi Panjang\")\n",
        "\n",
        "Panjang = float(input(\"Masukkan Panjang : \"))\n",
        "Lebar = float(input(\"Masukkan Lebar : \"))\n",
        "\n",
        "Luas = Panjang*Lebar\n",
        "Keliling = 2*(Panjang+Lebar)\n",
        "\n",
        "print(\"Luas Persegi Panjang : \", Luas)\n",
        "print(\"Keliling Persegi Panjang : \", Keliling)"
      ],
      "metadata": {
        "colab": {
          "base_uri": "https://localhost:8080/"
        },
        "id": "-3nd3v_dDb-h",
        "outputId": "f76befa2-bea8-4b43-836a-0f95718689c8"
      },
      "execution_count": 14,
      "outputs": [
        {
          "output_type": "stream",
          "name": "stdout",
          "text": [
            "Menghitung Luas dan Keliling Persegi Panjang\n",
            "Masukkan Panjang : 24\n",
            "Masukkan Lebar : 10\n",
            "Luas Persegi Panjang :  240.0\n",
            "Keliling Persegi Panjang :  68.0\n"
          ]
        }
      ]
    },
    {
      "cell_type": "code",
      "source": [
        "Luas_Persegi_Panjang = lambda Panjang, Lebar : Panjang*Lebar\n",
        "Panjang = 24\n",
        "Lebar = 10\n",
        "Luas = Luas_Persegi_Panjang(Panjang,Lebar)\n",
        "print(\"Luas Persegi Panjang : \", Luas)"
      ],
      "metadata": {
        "colab": {
          "base_uri": "https://localhost:8080/"
        },
        "id": "kq4PmuLMw6Iw",
        "outputId": "8bd542ea-1396-4e09-e80b-10b2385e911d"
      },
      "execution_count": 13,
      "outputs": [
        {
          "output_type": "stream",
          "name": "stdout",
          "text": [
            "Luas Persegi Panjang :  240\n"
          ]
        }
      ]
    },
    {
      "cell_type": "markdown",
      "source": [
        "\n",
        "2.   Buatlah fungsi lambda untuk menghitung luas dari segitiga\n",
        "\n"
      ],
      "metadata": {
        "id": "KzZ-EkFSDQlC"
      }
    },
    {
      "cell_type": "code",
      "source": [
        "a = float(input(\"Masukkan Panjang Alas : \"))\n",
        "t = float(input(\"Masukkan tinggi segitiga : \"))\n",
        "Luas = 0.5*a*t\n",
        "print(\"Luas segitiga adalah : \", Luas)"
      ],
      "metadata": {
        "colab": {
          "base_uri": "https://localhost:8080/"
        },
        "id": "xoImd-POFJu6",
        "outputId": "b1cd0b43-6501-480a-ebda-f90d1dd48d85"
      },
      "execution_count": 6,
      "outputs": [
        {
          "output_type": "stream",
          "name": "stdout",
          "text": [
            "Masukkan Panjang Alas : 24\n",
            "Masukkan tinggi segitiga : 10\n",
            "Luas segitiga adalah :  120.0\n"
          ]
        }
      ]
    },
    {
      "cell_type": "code",
      "source": [
        "Luas_Segitiga = lambda Alas, Tinggi : 0.5*Alas*Tinggi\n",
        "Alas = 24\n",
        "Tinggi = 10\n",
        "Luas = Luas_Segitiga(Alas,Tinggi)\n",
        "print(\"Luas Segitiga : \", Luas)"
      ],
      "metadata": {
        "colab": {
          "base_uri": "https://localhost:8080/"
        },
        "id": "I-aZ9DfbyOUX",
        "outputId": "e00e0e43-4c97-43e0-bfde-09840461d557"
      },
      "execution_count": 15,
      "outputs": [
        {
          "output_type": "stream",
          "name": "stdout",
          "text": [
            "Luas Segitiga :  120.0\n"
          ]
        }
      ]
    }
  ]
}