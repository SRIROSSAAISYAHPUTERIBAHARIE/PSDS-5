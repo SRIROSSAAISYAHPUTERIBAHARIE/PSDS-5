{
  "nbformat": 4,
  "nbformat_minor": 0,
  "metadata": {
    "colab": {
      "provenance": [],
      "authorship_tag": "ABX9TyORnU/XdDsh3fVwv2OJ9iTB",
      "include_colab_link": true
    },
    "kernelspec": {
      "name": "python3",
      "display_name": "Python 3"
    },
    "language_info": {
      "name": "python"
    }
  },
  "cells": [
    {
      "cell_type": "markdown",
      "metadata": {
        "id": "view-in-github",
        "colab_type": "text"
      },
      "source": [
        "<a href=\"https://colab.research.google.com/github/SRIROSSAAISYAHPUTERIBAHARIE/PSDS-5.0/blob/main/Lambda.ipynb\" target=\"_parent\"><img src=\"https://colab.research.google.com/assets/colab-badge.svg\" alt=\"Open In Colab\"/></a>"
      ]
    },
    {
      "cell_type": "markdown",
      "source": [
        "#**SRI ROSSA AISYAH PUTERI BAHARIE**\n",
        "#**2100015052**\n",
        "**LAMBDA**"
      ],
      "metadata": {
        "id": "mY3N4NdqlAhh"
      }
    },
    {
      "cell_type": "markdown",
      "source": [
        "#**Lambda**"
      ],
      "metadata": {
        "id": "wTNaddadnGxv"
      }
    },
    {
      "cell_type": "markdown",
      "source": [
        "Fungsi lambda adalah fungsi anonim ```one line``` yang didefinisikan tanpa nama. Fungsi lambda dapat mengambil sejumlah ```arguments```, tetapi hanya dapat memiliki satu ```expression```. Sementara fungsi normal didefinisikan menggunakan kata kunci ```def```, dalam phyton fungsi anonim didefinisikan menggunakan kata kunci lambda."
      ],
      "metadata": {
        "id": "KKlobgENlFpO"
      }
    },
    {
      "cell_type": "markdown",
      "source": [
        "Fungsi lambda digunakan ketika fungsi sederhana hanya digunakan sekali atau untuk waktu yang singkat dalam kode kita. Penggunaannya yang paling umum adalah sebagai argumen untuk fungsi tingkat tinggi (fungsi yang menggunakan fungsi lain sebagai argument)"
      ],
      "metadata": {
        "id": "4bRsT7Kklr6m"
      }
    },
    {
      "cell_type": "markdown",
      "source": [
        "Lambda epression di phyton adalah sebuah ekspressi untuk melihat fungsi"
      ],
      "metadata": {
        "id": "QdRLoc8LmE_A"
      }
    },
    {
      "cell_type": "markdown",
      "source": [
        "Lmabda sendiri berasal dari teori kalkulus, yakni Lambda Calculus yang dikenalkan oleh Alonzo Church di tahun 1930"
      ],
      "metadata": {
        "id": "ziqN1_Z-mPLS"
      }
    },
    {
      "cell_type": "markdown",
      "source": [
        "Berkat lambda, kita bisa membuat fungsi tanpa nama atau dikenal juga dengan anonymous function"
      ],
      "metadata": {
        "id": "xHi7Ivoam5Vn"
      }
    },
    {
      "cell_type": "markdown",
      "source": [],
      "metadata": {
        "id": "8vBIYDzvnDwd"
      }
    },
    {
      "cell_type": "markdown",
      "source": [
        "Lambda bisa memiliki lebih dari satu argumen atau parameter, tapi hanya bisa memiliki satu ekspresi atau isi"
      ],
      "metadata": {
        "id": "IQDMUb-6nXfy"
      }
    },
    {
      "cell_type": "code",
      "source": [
        "greeting = lambda name: print(f\"hello, (name)\")"
      ],
      "metadata": {
        "id": "a4GkpU7HnlkG"
      },
      "execution_count": 11,
      "outputs": []
    },
    {
      "cell_type": "markdown",
      "source": [
        "Karena fungsi lambda tidak punya nama, jadi kita butuh variable untuk menyimpannya"
      ],
      "metadata": {
        "id": "HyDJZdWznuZ-"
      }
    },
    {
      "cell_type": "markdown",
      "source": [
        "Nanti saat mau kita panggil, kita panggil tuliskan saja nama variabelnya seperti ini:"
      ],
      "metadata": {
        "id": "2EA_nLqhn1Xs"
      }
    },
    {
      "cell_type": "code",
      "source": [
        "greeting(\"Dian\")\n",
        "greeting(\"Ayu\")"
      ],
      "metadata": {
        "colab": {
          "base_uri": "https://localhost:8080/"
        },
        "id": "VT8lfPyEn9GR",
        "outputId": "6c108235-d3bd-4d6a-ce32-3479a1d70340"
      },
      "execution_count": 12,
      "outputs": [
        {
          "output_type": "stream",
          "name": "stdout",
          "text": [
            "hello, (name)\n",
            "hello, (name)\n"
          ]
        }
      ]
    },
    {
      "cell_type": "markdown",
      "source": [
        "Beberapa contoh penggunaan fungsi lambda"
      ],
      "metadata": {
        "id": "n3w7UkpwoCy_"
      }
    },
    {
      "cell_type": "code",
      "source": [
        "#Fungsi lambda untuk menambahkan angka 10 kepada argumen input\n",
        "f = lambda x: x+10\n",
        "val1 = f(5)\n",
        "val2 = f(100)\n",
        "print(val1, val2)"
      ],
      "metadata": {
        "colab": {
          "base_uri": "https://localhost:8080/"
        },
        "id": "zZ-MT8ahokTR",
        "outputId": "e1fa178b-14d7-46b6-86fe-096bd9576d71"
      },
      "execution_count": 7,
      "outputs": [
        {
          "output_type": "stream",
          "name": "stdout",
          "text": [
            "15 110\n"
          ]
        }
      ]
    },
    {
      "cell_type": "code",
      "source": [
        "#Fungsi lambda untuk mengalikan dua argumen input dan menampilkan hasilnya\n",
        "f = lambda x,y:x*y\n",
        "val3 = f(2, 10)\n",
        "val4 = f(7, 5)\n",
        "print(val3, val4)"
      ],
      "metadata": {
        "colab": {
          "base_uri": "https://localhost:8080/"
        },
        "id": "gqg_zOiXo_Fe",
        "outputId": "275dc2b6-e772-4dbb-b197-e1feafd96852"
      },
      "execution_count": 8,
      "outputs": [
        {
          "output_type": "stream",
          "name": "stdout",
          "text": [
            "20 35\n"
          ]
        }
      ]
    },
    {
      "cell_type": "markdown",
      "source": [
        "#**Anonymous Function**"
      ],
      "metadata": {
        "id": "KY5Ptm6RpVLe"
      }
    },
    {
      "cell_type": "markdown",
      "source": [
        "Karena lambda adalah anonymous function, ia akan bebas menggunakan nama apa saja. Dengan kata lain, fungsi lambda bisa disimpan di variabel mana pun. Ini tentunya tidak bisa dilakukan oleh fungsi yang dibuat dengan def. coba perhatikan ini:"
      ],
      "metadata": {
        "id": "PJO9k9vVpZwK"
      }
    },
    {
      "cell_type": "code",
      "source": [
        "def say_hello(nama):\n",
        "  print(f\"hello(nama), apa kabar?\")\n",
        "\n",
        "ucapin = say_hello(nama)"
      ],
      "metadata": {
        "colab": {
          "base_uri": "https://localhost:8080/",
          "height": 209
        },
        "id": "2_R61VHCpxar",
        "outputId": "d863cf69-51f6-4850-f3c5-cfccab8e4ee2"
      },
      "execution_count": 9,
      "outputs": [
        {
          "output_type": "error",
          "ename": "NameError",
          "evalue": "ignored",
          "traceback": [
            "\u001b[0;31m---------------------------------------------------------------------------\u001b[0m",
            "\u001b[0;31mNameError\u001b[0m                                 Traceback (most recent call last)",
            "\u001b[0;32m<ipython-input-9-f8f4e92b6bef>\u001b[0m in \u001b[0;36m<cell line: 4>\u001b[0;34m()\u001b[0m\n\u001b[1;32m      2\u001b[0m   \u001b[0mprint\u001b[0m\u001b[0;34m(\u001b[0m\u001b[0;34mf\"hello(nama), apa kabar?\"\u001b[0m\u001b[0;34m)\u001b[0m\u001b[0;34m\u001b[0m\u001b[0;34m\u001b[0m\u001b[0m\n\u001b[1;32m      3\u001b[0m \u001b[0;34m\u001b[0m\u001b[0m\n\u001b[0;32m----> 4\u001b[0;31m \u001b[0mucapin\u001b[0m \u001b[0;34m=\u001b[0m \u001b[0msay_hello\u001b[0m\u001b[0;34m(\u001b[0m\u001b[0mnama\u001b[0m\u001b[0;34m)\u001b[0m\u001b[0;34m\u001b[0m\u001b[0;34m\u001b[0m\u001b[0m\n\u001b[0m",
            "\u001b[0;31mNameError\u001b[0m: name 'nama' is not defined"
          ]
        }
      ]
    },
    {
      "cell_type": "markdown",
      "source": [
        "Saya mencoba membuat fungsi say_hello() dengan def, kemudian menyimpannya ke dalam variabel ucapin. Tapi malah error."
      ],
      "metadata": {
        "id": "mF5xNdZTqApG"
      }
    },
    {
      "cell_type": "markdown",
      "source": [
        "Ini karena fungsi tersebut bukanlah fungsi anonymous yang boleh diubah-ubah namanya."
      ],
      "metadata": {
        "id": "k8OKKxFRqM1B"
      }
    },
    {
      "cell_type": "markdown",
      "source": [
        "Lalu coba perhatikan di baris terakhir, fungsi lambda greeting() yang sudah disimpan lagi ke variabel yang berbeda yakni sapa."
      ],
      "metadata": {
        "id": "w9vEE2K8qUoc"
      }
    },
    {
      "cell_type": "code",
      "source": [
        "greeting = lambda name: print(f\"hello, (name)\")\n",
        "sapa = greeting\n",
        "greeting(\"Andi\")\n",
        "sapa(\"Neli\")"
      ],
      "metadata": {
        "colab": {
          "base_uri": "https://localhost:8080/"
        },
        "id": "FVfbBmm1qjPT",
        "outputId": "6078f557-60fb-4d9e-940d-fe2faf6b6a59"
      },
      "execution_count": 10,
      "outputs": [
        {
          "output_type": "stream",
          "name": "stdout",
          "text": [
            "hello, (name)\n",
            "hello, (name)\n"
          ]
        }
      ]
    },
    {
      "cell_type": "markdown",
      "source": [
        "Hasilnya tidak error, karena ini adalah fungsi anonymous atau lambda."
      ],
      "metadata": {
        "id": "MgbSQxynqzWI"
      }
    },
    {
      "cell_type": "markdown",
      "source": [
        "#**Eksekusi Lambda Secara Langsung**"
      ],
      "metadata": {
        "id": "dRZZ2mBCrEtx"
      }
    },
    {
      "cell_type": "markdown",
      "source": [
        "Eksekusi lambda secara langsung kelebihan fungsi dibandingkan def adalah bisa kita eksekusi langsung.\n",
        "\n",
        "contohnya:"
      ],
      "metadata": {
        "id": "Hzm55VpErJn2"
      }
    },
    {
      "cell_type": "code",
      "source": [
        "(lambda x,y: x**2 + y**2)(4,6)"
      ],
      "metadata": {
        "colab": {
          "base_uri": "https://localhost:8080/"
        },
        "id": "5ODY-RC5rWQT",
        "outputId": "34998ba1-c30d-4084-8670-42e3ef192262"
      },
      "execution_count": 13,
      "outputs": [
        {
          "output_type": "execute_result",
          "data": {
            "text/plain": [
              "52"
            ]
          },
          "metadata": {},
          "execution_count": 13
        }
      ]
    },
    {
      "cell_type": "markdown",
      "source": [
        "Tanda kurung yang mengapit fungsi lambda artinya akan langsung mengeksekusi fungsi tersebut\n",
        "\n",
        "Lalu kurung berikutnya akan berisi parameter\n",
        "\n",
        "Angka 4 dan 6 adalah parameter x dan y yang akan diberikan kepada fungsi lambda\n",
        "\n",
        "Maka kita akan langsung mendapatkan hasilnya yakni 46+62=52\n",
        "\n",
        "Hasil dari eksekusi ini bisa juga kita simpan ke dalam variabel"
      ],
      "metadata": {
        "id": "Z3_xE--lsYFP"
      }
    },
    {
      "cell_type": "code",
      "source": [
        "hasil = (lambda x,y: x**2 + y**2)(4,6)"
      ],
      "metadata": {
        "id": "eRpTE0pNs5q2"
      },
      "execution_count": 14,
      "outputs": []
    },
    {
      "cell_type": "markdown",
      "source": [
        "#Mengapa Harus Pakai Lambda"
      ],
      "metadata": {
        "id": "CaQlo2IYtGHj"
      }
    },
    {
      "cell_type": "markdown",
      "source": [
        "Kita memang tidak harus selalu menggunakan lambda, tapi dalam kasus tertentu lambda lebih baik dibandingkan fungsi biasa\n",
        "\n",
        "Lambda biasanya dibutuhkan saat kita ingin membuat fungsi dalam satu baris\n",
        "\n",
        "Biasanya saat menggunakan fungsi-fungsi seperti ```filter(),map()``` dan ```reduce()``` kita akan membutuhkan lambda.\n",
        "\n",
        "Mengapa?\n",
        "\n",
        "Karena di fungsi-fungsi tersebut membutuhkan parameter fungsi\n",
        "\n",
        "contoh:"
      ],
      "metadata": {
        "id": "zV73aCPqtJTP"
      }
    },
    {
      "cell_type": "code",
      "source": [
        "bilangan = [10, 2, 8, 7, 5, 4, 3, 11, 0, 1]\n",
        "filtered_result = map(lambda x: x*x, bilangan)\n",
        "print(list(filtered_result))"
      ],
      "metadata": {
        "colab": {
          "base_uri": "https://localhost:8080/"
        },
        "id": "Iz7QufOtt11S",
        "outputId": "6a335349-b995-478e-8d2c-451843c51af0"
      },
      "execution_count": 15,
      "outputs": [
        {
          "output_type": "stream",
          "name": "stdout",
          "text": [
            "[100, 4, 64, 49, 25, 16, 9, 121, 0, 1]\n"
          ]
        }
      ]
    },
    {
      "cell_type": "markdown",
      "source": [
        "Pada fungsi map() kita memberikan parameter dengan fungsi lambda.\n",
        "\n",
        "Mengapa bisa begitu?\n",
        "\n",
        "Karena lambda bisa disimpan ke dalam variabel, otomatis dia akan bisa juga jadi parameter\n",
        "\n",
        "Satu lagi contoh dengan fungsi filter()"
      ],
      "metadata": {
        "id": "lP-0AU1EuLZv"
      }
    },
    {
      "cell_type": "code",
      "source": [
        "#Menentukan bilangan genap\n",
        "genap = lambda x: x%2 == 0\n",
        "list(filter(genap, range(11)))"
      ],
      "metadata": {
        "colab": {
          "base_uri": "https://localhost:8080/"
        },
        "id": "BXdmDw7nus_d",
        "outputId": "0d9a530f-bc92-4ba0-dd18-aabeab39a17b"
      },
      "execution_count": 16,
      "outputs": [
        {
          "output_type": "execute_result",
          "data": {
            "text/plain": [
              "[0, 2, 4, 6, 8, 10]"
            ]
          },
          "metadata": {},
          "execution_count": 16
        }
      ]
    }
  ]
}