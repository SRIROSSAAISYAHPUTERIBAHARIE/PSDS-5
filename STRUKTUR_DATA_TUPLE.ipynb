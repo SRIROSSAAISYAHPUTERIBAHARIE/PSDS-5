{
  "nbformat": 4,
  "nbformat_minor": 0,
  "metadata": {
    "colab": {
      "provenance": [],
      "authorship_tag": "ABX9TyOVQiVy5yrDr6YhekZR9Oqe",
      "include_colab_link": true
    },
    "kernelspec": {
      "name": "python3",
      "display_name": "Python 3"
    },
    "language_info": {
      "name": "python"
    }
  },
  "cells": [
    {
      "cell_type": "markdown",
      "metadata": {
        "id": "view-in-github",
        "colab_type": "text"
      },
      "source": [
        "<a href=\"https://colab.research.google.com/github/SRIROSSAAISYAHPUTERIBAHARIE/PSDS-5.0/blob/main/STRUKTUR_DATA_TUPLE.ipynb\" target=\"_parent\"><img src=\"https://colab.research.google.com/assets/colab-badge.svg\" alt=\"Open In Colab\"/></a>"
      ]
    },
    {
      "cell_type": "markdown",
      "source": [
        "#**SRI ROSSA AISYAH PUTERI BAHARIE**\n",
        "#**2100015052**\n",
        "**TUGAS PERTEMUAN 8**"
      ],
      "metadata": {
        "id": "CJA2EOGz0Z-P"
      }
    },
    {
      "cell_type": "markdown",
      "source": [
        "#**STRUKTUR DATA TUPLE**"
      ],
      "metadata": {
        "id": "nXdHGi1A08ih"
      }
    },
    {
      "cell_type": "markdown",
      "source": [
        "Tuple adalah jenis dari struktur data yang tidak dapat diubah elemennya dan juga tidak bisa ditambahkan atau dihapus elemennya. Umumnya tuple digunakan untuk data yang bersifat sekali tulis dan dapat dieksekusi lebih cepat. Tuple didefisinikan dengan kurung dan elemen yang dipisahkan dengan koma."
      ],
      "metadata": {
        "id": "iMmaVUr41BZS"
      }
    },
    {
      "cell_type": "code",
      "source": [
        "#Contoh Tuple\n",
        "T1 = (1, \"dua\", True, 1+2j)\n",
        "print(\"Ini adalah Tuple\", T1)"
      ],
      "metadata": {
        "colab": {
          "base_uri": "https://localhost:8080/"
        },
        "id": "50ejE4sf1pnB",
        "outputId": "75d1ebee-f44d-4bf6-f2ab-f4105f57c4cf"
      },
      "execution_count": 1,
      "outputs": [
        {
          "output_type": "stream",
          "name": "stdout",
          "text": [
            "Ini adalah Tuple (1, 'dua', True, (1+2j))\n"
          ]
        }
      ]
    },
    {
      "cell_type": "code",
      "source": [
        "T11 = 1, \"dua\", True, 1+2j\n",
        "print(\"Ini adalah Tuple\", T11)"
      ],
      "metadata": {
        "colab": {
          "base_uri": "https://localhost:8080/"
        },
        "id": "iZ4fmwqA2Iqq",
        "outputId": "6fbc436e-2f2d-48e2-89f5-c2de876442ae"
      },
      "execution_count": 2,
      "outputs": [
        {
          "output_type": "stream",
          "name": "stdout",
          "text": [
            "Ini adalah Tuple (1, 'dua', True, (1+2j))\n"
          ]
        }
      ]
    },
    {
      "cell_type": "code",
      "source": [
        "#Menampilkan Type Struktur Data\n",
        "type(T1)\n",
        "print(\"Ini adalah Tuple\", T11)"
      ],
      "metadata": {
        "colab": {
          "base_uri": "https://localhost:8080/"
        },
        "id": "lbIcgKUI2aHT",
        "outputId": "0ad90cab-2a09-4830-ce36-af225bfa09a1"
      },
      "execution_count": 3,
      "outputs": [
        {
          "output_type": "stream",
          "name": "stdout",
          "text": [
            "Ini adalah Tuple (1, 'dua', True, (1+2j))\n"
          ]
        }
      ]
    },
    {
      "cell_type": "code",
      "source": [
        "#Menampilkan Type Struktur Data\n",
        "type(T1)\n",
        "type(T11)"
      ],
      "metadata": {
        "colab": {
          "base_uri": "https://localhost:8080/"
        },
        "id": "3WeKfV4f2pJl",
        "outputId": "38bccbf9-034c-482b-c057-69b4e08a3d2f"
      },
      "execution_count": 4,
      "outputs": [
        {
          "output_type": "execute_result",
          "data": {
            "text/plain": [
              "tuple"
            ]
          },
          "metadata": {},
          "execution_count": 4
        }
      ]
    },
    {
      "cell_type": "markdown",
      "source": [
        "**SIFAT-SIFAT TUPLE**"
      ],
      "metadata": {
        "id": "MxzZ1pE721tk"
      }
    },
    {
      "cell_type": "code",
      "source": [
        "#Terurut/Ordered\n",
        "T1[0:3]"
      ],
      "metadata": {
        "colab": {
          "base_uri": "https://localhost:8080/"
        },
        "id": "eVP3OvXD25Hk",
        "outputId": "afe280a2-7d46-4aec-b4b6-0c0510b327ef"
      },
      "execution_count": 5,
      "outputs": [
        {
          "output_type": "execute_result",
          "data": {
            "text/plain": [
              "(1, 'dua', True)"
            ]
          },
          "metadata": {},
          "execution_count": 5
        }
      ]
    },
    {
      "cell_type": "code",
      "source": [
        "#Tidak Bisa diganti/Immutable\n",
        "T1[2] = \"Manusia\""
      ],
      "metadata": {
        "colab": {
          "base_uri": "https://localhost:8080/",
          "height": 183
        },
        "id": "6yfi7D-E3HvS",
        "outputId": "812394f3-1d4a-42e3-b952-54b9a321344c"
      },
      "execution_count": 6,
      "outputs": [
        {
          "output_type": "error",
          "ename": "TypeError",
          "evalue": "ignored",
          "traceback": [
            "\u001b[0;31m---------------------------------------------------------------------------\u001b[0m",
            "\u001b[0;31mTypeError\u001b[0m                                 Traceback (most recent call last)",
            "\u001b[0;32m<ipython-input-6-dfb69742a73d>\u001b[0m in \u001b[0;36m<cell line: 2>\u001b[0;34m()\u001b[0m\n\u001b[1;32m      1\u001b[0m \u001b[0;31m#Tidak Bisa diganti/Immutable\u001b[0m\u001b[0;34m\u001b[0m\u001b[0;34m\u001b[0m\u001b[0m\n\u001b[0;32m----> 2\u001b[0;31m \u001b[0mT1\u001b[0m\u001b[0;34m[\u001b[0m\u001b[0;36m2\u001b[0m\u001b[0;34m]\u001b[0m \u001b[0;34m=\u001b[0m \u001b[0;34m\"Manusia\"\u001b[0m\u001b[0;34m\u001b[0m\u001b[0;34m\u001b[0m\u001b[0m\n\u001b[0m",
            "\u001b[0;31mTypeError\u001b[0m: 'tuple' object does not support item assignment"
          ]
        }
      ]
    },
    {
      "cell_type": "code",
      "source": [
        "#Dapat Diindeks/Slicing\n",
        "print(\"Elemen kedua dari Tuple T1 adalah:\", T1[1])"
      ],
      "metadata": {
        "colab": {
          "base_uri": "https://localhost:8080/"
        },
        "id": "bAK_pSp03TIx",
        "outputId": "0b2dea1c-9cac-4a84-9045-806ef84bf769"
      },
      "execution_count": 7,
      "outputs": [
        {
          "output_type": "stream",
          "name": "stdout",
          "text": [
            "Elemen kedua dari Tuple T1 adalah: dua\n"
          ]
        }
      ]
    },
    {
      "cell_type": "code",
      "source": [
        "#Dapat Diijinkan Duplikasi\n",
        "T2 = (3, 2.4, True, 2.4)\n",
        "T2"
      ],
      "metadata": {
        "colab": {
          "base_uri": "https://localhost:8080/"
        },
        "id": "1nzCzcvA3mhc",
        "outputId": "cbbdfb6f-f5dc-4d9f-fb8e-398fc7cb1b6c"
      },
      "execution_count": 8,
      "outputs": [
        {
          "output_type": "execute_result",
          "data": {
            "text/plain": [
              "(3, 2.4, True, 2.4)"
            ]
          },
          "metadata": {},
          "execution_count": 8
        }
      ]
    },
    {
      "cell_type": "code",
      "source": [
        "#Tidak Dapat Menambahkan Elemen Baru\n",
        "T1 = (1, \"Dua\", True, 1+2j)\n",
        "print(f' Tuple\\t: {T1}')"
      ],
      "metadata": {
        "colab": {
          "base_uri": "https://localhost:8080/"
        },
        "id": "pns-CWeA31_t",
        "outputId": "b354417c-43ae-458c-f6f7-5dc20c03a58a"
      },
      "execution_count": 9,
      "outputs": [
        {
          "output_type": "stream",
          "name": "stdout",
          "text": [
            " Tuple\t: (1, 'Dua', True, (1+2j))\n"
          ]
        }
      ]
    },
    {
      "cell_type": "code",
      "source": [
        "T1.append(10)\n",
        "T1.append(50)\n",
        "print(f' Tuple\\t: {T1}')"
      ],
      "metadata": {
        "colab": {
          "base_uri": "https://localhost:8080/",
          "height": 200
        },
        "id": "1CjkIvoQ4NzJ",
        "outputId": "662af8b4-e862-4664-db22-50f5ff77b4ac"
      },
      "execution_count": 10,
      "outputs": [
        {
          "output_type": "error",
          "ename": "AttributeError",
          "evalue": "ignored",
          "traceback": [
            "\u001b[0;31m---------------------------------------------------------------------------\u001b[0m",
            "\u001b[0;31mAttributeError\u001b[0m                            Traceback (most recent call last)",
            "\u001b[0;32m<ipython-input-10-34ce4c904542>\u001b[0m in \u001b[0;36m<cell line: 1>\u001b[0;34m()\u001b[0m\n\u001b[0;32m----> 1\u001b[0;31m \u001b[0mT1\u001b[0m\u001b[0;34m.\u001b[0m\u001b[0mappend\u001b[0m\u001b[0;34m(\u001b[0m\u001b[0;36m10\u001b[0m\u001b[0;34m)\u001b[0m\u001b[0;34m\u001b[0m\u001b[0;34m\u001b[0m\u001b[0m\n\u001b[0m\u001b[1;32m      2\u001b[0m \u001b[0mT1\u001b[0m\u001b[0;34m.\u001b[0m\u001b[0mappend\u001b[0m\u001b[0;34m(\u001b[0m\u001b[0;36m50\u001b[0m\u001b[0;34m)\u001b[0m\u001b[0;34m\u001b[0m\u001b[0;34m\u001b[0m\u001b[0m\n\u001b[1;32m      3\u001b[0m \u001b[0mprint\u001b[0m\u001b[0;34m(\u001b[0m\u001b[0;34mf' Tuple\\t: {T1}'\u001b[0m\u001b[0;34m)\u001b[0m\u001b[0;34m\u001b[0m\u001b[0;34m\u001b[0m\u001b[0m\n",
            "\u001b[0;31mAttributeError\u001b[0m: 'tuple' object has no attribute 'append'"
          ]
        }
      ]
    },
    {
      "cell_type": "code",
      "source": [
        "#Tidak Dapat Menghapus Elemen\n",
        "T1 = (1, \"Dua\", True, 1+2j)\n",
        "print(f' Tuple\\t: {T1}')"
      ],
      "metadata": {
        "colab": {
          "base_uri": "https://localhost:8080/"
        },
        "id": "FocWPiC54bbM",
        "outputId": "b367261c-8f19-4262-ba70-8af878279a01"
      },
      "execution_count": 12,
      "outputs": [
        {
          "output_type": "stream",
          "name": "stdout",
          "text": [
            " Tuple\t: (1, 'Dua', True, (1+2j))\n"
          ]
        }
      ]
    },
    {
      "cell_type": "code",
      "source": [
        "T1.remove(1)\n",
        "T1.remove(\"Dua\")\n",
        "print(f' Tuple\\t: {T1}')"
      ],
      "metadata": {
        "colab": {
          "base_uri": "https://localhost:8080/",
          "height": 200
        },
        "id": "VEEPkFjo4vpM",
        "outputId": "d56447c1-bfad-46d7-f412-0e459dd8e171"
      },
      "execution_count": 13,
      "outputs": [
        {
          "output_type": "error",
          "ename": "AttributeError",
          "evalue": "ignored",
          "traceback": [
            "\u001b[0;31m---------------------------------------------------------------------------\u001b[0m",
            "\u001b[0;31mAttributeError\u001b[0m                            Traceback (most recent call last)",
            "\u001b[0;32m<ipython-input-13-8d71e83d507a>\u001b[0m in \u001b[0;36m<cell line: 1>\u001b[0;34m()\u001b[0m\n\u001b[0;32m----> 1\u001b[0;31m \u001b[0mT1\u001b[0m\u001b[0;34m.\u001b[0m\u001b[0mremove\u001b[0m\u001b[0;34m(\u001b[0m\u001b[0;36m1\u001b[0m\u001b[0;34m)\u001b[0m\u001b[0;34m\u001b[0m\u001b[0;34m\u001b[0m\u001b[0m\n\u001b[0m\u001b[1;32m      2\u001b[0m \u001b[0mT1\u001b[0m\u001b[0;34m.\u001b[0m\u001b[0mremove\u001b[0m\u001b[0;34m(\u001b[0m\u001b[0;34m\"Dua\"\u001b[0m\u001b[0;34m)\u001b[0m\u001b[0;34m\u001b[0m\u001b[0;34m\u001b[0m\u001b[0m\n\u001b[1;32m      3\u001b[0m \u001b[0mprint\u001b[0m\u001b[0;34m(\u001b[0m\u001b[0;34mf' Tuple\\t: {T1}'\u001b[0m\u001b[0;34m)\u001b[0m\u001b[0;34m\u001b[0m\u001b[0;34m\u001b[0m\u001b[0m\n",
            "\u001b[0;31mAttributeError\u001b[0m: 'tuple' object has no attribute 'remove'"
          ]
        }
      ]
    },
    {
      "cell_type": "markdown",
      "source": [
        "**MENGGABUNGKAN TUPLE**"
      ],
      "metadata": {
        "id": "lIEw_pxy46DO"
      }
    },
    {
      "cell_type": "code",
      "source": [
        "#Menggabungkan Tuple\n",
        "T3 = T1 + T2\n",
        "T3"
      ],
      "metadata": {
        "colab": {
          "base_uri": "https://localhost:8080/"
        },
        "id": "eGZMNJYe49Kx",
        "outputId": "a6f46186-b262-419a-f16b-a2e26a3082e4"
      },
      "execution_count": 14,
      "outputs": [
        {
          "output_type": "execute_result",
          "data": {
            "text/plain": [
              "(1, 'Dua', True, (1+2j), 3, 2.4, True, 2.4)"
            ]
          },
          "metadata": {},
          "execution_count": 14
        }
      ]
    },
    {
      "cell_type": "markdown",
      "source": [
        "**LATIHAN 1**"
      ],
      "metadata": {
        "id": "f7sPodlM51KM"
      }
    },
    {
      "cell_type": "code",
      "source": [
        "#BUATLAH TUPLEMU SENDIRI\n",
        "A = (10, 'Program', 10+24j)\n",
        "A"
      ],
      "metadata": {
        "colab": {
          "base_uri": "https://localhost:8080/"
        },
        "id": "Za0wiRO157Qm",
        "outputId": "f5645698-cdcb-427e-cde8-8b155c10e239"
      },
      "execution_count": 15,
      "outputs": [
        {
          "output_type": "execute_result",
          "data": {
            "text/plain": [
              "(10, 'Program', (10+24j))"
            ]
          },
          "metadata": {},
          "execution_count": 15
        }
      ]
    },
    {
      "cell_type": "markdown",
      "source": [
        "**LATIHAN 2**"
      ],
      "metadata": {
        "id": "_K6ErQlv6RCl"
      }
    },
    {
      "cell_type": "code",
      "source": [
        "#GABUNGKAN TUPLE\n",
        "A = (10, 'Program', 10+24j)\n",
        "print(A[1])\n",
        "print(A[0:3])"
      ],
      "metadata": {
        "colab": {
          "base_uri": "https://localhost:8080/"
        },
        "id": "YAIjoPsH6P1-",
        "outputId": "36fbd3ab-55b5-4859-a044-4bb4b8e23f45"
      },
      "execution_count": 16,
      "outputs": [
        {
          "output_type": "stream",
          "name": "stdout",
          "text": [
            "Program\n",
            "(10, 'Program', (10+24j))\n"
          ]
        }
      ]
    }
  ]
}