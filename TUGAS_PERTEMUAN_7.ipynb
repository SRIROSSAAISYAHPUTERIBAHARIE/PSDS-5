{
  "nbformat": 4,
  "nbformat_minor": 0,
  "metadata": {
    "colab": {
      "provenance": [],
      "authorship_tag": "ABX9TyNUcHYY0rgZzqcqJ8scqwpq",
      "include_colab_link": true
    },
    "kernelspec": {
      "name": "python3",
      "display_name": "Python 3"
    },
    "language_info": {
      "name": "python"
    }
  },
  "cells": [
    {
      "cell_type": "markdown",
      "metadata": {
        "id": "view-in-github",
        "colab_type": "text"
      },
      "source": [
        "<a href=\"https://colab.research.google.com/github/SRIROSSAAISYAHPUTERIBAHARIE/PSDS-5.0/blob/main/TUGAS_PERTEMUAN_7.ipynb\" target=\"_parent\"><img src=\"https://colab.research.google.com/assets/colab-badge.svg\" alt=\"Open In Colab\"/></a>"
      ]
    },
    {
      "cell_type": "markdown",
      "source": [
        "#**SRI ROSSA AISYAH PUTERI BAHARIE**\n",
        "#**2100015052**\n",
        "**TUGAS PERTEMUAN 7**"
      ],
      "metadata": {
        "id": "OLyB9RvUomdI"
      }
    },
    {
      "cell_type": "markdown",
      "source": [
        "#**OPERATOR**"
      ],
      "metadata": {
        "id": "CLDp1YVdo5WB"
      }
    },
    {
      "cell_type": "markdown",
      "source": [
        "Operator simbol yang dapat digunakan untuk mengubah nilai dari satu variabel dengan melibatkan satu atau lebih variabel dan literal.\n",
        "Tipe-tipe operator :\n",
        "\n",
        "\n",
        "1.   Operator Aritmatika\n",
        "2.   Operator Assignment\n",
        "3.   Operator Pembanding\n",
        "4. Operator Logika\n",
        "5. Operator *Membership*"
      ],
      "metadata": {
        "id": "UoKLet6NpPej"
      }
    },
    {
      "cell_type": "markdown",
      "source": [
        "#**OPERATOR ARITMATIKA**"
      ],
      "metadata": {
        "id": "W3o_y0EOpBN1"
      }
    },
    {
      "cell_type": "markdown",
      "source": [
        "Operator Aritmatika digunakan untuk melakukan operasi matematika yang umum.\n",
        "Macam-macam Operator Aritmatika yaitu :"
      ],
      "metadata": {
        "id": "iCy74-xfpg-t"
      }
    },
    {
      "cell_type": "code",
      "source": [
        "+ : Penjumlahan\n",
        "- : Pengurangan\n",
        "* : Perkalian\n",
        "/ : Pembagian\n",
        "% : Modulus\n",
        "** : Perpangkatan\n",
        "// : Pembagian dengan hasil pembulatan flooring"
      ],
      "metadata": {
        "id": "Brbxjplgpk8L"
      },
      "execution_count": null,
      "outputs": []
    },
    {
      "cell_type": "markdown",
      "source": [
        "#**CONTOH PENGGUNAAN OPERATOR ARITMATIKA**"
      ],
      "metadata": {
        "id": "3naKtkTApuRH"
      }
    },
    {
      "cell_type": "code",
      "source": [
        "#Penjulahan\n",
        "print('Penjumlahan')\n",
        "print(2+2)\n",
        "\n",
        "#Pengurangan\n",
        "print('Pengurangan')\n",
        "print('-'*20)\n",
        "print(2-3)\n",
        "\n",
        "#Perkalian\n",
        "print('Perkalian')\n",
        "print('-'*20)\n",
        "print(2*3)\n",
        "\n",
        "#Pembagian\n",
        "print('Pembagian')\n",
        "print('-'*20)\n",
        "print(2/3)\n",
        "\n",
        "#Modulus\n",
        "print('Modulus')\n",
        "print('-'*20)\n",
        "print(3%2)\n",
        "\n",
        "#Perpangkatan\n",
        "print('Perpangkatan')\n",
        "print('-'*20)\n",
        "print(2**3)\n",
        "\n",
        "#Pembagian dengan hasil pembulatan flooring\n",
        "print('Pembagian pembulatan flooring')\n",
        "print('-'*20)\n",
        "print(3//2)"
      ],
      "metadata": {
        "colab": {
          "base_uri": "https://localhost:8080/"
        },
        "id": "L7gsflT_p8ee",
        "outputId": "d2a0df8a-b726-4acb-df3f-ecd3c6bcf9b5"
      },
      "execution_count": 1,
      "outputs": [
        {
          "output_type": "stream",
          "name": "stdout",
          "text": [
            "Penjumlahan\n",
            "4\n",
            "Pengurangan\n",
            "--------------------\n",
            "-1\n",
            "Perkalian\n",
            "--------------------\n",
            "6\n",
            "Pembagian\n",
            "--------------------\n",
            "0.6666666666666666\n",
            "Modulus\n",
            "--------------------\n",
            "1\n",
            "Perpangkatan\n",
            "--------------------\n",
            "8\n",
            "Pembagian pembulatan flooring\n",
            "--------------------\n",
            "1\n"
          ]
        }
      ]
    },
    {
      "cell_type": "markdown",
      "source": [
        "#**LATIHAN OPERATOR 1**"
      ],
      "metadata": {
        "id": "rLRVh86Kr_PU"
      }
    },
    {
      "cell_type": "code",
      "source": [
        "#Operasi Aritmatika\n",
        "x = 20\n",
        "y = 6\n",
        "\n",
        "#Penjumlahan\n",
        "print('x + y =', x+y)\n",
        "\n",
        "#Pengurangan\n",
        "print('x - y =', x-y)\n",
        "\n",
        "#Perkalian\n",
        "print('x * y =', x*y)\n",
        "\n",
        "#Pembagian\n",
        "print('x / y =', x/y)\n",
        "\n",
        "#Pembagian dengan hasil pembulatan flooring\n",
        "print('x // y =', x//y)\n",
        "\n",
        "#Modulus\n",
        "print('x % y =', x%y)\n",
        "\n",
        "#Perpangkatan\n",
        "print('x ** y =', x**y)"
      ],
      "metadata": {
        "colab": {
          "base_uri": "https://localhost:8080/"
        },
        "id": "XPKhZyrS_EaM",
        "outputId": "c8d09a85-5bcc-4c76-f198-3619c5044b4b"
      },
      "execution_count": 15,
      "outputs": [
        {
          "output_type": "stream",
          "name": "stdout",
          "text": [
            "x + y = 26\n",
            "x - y = 14\n",
            "x * y = 120\n",
            "x / y = 3.3333333333333335\n",
            "x // y = 3\n",
            "x % y = 2\n",
            "x ** y = 64000000\n"
          ]
        }
      ]
    },
    {
      "cell_type": "markdown",
      "source": [
        "#**OPERATOR ASSIGNMENT**"
      ],
      "metadata": {
        "id": "i8E8hZiTshuR"
      }
    },
    {
      "cell_type": "markdown",
      "source": [
        "Operator Assignment digunakan untuk menyimpan nilai menjadi suatu variabel."
      ],
      "metadata": {
        "id": "NLupydYGtDXa"
      }
    },
    {
      "cell_type": "code",
      "source": [
        "= : Contohnya x = 5 -> x = 5\n",
        "+= : Contohnya x = x + 5 -> x += 5\n",
        "-= : Contohnya x = x - 5 -> x -= 5\n",
        "*= : Contohnya x = x * 5 -> x *= 5\n",
        "/= : Contohnya x = x / 5 -> x /= 5\n",
        "%= : Contohnya x = x % 5 -> x %= 5\n",
        "//= : Contohnya x = x // 5 -> x //= 5\n",
        "**= : Contohnya x = x ** 5 -> x **= 5"
      ],
      "metadata": {
        "id": "Cr5zq83Btkrs"
      },
      "execution_count": null,
      "outputs": []
    },
    {
      "cell_type": "markdown",
      "source": [
        "#**CONTOH PENGGUNAAN OPERATOR ASSIGNMENT**"
      ],
      "metadata": {
        "id": "-AHSeVLTvjmx"
      }
    },
    {
      "cell_type": "code",
      "source": [
        "#Penjumlahan\n",
        "print('Penjumlahan')\n",
        "x=5\n",
        "x=x+5\n",
        "print(x)\n",
        "x=5\n",
        "x+=5\n",
        "print(x)\n",
        "print('-'*20)\n",
        "\n",
        "#Pengurangan\n",
        "print('Pengurangan')\n",
        "x=5\n",
        "x=x-5\n",
        "print(x)\n",
        "x=5\n",
        "x-=3\n",
        "print(x)\n",
        "print('-'*20)\n",
        "\n",
        "#Perkalian\n",
        "print('Perkalian')\n",
        "x=5\n",
        "x=x*5\n",
        "print(x)\n",
        "x=5\n",
        "x*=3\n",
        "print(x)\n",
        "print('-'*20)\n",
        "\n",
        "#Pembagian\n",
        "print('Pembagian')\n",
        "x=5\n",
        "x=x/5\n",
        "print(x)\n",
        "x=5\n",
        "x/=3\n",
        "print(x)\n",
        "print('-'*20)\n",
        "\n",
        "#Modulus\n",
        "print('Modulus')\n",
        "x=5\n",
        "x=x%5\n",
        "print(x)\n",
        "x=5\n",
        "x%=3\n",
        "print(x)\n",
        "print('-'*20)\n",
        "\n",
        "#Pembagian Flooring\n",
        "print('Pembagian Flooring')\n",
        "x=5\n",
        "x=x//5\n",
        "print(x)\n",
        "x=5\n",
        "x//=3\n",
        "print(x)\n",
        "print('-'*20)\n",
        "\n",
        "#Perpangkatan\n",
        "print('Perpangkatan')\n",
        "x=5\n",
        "x=x**5\n",
        "print(x)\n",
        "x=5\n",
        "x**=3\n",
        "print(x)\n",
        "print('-'*20)"
      ],
      "metadata": {
        "colab": {
          "base_uri": "https://localhost:8080/"
        },
        "id": "5rSa_v64v3Sn",
        "outputId": "b7a38ca0-c657-4bf8-afb6-bb70bc10f329"
      },
      "execution_count": 2,
      "outputs": [
        {
          "output_type": "stream",
          "name": "stdout",
          "text": [
            "Penjumlahan\n",
            "10\n",
            "10\n",
            "--------------------\n",
            "Pengurangan\n",
            "0\n",
            "2\n",
            "--------------------\n",
            "Perkalian\n",
            "25\n",
            "15\n",
            "--------------------\n",
            "Pembagian\n",
            "1.0\n",
            "1.6666666666666667\n",
            "--------------------\n",
            "Modulus\n",
            "0\n",
            "2\n",
            "--------------------\n",
            "Pembagian Flooring\n",
            "1\n",
            "1\n",
            "--------------------\n",
            "Perpangkatan\n",
            "3125\n",
            "125\n",
            "--------------------\n"
          ]
        }
      ]
    },
    {
      "cell_type": "markdown",
      "source": [
        "#**LATIHAN OPERATOR 2**"
      ],
      "metadata": {
        "id": "G1lPvpggxoJH"
      }
    },
    {
      "cell_type": "code",
      "source": [
        "a = 5\n",
        "b = 3\n",
        "b = b + 1\n",
        "c = a + b\n",
        "d = c + c + a\n",
        "e = (c + d) * a\n",
        "\n",
        "print('Isi Variabel a:', a)\n",
        "print('Isi Variabel b:', b)\n",
        "print('Isi Variabel c:', c)\n",
        "print('Isi Variabel d:', d)\n",
        "print('Isi Variabel e:', e)"
      ],
      "metadata": {
        "colab": {
          "base_uri": "https://localhost:8080/"
        },
        "id": "jaMfpFLeDDO9",
        "outputId": "20623bfe-3170-45a6-a913-37526a42d7f1"
      },
      "execution_count": 21,
      "outputs": [
        {
          "output_type": "stream",
          "name": "stdout",
          "text": [
            "Isi Variabel a: 5\n",
            "Isi Variabel b: 4\n",
            "Isi Variabel c: 9\n",
            "Isi Variabel d: 23\n",
            "Isi Variabel e: 160\n"
          ]
        }
      ]
    },
    {
      "cell_type": "markdown",
      "source": [
        "#**OPERATOR PEMBANDING**"
      ],
      "metadata": {
        "id": "FnuJjWBixvxA"
      }
    },
    {
      "cell_type": "markdown",
      "source": [
        "Operator Pembanding digunakan untuk membandingkan 2 nilai atau variabel.\n",
        "Macam-macam Operator Pembanding :"
      ],
      "metadata": {
        "id": "ioUqlEWbxzDn"
      }
    },
    {
      "cell_type": "code",
      "source": [
        "from types import DynamicClassAttribute\n",
        "== -> samadengan\n",
        "!= -> tidak samadengan\n",
        "> -> lebih dari\n",
        "< -> kurang dari\n",
        ">= lebih dari dan samadengan\n",
        "<= kurang dari dan samadengan"
      ],
      "metadata": {
        "id": "ecf66EH3x_W2"
      },
      "execution_count": null,
      "outputs": []
    },
    {
      "cell_type": "markdown",
      "source": [
        "#**CONTOH PENGGUNAAN OPERATOR PEMBANDING**"
      ],
      "metadata": {
        "id": "Oyeb5BiWybu1"
      }
    },
    {
      "cell_type": "code",
      "source": [
        "print(2==2)\n",
        "print(2!=2)\n",
        "print(2>2)\n",
        "print(2<2)\n",
        "print(2>=2)\n",
        "print(2<=2)"
      ],
      "metadata": {
        "colab": {
          "base_uri": "https://localhost:8080/"
        },
        "id": "luhuZwqtyiK9",
        "outputId": "922ae489-25db-4b6a-8624-30d54fbf20ed"
      },
      "execution_count": 3,
      "outputs": [
        {
          "output_type": "stream",
          "name": "stdout",
          "text": [
            "True\n",
            "False\n",
            "False\n",
            "False\n",
            "True\n",
            "True\n"
          ]
        }
      ]
    },
    {
      "cell_type": "markdown",
      "source": [
        "#**LATIHAN OPERATOR 3**"
      ],
      "metadata": {
        "id": "18mHPCeMy76v"
      }
    },
    {
      "cell_type": "code",
      "source": [
        "x = 7\n",
        "y = 10\n",
        "\n",
        "print('x =', x)\n",
        "print('y =', y)\n",
        "print('\\n')\n",
        "\n",
        "print('x == y hasilnya', x==y)\n",
        "print('x != y hasilnya', x!=y)\n",
        "print('x > y hasilnya', x>y)\n",
        "print('x < y hasilnya', x<y)\n",
        "print('x >= y hasilnya', x>=y)\n",
        "print('x <= y hasilnya', x<=y)\n",
        "\n"
      ],
      "metadata": {
        "colab": {
          "base_uri": "https://localhost:8080/"
        },
        "id": "yObLog7wAu25",
        "outputId": "93e79762-bffe-4dd9-e011-3244152fbd0f"
      },
      "execution_count": 18,
      "outputs": [
        {
          "output_type": "stream",
          "name": "stdout",
          "text": [
            "x = 7\n",
            "y = 10\n",
            "\n",
            "\n",
            "x == y hasilnya False\n",
            "x != y hasilnya True\n",
            "x > y hasilnya False\n",
            "x < y hasilnya True\n",
            "x >= y hasilnya False\n",
            "x <= y hasilnya True\n"
          ]
        }
      ]
    },
    {
      "cell_type": "markdown",
      "source": [
        "#**OPERATOR LOGIKA**"
      ],
      "metadata": {
        "id": "rg3JMLaUzAjD"
      }
    },
    {
      "cell_type": "markdown",
      "source": [
        "Operator Logika digunakan untuk mengkombinasikan statement-statement kondisional. Macam-macam operator logika :"
      ],
      "metadata": {
        "id": "IC98myi0zD0u"
      }
    },
    {
      "cell_type": "code",
      "source": [
        "and -> kondisi menjadi benar apabila semua statementnya benar\n",
        "or -> kondisi menjadi benar apabila salah satu statementnya ada yang benar\n",
        "not -> membalik hasil adri benar ke salah dan salah ke benar"
      ],
      "metadata": {
        "id": "M4Y6a12yzZIk"
      },
      "execution_count": null,
      "outputs": []
    },
    {
      "cell_type": "markdown",
      "source": [
        "#**CONTOH PENGGUNAAN OPERATOR LOGIKA**"
      ],
      "metadata": {
        "id": "nIiH85gJ0Bff"
      }
    },
    {
      "cell_type": "code",
      "source": [
        "print(True and False)\n",
        "print(False or False)\n",
        "print(not False and False)"
      ],
      "metadata": {
        "colab": {
          "base_uri": "https://localhost:8080/"
        },
        "id": "UvS6Fhgh0SqF",
        "outputId": "6e2bbcd1-9769-473e-a367-ad32776d6a96"
      },
      "execution_count": 4,
      "outputs": [
        {
          "output_type": "stream",
          "name": "stdout",
          "text": [
            "False\n",
            "False\n",
            "False\n"
          ]
        }
      ]
    },
    {
      "cell_type": "markdown",
      "source": [
        "#**LATIHAN OPERATOR 4**"
      ],
      "metadata": {
        "id": "NjLMiQI50nBp"
      }
    },
    {
      "cell_type": "code",
      "source": [
        "print('Hasil dari True or True :', True and True)\n",
        "print('Hasil dari True and False :', True and False)\n",
        "print('Hasil dari False and True :', False and True)\n",
        "print('Hasil dari False and False :', False and False)\n",
        "\n",
        "print('\\n')\n",
        "\n",
        "print('Hasil dari not True :', not True)\n",
        "print('Hasil dari not False :', not False)"
      ],
      "metadata": {
        "colab": {
          "base_uri": "https://localhost:8080/"
        },
        "id": "NTtrq9pJB_oR",
        "outputId": "1a28c71c-2824-4341-cf3f-5bb09a569d80"
      },
      "execution_count": 19,
      "outputs": [
        {
          "output_type": "stream",
          "name": "stdout",
          "text": [
            "Hasil dari True or True : True\n",
            "Hasil dari True and False : False\n",
            "Hasil dari False and True : False\n",
            "Hasil dari False and False : False\n",
            "\n",
            "\n",
            "Hasil dari not True : False\n",
            "Hasil dari not False : True\n"
          ]
        }
      ]
    },
    {
      "cell_type": "markdown",
      "source": [
        "#**OPERATOR MEMBERSHIP/KEANGGOTAAN**"
      ],
      "metadata": {
        "id": "0Z7GGRjs0sbE"
      }
    },
    {
      "cell_type": "markdown",
      "source": [
        "Operator keanggotaan digunakan untuk menguji apakah urutan disajikan dalam suatu objek. Macam-macam Operator Keanggotaan :"
      ],
      "metadata": {
        "id": "yFsirs7f04qP"
      }
    },
    {
      "cell_type": "code",
      "source": [
        "in -> return True ketika nilai tertentu dalam sebuah urutan ada\n",
        "not in -> return True ketika nilai tertentu dalam sebuah urutan tidak ada"
      ],
      "metadata": {
        "id": "oCetCqT91OPU"
      },
      "execution_count": null,
      "outputs": []
    },
    {
      "cell_type": "markdown",
      "source": [
        "#**CONTOH PENGGUNAAN OPERATOR KEANGGOTAAN**"
      ],
      "metadata": {
        "id": "NFNyzx8V1mRU"
      }
    },
    {
      "cell_type": "code",
      "source": [
        "a = (1, 2, 3, 4, 5, 6)\n",
        "b = 2\n",
        "\n",
        "print(b in a)\n",
        "\n",
        "print('-'*20)\n",
        "a = (1, 2, 3, 4, 5, 6)\n",
        "b = 7\n",
        "print(b not in a)"
      ],
      "metadata": {
        "colab": {
          "base_uri": "https://localhost:8080/"
        },
        "id": "Z7zesG5n1tAf",
        "outputId": "0a749665-456d-4ade-e553-8b26b557beb4"
      },
      "execution_count": 5,
      "outputs": [
        {
          "output_type": "stream",
          "name": "stdout",
          "text": [
            "True\n",
            "--------------------\n",
            "True\n"
          ]
        }
      ]
    },
    {
      "cell_type": "markdown",
      "source": [
        "#**LATIHAN OPERATOR 5**"
      ],
      "metadata": {
        "id": "YQLo9fJG2E4a"
      }
    },
    {
      "cell_type": "code",
      "source": [
        "MK = 'PSDS'\n",
        "print('MataKuliah :', 'a' in MK)\n",
        "print('\\i\\' in MataKuliah :', 'a' in MK)\n",
        "print('\\k\\' not in MataKuliah :', 'k' not in MK)\n",
        "print('\\d\\' not in MataKuliah :', 'd' not in MK)\n",
        "print('\\n')\n",
        "\n",
        "x = ['a','b','c']\n",
        "print('bar :', x)\n",
        "print('\\'a\\' in bar :', 'a' in x)\n",
        "print('\\'a\\') not in bar :', 'a' not in x)\n",
        "print('\\'d\\' not in bar :', 'd' not in x)\n",
        "print('\\n')\n",
        "\n",
        "Nilai = (65, 40, 98, 77)\n",
        "print('Nilai :', Nilai)\n",
        "print('102 in Nilai :', 65 in Nilai)\n",
        "print('102 not in Nilai :', 100 not in Nilai)\n",
        "print('35 not in Nilai :', 40 in Nilai)"
      ],
      "metadata": {
        "colab": {
          "base_uri": "https://localhost:8080/"
        },
        "id": "S2T-Qu_oDr60",
        "outputId": "4cc17d2c-c8e4-4c86-d3d1-c4016425fed3"
      },
      "execution_count": 22,
      "outputs": [
        {
          "output_type": "stream",
          "name": "stdout",
          "text": [
            "MataKuliah : False\n",
            "\\i' in MataKuliah : False\n",
            "\\k' not in MataKuliah : True\n",
            "\\d' not in MataKuliah : True\n",
            "\n",
            "\n",
            "bar : ['a', 'b', 'c']\n",
            "'a' in bar : True\n",
            "'a') not in bar : False\n",
            "'d' not in bar : True\n",
            "\n",
            "\n",
            "Nilai : (65, 40, 98, 77)\n",
            "102 in Nilai : True\n",
            "102 not in Nilai : True\n",
            "35 not in Nilai : True\n"
          ]
        }
      ]
    },
    {
      "cell_type": "markdown",
      "source": [
        "#**VARIABEL**"
      ],
      "metadata": {
        "id": "I5ZqfHK02KTe"
      }
    },
    {
      "cell_type": "markdown",
      "source": [
        "Variabel : Lokal penyimpanan yang dapat digunakan untuk menampung sebuah data atau informasi.\n",
        "syarat-syarat penamaan variabel :\n",
        "1. Karakter-karakter yang digunakan untuk penamaan variabel adalah alphabet, angka, dan underscore.\n",
        "2. Karakter pertama variabel harus berupa huruf atau garis bawah/underscore, dan tidak bisa berupa angka.\n",
        "3. Nama sebuah variabel tidak bisa menggunakan keyword atau reserved words dari bahasa phyton seperti for, if, dan lainnya.\n",
        "4. Karakter pada nama variabel bersifat sensitif (case-sensitif)."
      ],
      "metadata": {
        "id": "b60DhS6e2NTv"
      }
    },
    {
      "cell_type": "code",
      "source": [
        "#Membuat Variabel\n",
        "Kalimat = 'Ini adalah Variabel'\n",
        "Bilangan1 = 4\n",
        "Bilangan2 = 2.5\n",
        "Bilangan3 = True\n",
        "Bilangan4 = 1j + 4\n",
        "\n",
        "#Menampilkan Variabel\n",
        "print(Kalimat)\n",
        "print(Bilangan1)\n",
        "print(Bilangan2)\n",
        "print(Bilangan3)\n",
        "print(Bilangan4)"
      ],
      "metadata": {
        "colab": {
          "base_uri": "https://localhost:8080/"
        },
        "id": "nKW9Wihy3aSQ",
        "outputId": "1870f760-9781-4553-eb05-47b2a255551b"
      },
      "execution_count": 6,
      "outputs": [
        {
          "output_type": "stream",
          "name": "stdout",
          "text": [
            "Ini adalah Variabel\n",
            "4\n",
            "2.5\n",
            "True\n",
            "(4+1j)\n"
          ]
        }
      ]
    },
    {
      "cell_type": "markdown",
      "source": [
        "#**LATIHAN 1**"
      ],
      "metadata": {
        "id": "Go1B6Km939D_"
      }
    },
    {
      "cell_type": "code",
      "source": [
        "#Membuat Variabel\n",
        "Kalimat = 'Saya Seorang Pengusaha Sukses'\n",
        "Bilangan1 = 10\n",
        "Bilangan2 = 24\n",
        "Bilangan3 = True\n",
        "Bilangan4 = 7j + 2\n",
        "\n",
        "#Menampilkan Variabel\n",
        "print(Kalimat)\n",
        "print(Bilangan1)\n",
        "print(Bilangan2)\n",
        "print(Bilangan3)\n",
        "print(Bilangan4)"
      ],
      "metadata": {
        "colab": {
          "base_uri": "https://localhost:8080/"
        },
        "id": "O03BaucZGD12",
        "outputId": "850800f6-3c98-42d0-a2c4-4ceed9cf6b10"
      },
      "execution_count": 23,
      "outputs": [
        {
          "output_type": "stream",
          "name": "stdout",
          "text": [
            "Saya Seorang Pengusaha Sukses\n",
            "10\n",
            "24\n",
            "True\n",
            "(2+7j)\n"
          ]
        }
      ]
    },
    {
      "cell_type": "markdown",
      "source": [
        "#**TIPE DATA & KONVERSI TIPE DATA**"
      ],
      "metadata": {
        "id": "G5BvvZQP4BVz"
      }
    },
    {
      "cell_type": "markdown",
      "source": [
        "**TIPE DATA**"
      ],
      "metadata": {
        "id": "G5QuUWwp4Gvi"
      }
    },
    {
      "cell_type": "markdown",
      "source": [
        "5 Tipe Data yaitu :\n",
        "1. Integer atau bilangan bulat\n",
        "2. Float atau bilangan desimal\n",
        "3. String atau kalimat\n",
        "4. Boolean yang terdiri dari True dan False\n",
        "5. Complex yang merupakan bilangan kompleks"
      ],
      "metadata": {
        "id": "WsFsBOax4M70"
      }
    },
    {
      "cell_type": "code",
      "source": [
        "#Menampilkan Tipe Data\n",
        "print(type(Kalimat))\n",
        "print(type(Bilangan1))\n",
        "print(type(Bilangan2))\n",
        "print(type(Bilangan3))\n",
        "print(type(Bilangan4))"
      ],
      "metadata": {
        "colab": {
          "base_uri": "https://localhost:8080/"
        },
        "id": "_m92fXSb4sS4",
        "outputId": "6093e209-8192-40eb-fc6a-b3ea24bce737"
      },
      "execution_count": 7,
      "outputs": [
        {
          "output_type": "stream",
          "name": "stdout",
          "text": [
            "<class 'str'>\n",
            "<class 'int'>\n",
            "<class 'float'>\n",
            "<class 'bool'>\n",
            "<class 'complex'>\n"
          ]
        }
      ]
    },
    {
      "cell_type": "markdown",
      "source": [
        "#**LATIHAN 2**"
      ],
      "metadata": {
        "id": "BrFv1gNV5Buw"
      }
    },
    {
      "cell_type": "code",
      "source": [
        "Var1 = 'Assalamualikum'\n",
        "Var2 = 10072002 #int\n",
        "Var3 = 0.10072002 #float\n",
        "Var4 = False #bool\n",
        "Var5 = 1j+1 #complex\n",
        "Var6 = 'Bermain bersama Aisyah'"
      ],
      "metadata": {
        "id": "O5Pv_cQI8UDf"
      },
      "execution_count": 11,
      "outputs": []
    },
    {
      "cell_type": "code",
      "source": [
        "print(Var1) #Tipe Data String\n",
        "print(Var2) #Tipe Data Integer\n",
        "print(Var3) #Tipe Data Float\n",
        "print(Var4) #Tipe Data Boolean\n",
        "print(Var5) #Tipe Data Complex"
      ],
      "metadata": {
        "colab": {
          "base_uri": "https://localhost:8080/"
        },
        "id": "olGeg6ZZ9E31",
        "outputId": "45692b04-ce42-4f3b-a201-25558ed22023"
      },
      "execution_count": 12,
      "outputs": [
        {
          "output_type": "stream",
          "name": "stdout",
          "text": [
            "Assalamualikum\n",
            "10072002\n",
            "0.10072002\n",
            "False\n",
            "(1+1j)\n"
          ]
        }
      ]
    },
    {
      "cell_type": "code",
      "source": [
        "print(Var1, 'Tipe Data Var1:', type(Var1))\n",
        "print(Var2, 'Tipe Data Var2:', type(Var2))\n",
        "print(Var3, 'Tipe Data Var3:', type(Var3))\n",
        "print(Var4, 'Tipe Data Var4:', type(Var4))\n",
        "print(Var5, 'Tipe Data Var5:', type(Var5))"
      ],
      "metadata": {
        "colab": {
          "base_uri": "https://localhost:8080/"
        },
        "id": "d7okRpvA9fFE",
        "outputId": "0f101de1-4a5f-4f32-dc34-74f3166b41be"
      },
      "execution_count": 13,
      "outputs": [
        {
          "output_type": "stream",
          "name": "stdout",
          "text": [
            "Assalamualikum Tipe Data Var1: <class 'str'>\n",
            "10072002 Tipe Data Var2: <class 'int'>\n",
            "0.10072002 Tipe Data Var3: <class 'float'>\n",
            "False Tipe Data Var4: <class 'bool'>\n",
            "(1+1j) Tipe Data Var5: <class 'complex'>\n"
          ]
        }
      ]
    },
    {
      "cell_type": "markdown",
      "source": [
        "**KONVERSI TIPE DATA**"
      ],
      "metadata": {
        "id": "W0wYMVUH5GAt"
      }
    },
    {
      "cell_type": "code",
      "source": [
        "#Konversi Tipe Data Integer\n",
        "print(int(Bilangan2))\n",
        "print(int(Bilangan3))\n",
        "\n",
        "#Konversi Tipe Data Float\n",
        "print(float(Bilangan1))\n",
        "print(float(Bilangan3))\n",
        "\n",
        "#Konversi Tipe Data String\n",
        "print(str(Bilangan1))\n",
        "print(str(Bilangan2))\n",
        "print(str(Bilangan3))\n",
        "\n",
        "#Konversi Tipe Data Bool\n",
        "print(bool(Bilangan1))\n",
        "print(bool(Bilangan2))\n",
        "\n",
        "#Konversi Tipe Data Complex\n",
        "print(complex(Bilangan1))\n",
        "print(complex(Bilangan2))\n",
        "print(complex(Bilangan3))"
      ],
      "metadata": {
        "colab": {
          "base_uri": "https://localhost:8080/"
        },
        "id": "Rm4NR0i15KHr",
        "outputId": "528e2d20-1732-4606-9e29-b8bf5e05ddab"
      },
      "execution_count": 8,
      "outputs": [
        {
          "output_type": "stream",
          "name": "stdout",
          "text": [
            "2\n",
            "1\n",
            "4.0\n",
            "1.0\n",
            "4\n",
            "2.5\n",
            "True\n",
            "True\n",
            "True\n",
            "(4+0j)\n",
            "(2.5+0j)\n",
            "(1+0j)\n"
          ]
        }
      ]
    },
    {
      "cell_type": "markdown",
      "source": [
        "#**LATIHAN 3**"
      ],
      "metadata": {
        "id": "yO3JGc386RUd"
      }
    },
    {
      "cell_type": "code",
      "source": [
        "number = 20\n",
        "print(\"data =\", number, \", type =\", type(number))"
      ],
      "metadata": {
        "colab": {
          "base_uri": "https://localhost:8080/"
        },
        "id": "C6s8ctRz1JCU",
        "outputId": "ae0696b8-6761-45dd-86d7-332b34c6f023"
      },
      "execution_count": 9,
      "outputs": [
        {
          "output_type": "stream",
          "name": "stdout",
          "text": [
            "data = 20 , type = <class 'int'>\n"
          ]
        }
      ]
    },
    {
      "cell_type": "code",
      "source": [
        "#Mengkonversi Tipe Data Integer\n",
        "kon_float = float(number)\n",
        "kon_str = str(number)\n",
        "kon_bool = bool(number) #False jika integer = 0, lainnya True (perhatikan hasilnya)\n",
        "\n",
        "#Melihat Data yang telah dikonversi\n",
        "print(\"data =\", kon_float , \",type =\", type(kon_float))\n",
        "print(\"data =\", kon_str , \",type =\", type(kon_str))\n",
        "print(\"data =\", kon_bool , \",type =\", type(kon_bool))"
      ],
      "metadata": {
        "colab": {
          "base_uri": "https://localhost:8080/"
        },
        "id": "_N8Prllz9_b-",
        "outputId": "ead9951b-dac6-47f3-d45d-b1afb01b7990"
      },
      "execution_count": 14,
      "outputs": [
        {
          "output_type": "stream",
          "name": "stdout",
          "text": [
            "data = 20.0 ,type = <class 'float'>\n",
            "data = 20 ,type = <class 'str'>\n",
            "data = True ,type = <class 'bool'>\n"
          ]
        }
      ]
    }
  ]
}