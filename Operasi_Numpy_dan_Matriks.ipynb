{
  "nbformat": 4,
  "nbformat_minor": 0,
  "metadata": {
    "colab": {
      "provenance": [],
      "authorship_tag": "ABX9TyO0OsTk8n4Jptx0P38sgcWy",
      "include_colab_link": true
    },
    "kernelspec": {
      "name": "python3",
      "display_name": "Python 3"
    },
    "language_info": {
      "name": "python"
    }
  },
  "cells": [
    {
      "cell_type": "markdown",
      "metadata": {
        "id": "view-in-github",
        "colab_type": "text"
      },
      "source": [
        "<a href=\"https://colab.research.google.com/github/SRIROSSAAISYAHPUTERIBAHARIE/PSDS-5.0/blob/main/Operasi_Numpy_dan_Matriks.ipynb\" target=\"_parent\"><img src=\"https://colab.research.google.com/assets/colab-badge.svg\" alt=\"Open In Colab\"/></a>"
      ]
    },
    {
      "cell_type": "markdown",
      "source": [
        "#**SRI ROSSA AISYAH PUTERI BAHARIE**\n",
        "#**2100015052**\n",
        "**PERTEMUAN 12**"
      ],
      "metadata": {
        "id": "fTxPi4Yq02SP"
      }
    },
    {
      "cell_type": "markdown",
      "source": [
        "#**Numpy Array**"
      ],
      "metadata": {
        "id": "MEsJrUaS06ZK"
      }
    },
    {
      "cell_type": "markdown",
      "source": [
        "Numpy merupakan salah satu libary Phyton yang banyak digunakan dalam proses analisis data karena fiturnya yang hebat."
      ],
      "metadata": {
        "id": "Co3ZhGI609Qi"
      }
    },
    {
      "cell_type": "code",
      "source": [
        "import numpy as np"
      ],
      "metadata": {
        "id": "RfNissRY1VEp"
      },
      "execution_count": 1,
      "outputs": []
    },
    {
      "cell_type": "markdown",
      "source": [
        "#**Membuat Array Numpy**"
      ],
      "metadata": {
        "id": "87UlHd571aEV"
      }
    },
    {
      "cell_type": "markdown",
      "source": [
        "Kita bisa membuat Array menggunakan Numpy dengan membungkusnya terlebih dahulu di list dan diubah menjadi numpy array."
      ],
      "metadata": {
        "id": "CKY-8YBN1fPB"
      }
    },
    {
      "cell_type": "code",
      "source": [
        "List_1 = [1, 2, 3, 4, 5]\n",
        "arr_1 = np.array([List_1])\n",
        "arr_1"
      ],
      "metadata": {
        "colab": {
          "base_uri": "https://localhost:8080/"
        },
        "id": "qvkvWle_1rN9",
        "outputId": "566d2fe7-a0fb-4f1f-d32b-b2c74c8b4c73"
      },
      "execution_count": 2,
      "outputs": [
        {
          "output_type": "execute_result",
          "data": {
            "text/plain": [
              "array([[1, 2, 3, 4, 5]])"
            ]
          },
          "metadata": {},
          "execution_count": 2
        }
      ]
    },
    {
      "cell_type": "markdown",
      "source": [
        "Beberapa fungsi yang dapat digunakan membuat array."
      ],
      "metadata": {
        "id": "RBg0QTc817ji"
      }
    },
    {
      "cell_type": "markdown",
      "source": [
        "```zeros()  -> Membuat array dengan nilai 0```\n",
        "\n",
        "```ones()     -> Membuat array dengan nilai 1```\n",
        "\n",
        "```arange()   -> Membuat array dengan nilai dalam range```\n",
        "\n",
        "```linspace()  -> Membuat array dengan nilai dalam interval```\n",
        "\n",
        "```logspace() -> Membuat array dengan nilai log Base10 dalam interval```\n",
        "\n",
        "```full       -> Membuat array dengan semua elemen penyusunnya sama```\n",
        "\n",
        "```full_like  -> Membuat array dengan semua elemen penyusunnya sama namun ukurannya dari array lainnya```\n",
        "\n",
        "```identity   -> Membuat array matriks identitas```\n",
        "\n",
        "```repeat     -> Membuat array dengan perulangan array atau seuence```"
      ],
      "metadata": {
        "id": "8Gv7Xge42IMp"
      }
    },
    {
      "cell_type": "code",
      "source": [
        "#Membuat array dengan nilai 0 dengan shape (5, 5)\n",
        "print(np.zeros((2, 5)))"
      ],
      "metadata": {
        "colab": {
          "base_uri": "https://localhost:8080/"
        },
        "id": "LN1r7GzY31qR",
        "outputId": "3913f796-2593-4eff-f318-abfa665f81d2"
      },
      "execution_count": 3,
      "outputs": [
        {
          "output_type": "stream",
          "name": "stdout",
          "text": [
            "[[0. 0. 0. 0. 0.]\n",
            " [0. 0. 0. 0. 0.]]\n"
          ]
        }
      ]
    },
    {
      "cell_type": "code",
      "source": [
        "#Membuat array dengan nilai 1 dengan shape (5, 3)\n",
        "print(np.ones((5, 3)))"
      ],
      "metadata": {
        "colab": {
          "base_uri": "https://localhost:8080/"
        },
        "id": "Xx0kneSJ4G7t",
        "outputId": "19f638a3-d2ba-47f9-faed-af92976c72a6"
      },
      "execution_count": 4,
      "outputs": [
        {
          "output_type": "stream",
          "name": "stdout",
          "text": [
            "[[1. 1. 1.]\n",
            " [1. 1. 1.]\n",
            " [1. 1. 1.]\n",
            " [1. 1. 1.]\n",
            " [1. 1. 1.]]\n"
          ]
        }
      ]
    },
    {
      "cell_type": "code",
      "source": [
        "#Arange (start, stop, step)\n",
        "print(np.arange(1, 10, 2))"
      ],
      "metadata": {
        "colab": {
          "base_uri": "https://localhost:8080/"
        },
        "id": "aR3a6sBy4SA6",
        "outputId": "ef4b54f1-d21e-4eed-8650-566a854a820f"
      },
      "execution_count": 5,
      "outputs": [
        {
          "output_type": "stream",
          "name": "stdout",
          "text": [
            "[1 3 5 7 9]\n"
          ]
        }
      ]
    },
    {
      "cell_type": "code",
      "source": [
        "#Linespace(start, stop, number)\n",
        "print(np.linspace(1, 10, 3))"
      ],
      "metadata": {
        "colab": {
          "base_uri": "https://localhost:8080/"
        },
        "id": "nxfyezp44_OP",
        "outputId": "8df9acb7-d795-49ed-a66a-fa1ff22abd82"
      },
      "execution_count": 7,
      "outputs": [
        {
          "output_type": "stream",
          "name": "stdout",
          "text": [
            "[ 1.   5.5 10. ]\n"
          ]
        }
      ]
    },
    {
      "cell_type": "code",
      "source": [
        "#Longspace(start, stop, number)\n",
        "print(np.logspace(1, 10, 2))"
      ],
      "metadata": {
        "colab": {
          "base_uri": "https://localhost:8080/"
        },
        "id": "bfJFTT735k3Y",
        "outputId": "99c873b3-3ec9-43fd-ed66-f327d917843d"
      },
      "execution_count": 8,
      "outputs": [
        {
          "output_type": "stream",
          "name": "stdout",
          "text": [
            "[1.e+01 1.e+10]\n"
          ]
        }
      ]
    },
    {
      "cell_type": "code",
      "source": [
        "#Membuat array matriks dengan shape (2, 2) dengan elemen 99\n",
        "print(np.full((2, 2), 4))"
      ],
      "metadata": {
        "colab": {
          "base_uri": "https://localhost:8080/"
        },
        "id": "hS_UP2PC52SU",
        "outputId": "9e55152d-f0c3-46c4-996b-7390ed320c2a"
      },
      "execution_count": 9,
      "outputs": [
        {
          "output_type": "stream",
          "name": "stdout",
          "text": [
            "[[4 4]\n",
            " [4 4]]\n"
          ]
        }
      ]
    },
    {
      "cell_type": "code",
      "source": [
        "#Membuat array matriks dengan shape yang sama dengan A dengan semua elemennya 4\n",
        "A = np.array([[1, 2, 3, 4, 5, 6, 7], [8, 9, 10, 11, 12, 13, 14]])\n",
        "print(A)\n",
        "print(np.full_like(A, 3))"
      ],
      "metadata": {
        "colab": {
          "base_uri": "https://localhost:8080/"
        },
        "id": "uZ0SskYj6NM2",
        "outputId": "6b0e8bba-3945-48b4-b87a-48b2eb54d88d"
      },
      "execution_count": 10,
      "outputs": [
        {
          "output_type": "stream",
          "name": "stdout",
          "text": [
            "[[ 1  2  3  4  5  6  7]\n",
            " [ 8  9 10 11 12 13 14]]\n",
            "[[3 3 3 3 3 3 3]\n",
            " [3 3 3 3 3 3 3]]\n"
          ]
        }
      ]
    },
    {
      "cell_type": "code",
      "source": [
        "#Random decimal numbers\n",
        "print(np.random.rand(4,2))"
      ],
      "metadata": {
        "colab": {
          "base_uri": "https://localhost:8080/"
        },
        "id": "IZYq3iJ664go",
        "outputId": "448d6310-b8ec-4594-bcc3-ba8fe96baed7"
      },
      "execution_count": 11,
      "outputs": [
        {
          "output_type": "stream",
          "name": "stdout",
          "text": [
            "[[0.756098   0.99763701]\n",
            " [0.09098937 0.0049467 ]\n",
            " [0.56171137 0.89471555]\n",
            " [0.20286195 0.93605411]]\n"
          ]
        }
      ]
    },
    {
      "cell_type": "code",
      "source": [
        "#Random Integer values\n",
        "print(np.random.randint(-4,8, size=(3,3)))"
      ],
      "metadata": {
        "colab": {
          "base_uri": "https://localhost:8080/"
        },
        "id": "MTf7mykj7CVp",
        "outputId": "85f7024a-f169-4ee2-8cbe-718b14852b75"
      },
      "execution_count": 12,
      "outputs": [
        {
          "output_type": "stream",
          "name": "stdout",
          "text": [
            "[[ 4  7 -4]\n",
            " [ 0 -1  2]\n",
            " [ 2  4  6]]\n"
          ]
        }
      ]
    },
    {
      "cell_type": "code",
      "source": [
        "#Membuat matriks identitas\n",
        "print(np.identity(5))"
      ],
      "metadata": {
        "colab": {
          "base_uri": "https://localhost:8080/"
        },
        "id": "daLNbzIY7Itp",
        "outputId": "f60c6390-3642-4422-f68e-452e13be9f47"
      },
      "execution_count": 13,
      "outputs": [
        {
          "output_type": "stream",
          "name": "stdout",
          "text": [
            "[[1. 0. 0. 0. 0.]\n",
            " [0. 1. 0. 0. 0.]\n",
            " [0. 0. 1. 0. 0.]\n",
            " [0. 0. 0. 1. 0.]\n",
            " [0. 0. 0. 0. 1.]]\n"
          ]
        }
      ]
    },
    {
      "cell_type": "code",
      "source": [
        "#Membuat matriks dengan perulangan array\n",
        "arr = np.array([[1,2,3]])\n",
        "r1 = np.repeat(arr,3, axis=0)\n",
        "print(r1)"
      ],
      "metadata": {
        "colab": {
          "base_uri": "https://localhost:8080/"
        },
        "id": "kqo85Do47QaH",
        "outputId": "edf59366-120c-4ba4-d58a-4cada8c65aea"
      },
      "execution_count": 14,
      "outputs": [
        {
          "output_type": "stream",
          "name": "stdout",
          "text": [
            "[[1 2 3]\n",
            " [1 2 3]\n",
            " [1 2 3]]\n"
          ]
        }
      ]
    },
    {
      "cell_type": "markdown",
      "source": [
        "#**Metode-metode pada Array**"
      ],
      "metadata": {
        "id": "rl5fjH8y3y5o"
      }
    },
    {
      "cell_type": "markdown",
      "source": [
        "Objek array pada Phyton Numpy memiliki berbagai method untuk melakukan operasi atau perintah-perintah tertentu. Berikut adalah fungsi-fungsi yang merupakan metode pada array yang sering dipakai :"
      ],
      "metadata": {
        "id": "KVosz2ov7eJm"
      }
    },
    {
      "cell_type": "markdown",
      "source": [
        "**array.ndim**\n",
        "\n",
        "Metode ini digunakan untuk mengetahui dimensi dari array."
      ],
      "metadata": {
        "id": "M0mc0alp72Ml"
      }
    },
    {
      "cell_type": "code",
      "source": [
        "a = np.array([29, 28, 30], dtype='int32')\n",
        "print(a)\n",
        "\n",
        "print(\"Dimensi dari array a adalah : \", a.ndim)"
      ],
      "metadata": {
        "colab": {
          "base_uri": "https://localhost:8080/"
        },
        "id": "DkoXgqiZ8Djx",
        "outputId": "ca03e97b-11ae-4c47-89ac-112eed69488f"
      },
      "execution_count": 15,
      "outputs": [
        {
          "output_type": "stream",
          "name": "stdout",
          "text": [
            "[29 28 30]\n",
            "Dimensi dari array a adalah :  1\n"
          ]
        }
      ]
    },
    {
      "cell_type": "markdown",
      "source": [
        "***array.shape**\n",
        "\n",
        "Metode ini digunakan untuk mengetahui ukuran (variabel dan baris) dari array."
      ],
      "metadata": {
        "id": "vQOXt0-W922i"
      }
    },
    {
      "cell_type": "code",
      "source": [
        "b = np.array([[9.0, 8.0, 7.0], [6.0, 5.0, 4.0]])\n",
        "print(b)\n",
        "\n",
        "print(\"Ukuran Shape dari array b adalah : \", b.shape)"
      ],
      "metadata": {
        "colab": {
          "base_uri": "https://localhost:8080/"
        },
        "id": "T196kyzf97tr",
        "outputId": "ee63f81b-44a3-4f28-d45a-0323c8988bfc"
      },
      "execution_count": 17,
      "outputs": [
        {
          "output_type": "stream",
          "name": "stdout",
          "text": [
            "[[9. 8. 7.]\n",
            " [6. 5. 4.]]\n",
            "Ukuran Shape dari array b adalah :  (2, 3)\n"
          ]
        }
      ]
    },
    {
      "cell_type": "markdown",
      "source": [
        "**array.dtype**\n",
        "\n",
        "Metode ini digunakan untuk mengetahui type data dari elemen penyusun array."
      ],
      "metadata": {
        "id": "XiOkmEzu-J_U"
      }
    },
    {
      "cell_type": "code",
      "source": [
        "a.dtype"
      ],
      "metadata": {
        "colab": {
          "base_uri": "https://localhost:8080/"
        },
        "id": "4_MPXjaI-RUH",
        "outputId": "0bed2d3f-9995-485a-b3a1-484090e5e8d0"
      },
      "execution_count": 18,
      "outputs": [
        {
          "output_type": "execute_result",
          "data": {
            "text/plain": [
              "dtype('int32')"
            ]
          },
          "metadata": {},
          "execution_count": 18
        }
      ]
    },
    {
      "cell_type": "markdown",
      "source": [
        "**array.size**\n",
        "\n",
        "Metode ini digunakan untuk menghitung jumlah elemen dari array."
      ],
      "metadata": {
        "id": "BRILsXmD-U3C"
      }
    },
    {
      "cell_type": "code",
      "source": [
        "a.size"
      ],
      "metadata": {
        "colab": {
          "base_uri": "https://localhost:8080/"
        },
        "id": "Qm0Dvsy--Z2A",
        "outputId": "99927d4f-0bcb-4438-8549-c52368bd0a26"
      },
      "execution_count": 19,
      "outputs": [
        {
          "output_type": "execute_result",
          "data": {
            "text/plain": [
              "3"
            ]
          },
          "metadata": {},
          "execution_count": 19
        }
      ]
    },
    {
      "cell_type": "markdown",
      "source": [
        "#**Multidimensional Array**"
      ],
      "metadata": {
        "id": "G83n7WNh-dJf"
      }
    },
    {
      "cell_type": "markdown",
      "source": [
        "Salah satu fitur menarik dari NumPy adalah dia mampu membuat multidimensional array dan melakukan manipulasi array dengan\n",
        "mudah dan cepat.\n",
        "\n",
        "Multidimensional array adalah array yang berbentuk lebih dari 1 dimensi (1D), bisa 2D, 3D, 4D dan seterusnya.\n",
        "\n",
        "Cara membuat multidimensional array sama dengan membuat array 1 dimensi, perbedaannya hanya pada parameter yang\n",
        "digunakan.\n",
        "\n",
        "Berikut contohnya membuat array 2 dimensi"
      ],
      "metadata": {
        "id": "R-TCpKf4-hhL"
      }
    },
    {
      "cell_type": "code",
      "source": [
        "arr_2 = np.array([[1, 2, 3, 4, 5], [2, 4, 6, 8, 10]])\n",
        "arr_2"
      ],
      "metadata": {
        "colab": {
          "base_uri": "https://localhost:8080/"
        },
        "id": "4-_suWtE-sRo",
        "outputId": "7b97f15c-79c4-4112-9a46-4cb4eb269b67"
      },
      "execution_count": 20,
      "outputs": [
        {
          "output_type": "execute_result",
          "data": {
            "text/plain": [
              "array([[ 1,  2,  3,  4,  5],\n",
              "       [ 2,  4,  6,  8, 10]])"
            ]
          },
          "metadata": {},
          "execution_count": 20
        }
      ]
    },
    {
      "cell_type": "markdown",
      "source": [
        "Array diatas adalah berbentuk (2, 5) artinya mempunyai 2 baris dan 5 kolom.\n",
        "\n",
        "Kita bisa melihat jumlah elemen di setiap dimensi dengan menggunakan shape."
      ],
      "metadata": {
        "id": "Nia00wy_-xcx"
      }
    },
    {
      "cell_type": "code",
      "source": [
        "arr_2.shape"
      ],
      "metadata": {
        "colab": {
          "base_uri": "https://localhost:8080/"
        },
        "id": "o-aTcTws--46",
        "outputId": "1287c005-5310-49ab-aa72-1720d5c638c9"
      },
      "execution_count": 21,
      "outputs": [
        {
          "output_type": "execute_result",
          "data": {
            "text/plain": [
              "(2, 5)"
            ]
          },
          "metadata": {},
          "execution_count": 21
        }
      ]
    },
    {
      "cell_type": "markdown",
      "source": [
        "#**Indexing dan Slicing**"
      ],
      "metadata": {
        "id": "pSivWEMA_CvD"
      }
    },
    {
      "cell_type": "markdown",
      "source": [
        "Kita juga dapat melakukan indexing dan slicing terhadap array dengan mudah\n",
        "Indexing dimulai dari 0 dan dimulai dengan notasi bracket “[ ]”\n",
        "Misal kita ingin mencari nilai yang berada di index 0, 2, dan 4."
      ],
      "metadata": {
        "id": "qOJ7_0ke_Gch"
      }
    },
    {
      "cell_type": "code",
      "source": [
        "arr_3 = np.array([1, 2, 3, 4, 5])\n",
        "print(arr_3[0])\n",
        "print(arr_3[2])\n",
        "print(arr_3[4])"
      ],
      "metadata": {
        "colab": {
          "base_uri": "https://localhost:8080/"
        },
        "id": "Vgq3-GKw_OET",
        "outputId": "e6bd1297-38dc-45a3-d3c1-51827f6ec01d"
      },
      "execution_count": 22,
      "outputs": [
        {
          "output_type": "stream",
          "name": "stdout",
          "text": [
            "1\n",
            "3\n",
            "5\n"
          ]
        }
      ]
    },
    {
      "cell_type": "markdown",
      "source": [
        "Untuk mengambil nilai berderet tambahkan \":\""
      ],
      "metadata": {
        "id": "a5Dx3fX4_VpP"
      }
    },
    {
      "cell_type": "code",
      "source": [
        "arr_3 = np.array([1, 2, 3, 4, 5])\n",
        "print(arr_3[0:4])"
      ],
      "metadata": {
        "colab": {
          "base_uri": "https://localhost:8080/"
        },
        "id": "aMZncWgN_a0d",
        "outputId": "a6a91a5f-ec0d-4a78-8429-2eea06968875"
      },
      "execution_count": 23,
      "outputs": [
        {
          "output_type": "stream",
          "name": "stdout",
          "text": [
            "[1 2 3 4]\n"
          ]
        }
      ]
    },
    {
      "cell_type": "code",
      "source": [
        "arr_4 = np.array([[1, 2, 3, 4, 5], [2, 4, 6, 8, 10]])\n",
        "print(arr_4)\n",
        "print(arr_4[1, 3])"
      ],
      "metadata": {
        "colab": {
          "base_uri": "https://localhost:8080/"
        },
        "id": "1108n4JG_hKu",
        "outputId": "0c47cd0a-1b9e-467a-8db0-6bbc2d4c3849"
      },
      "execution_count": 24,
      "outputs": [
        {
          "output_type": "stream",
          "name": "stdout",
          "text": [
            "[[ 1  2  3  4  5]\n",
            " [ 2  4  6  8 10]]\n",
            "8\n"
          ]
        }
      ]
    },
    {
      "cell_type": "markdown",
      "source": [
        "Nilai pada kolom index ke-1 dan baris index ke-1 adalah 4."
      ],
      "metadata": {
        "id": "VieiTV_A_nIf"
      }
    },
    {
      "cell_type": "markdown",
      "source": [
        "#**Operasi Aritmatika**"
      ],
      "metadata": {
        "id": "Vj6Awiah_vpP"
      }
    },
    {
      "cell_type": "markdown",
      "source": [
        "Kita bisa menggunakan operasi aritmatika seperti penjumlahan, pengurangan, perkalian, pembagian dan perpangkatan\n",
        "Operator yang digunakan adalah +, -, , / dan *\n",
        "\n",
        "Berikut contoh operasi aritmatika pada array :"
      ],
      "metadata": {
        "id": "nr-z32YU_0Fp"
      }
    },
    {
      "cell_type": "code",
      "source": [
        "arr_A = np.array([1, 2, 3, 4, 5])\n",
        "arr_B = np.array([2, 2, 2, 2, 2])\n",
        "\n",
        "print(\"Penjumlahan = \", arr_A + arr_B)\n",
        "print(\"Pengurangan = \", arr_A - arr_B)\n",
        "print(\"Perkalian = \", arr_A * arr_B)\n",
        "print(\"Pembagian = \", arr_A / arr_B)\n",
        "print(\"Perpangkatan = \", arr_A ** arr_B)"
      ],
      "metadata": {
        "colab": {
          "base_uri": "https://localhost:8080/"
        },
        "id": "e1teFEWM_9Pt",
        "outputId": "a95f1c6e-ea03-4e6d-b71a-e902a0a9c7f3"
      },
      "execution_count": 25,
      "outputs": [
        {
          "output_type": "stream",
          "name": "stdout",
          "text": [
            "Penjumlahan =  [3 4 5 6 7]\n",
            "Pengurangan =  [-1  0  1  2  3]\n",
            "Perkalian =  [ 2  4  6  8 10]\n",
            "Pembagian =  [0.5 1.  1.5 2.  2.5]\n",
            "Perpangkatan =  [ 1  4  9 16 25]\n"
          ]
        }
      ]
    },
    {
      "cell_type": "markdown",
      "source": [
        "#**Operasi Matematika**"
      ],
      "metadata": {
        "id": "rAaBhUlwAHqG"
      }
    },
    {
      "cell_type": "markdown",
      "source": [
        "NumPy mempunyai fungsi matematika yang dapat digunakan pada Array.\n",
        "\n",
        "Beberapa contoh fungsi statistik antara lain min(), max(), mean(), sum(), std().\n"
      ],
      "metadata": {
        "id": "QLIsPy-7APIh"
      }
    },
    {
      "cell_type": "code",
      "source": [
        "arr_5 = np.array([1, -2, 3, 4, 5])\n",
        "print(\"Nilai minimal = \", arr_5.min())\n",
        "print(\"Nilai maksimal = \", arr_5.max())\n",
        "print(\"Nilai rata-rata = \", arr_5.mean())\n",
        "print(\"Total nilai = \", arr_5.sum())\n",
        "print(\"Standar Deviasi = \", arr_5.std())"
      ],
      "metadata": {
        "colab": {
          "base_uri": "https://localhost:8080/"
        },
        "id": "AKQ2UHvYAUPN",
        "outputId": "86d547ae-7483-44be-b90a-42548b82382c"
      },
      "execution_count": 26,
      "outputs": [
        {
          "output_type": "stream",
          "name": "stdout",
          "text": [
            "Nilai minimal =  -2\n",
            "Nilai maksimal =  5\n",
            "Nilai rata-rata =  2.2\n",
            "Total nilai =  11\n",
            "Standar Deviasi =  2.4819347291981715\n"
          ]
        }
      ]
    },
    {
      "cell_type": "markdown",
      "source": [
        "Ada juga fungsi argmin() dan argmax() untuk mendapatkan index dari nilai minimum dan maksimum."
      ],
      "metadata": {
        "id": "r61umx-xAc2p"
      }
    },
    {
      "cell_type": "code",
      "source": [
        "print(\"Index nilai niminal = \", arr_5.argmin())\n",
        "print(\"Index nilai maksimal = \", arr_5.argmax())"
      ],
      "metadata": {
        "colab": {
          "base_uri": "https://localhost:8080/"
        },
        "id": "eS4fyySeAd-l",
        "outputId": "072ac18b-468d-45f4-f571-cf07f02e25ae"
      },
      "execution_count": 27,
      "outputs": [
        {
          "output_type": "stream",
          "name": "stdout",
          "text": [
            "Index nilai niminal =  1\n",
            "Index nilai maksimal =  4\n"
          ]
        }
      ]
    },
    {
      "cell_type": "markdown",
      "source": [
        "#**Transformasi Array**"
      ],
      "metadata": {
        "id": "yBYZ_yGiAhjO"
      }
    },
    {
      "cell_type": "markdown",
      "source": [
        "Kita dapat membuat array baru dari array yang sudah ada melalui berbagai metode transformasi seperti merubah ukuran,\n",
        "menggabungkan dua array atau lebih dan lain sebagainya.\n"
      ],
      "metadata": {
        "id": "vLhn5mr6Ans-"
      }
    },
    {
      "cell_type": "markdown",
      "source": [
        "**array.reshape**\n",
        "\n",
        "Metode ini digunakan untuk merubah shape array dengan jumlah elemen yang tidak berubah.\n"
      ],
      "metadata": {
        "id": "vZkW94aRAzzc"
      }
    },
    {
      "cell_type": "code",
      "source": [
        "sebelum = np.array([[1,2,3,4],[5,6,7,8]])\n",
        "print(sebelum)\n",
        "sesudah = sebelum.reshape((8,1))\n",
        "print(sesudah)"
      ],
      "metadata": {
        "colab": {
          "base_uri": "https://localhost:8080/"
        },
        "id": "7f_wA_7lA5xE",
        "outputId": "4aae17ac-6dab-49ad-ebc0-72bf7809020c"
      },
      "execution_count": 28,
      "outputs": [
        {
          "output_type": "stream",
          "name": "stdout",
          "text": [
            "[[1 2 3 4]\n",
            " [5 6 7 8]]\n",
            "[[1]\n",
            " [2]\n",
            " [3]\n",
            " [4]\n",
            " [5]\n",
            " [6]\n",
            " [7]\n",
            " [8]]\n"
          ]
        }
      ]
    },
    {
      "cell_type": "markdown",
      "source": [
        "Perhatikan bahwa array sebelum memiliki jumlah elemen 8 (2, 4) dan array sesudah juga memiliki jumlah elemen 8 (4, 2)."
      ],
      "metadata": {
        "id": "eDAMJ852BAIb"
      }
    },
    {
      "cell_type": "markdown",
      "source": [
        "**array.vstack**\n",
        "\n",
        "Metode ini dilakukan untuk menumpuk beberapa array secara vertikal."
      ],
      "metadata": {
        "id": "wSr4rwwFBDCt"
      }
    },
    {
      "cell_type": "code",
      "source": [
        "v1 = np.array([1, 2, 3, 4])\n",
        "v2 = np.array([5, 6, 7, 8])\n",
        "np.vstack([v1, v2, v1, v2])"
      ],
      "metadata": {
        "colab": {
          "base_uri": "https://localhost:8080/"
        },
        "id": "Y7k2WXb1BIwy",
        "outputId": "05127ff3-aa47-412c-c010-ad009b87f2d2"
      },
      "execution_count": 29,
      "outputs": [
        {
          "output_type": "execute_result",
          "data": {
            "text/plain": [
              "array([[1, 2, 3, 4],\n",
              "       [5, 6, 7, 8],\n",
              "       [1, 2, 3, 4],\n",
              "       [5, 6, 7, 8]])"
            ]
          },
          "metadata": {},
          "execution_count": 29
        }
      ]
    },
    {
      "cell_type": "markdown",
      "source": [
        "**array.hstack**\n",
        "\n",
        "Metode ini dilakukan untuk menumpuk beberapa array secara horizontal.\n"
      ],
      "metadata": {
        "id": "qhtGFznHBUk2"
      }
    },
    {
      "cell_type": "code",
      "source": [
        "h1 = np.ones((2, 4))\n",
        "h2 = np.zeros((2, 2))\n",
        "print(h1)\n",
        "print(h2)\n",
        "\n",
        "print(np.hstack((h1, h2)))"
      ],
      "metadata": {
        "colab": {
          "base_uri": "https://localhost:8080/"
        },
        "id": "5MvxXtLFBZdQ",
        "outputId": "eef4638e-e0d8-4c16-a5b7-053337827115"
      },
      "execution_count": 30,
      "outputs": [
        {
          "output_type": "stream",
          "name": "stdout",
          "text": [
            "[[1. 1. 1. 1.]\n",
            " [1. 1. 1. 1.]]\n",
            "[[0. 0.]\n",
            " [0. 0.]]\n",
            "[[1. 1. 1. 1. 0. 0.]\n",
            " [1. 1. 1. 1. 0. 0.]]\n"
          ]
        }
      ]
    },
    {
      "cell_type": "markdown",
      "source": [
        "#**Representasi Matriks Pada Phyton**"
      ],
      "metadata": {
        "id": "QnK0utW0BlXF"
      }
    },
    {
      "cell_type": "markdown",
      "source": [
        "Matriks adalah array 2 dimensi khusus yang mempertahankan sifat 2 dimensinnya melalui operasi. Matriks memiliki operator\n",
        "khusus tertentu, seperti perkalian matriks dan pemangkatan matriks.\n",
        "\n",
        "Berikut adalah beberapa penulisan python di berbagai platform:\n",
        "\n",
        "Berikut contoh penulisan matriks pada python:"
      ],
      "metadata": {
        "id": "m3Cdmzn4Buee"
      }
    },
    {
      "cell_type": "code",
      "source": [
        "import numpy as np"
      ],
      "metadata": {
        "id": "hT4MDEsRB2ih"
      },
      "execution_count": 31,
      "outputs": []
    },
    {
      "cell_type": "code",
      "source": [
        "A = np.array([[1, 2], [4, 5]])\n",
        "A"
      ],
      "metadata": {
        "colab": {
          "base_uri": "https://localhost:8080/"
        },
        "id": "4gkvcEjMB5or",
        "outputId": "25b47759-f406-4e27-b17f-eb150839e3fa"
      },
      "execution_count": 32,
      "outputs": [
        {
          "output_type": "execute_result",
          "data": {
            "text/plain": [
              "array([[1, 2],\n",
              "       [4, 5]])"
            ]
          },
          "metadata": {},
          "execution_count": 32
        }
      ]
    },
    {
      "cell_type": "code",
      "source": [
        "B = np.array([[1, 2, 3], [4, 5, 6], [7, 8, 9]])\n",
        "B"
      ],
      "metadata": {
        "colab": {
          "base_uri": "https://localhost:8080/"
        },
        "id": "_En1E5tMB_Q0",
        "outputId": "37d69f3e-7985-48a0-ee5a-bda356ab157e"
      },
      "execution_count": 33,
      "outputs": [
        {
          "output_type": "execute_result",
          "data": {
            "text/plain": [
              "array([[1, 2, 3],\n",
              "       [4, 5, 6],\n",
              "       [7, 8, 9]])"
            ]
          },
          "metadata": {},
          "execution_count": 33
        }
      ]
    },
    {
      "cell_type": "markdown",
      "source": [
        "#**Operasi Matriks Pada Phyton**"
      ],
      "metadata": {
        "id": "qsvRyn--CCqA"
      }
    },
    {
      "cell_type": "code",
      "source": [
        "P = np.array([[1, 2], [4, 5]])\n",
        "P"
      ],
      "metadata": {
        "colab": {
          "base_uri": "https://localhost:8080/"
        },
        "id": "e29KLicpCQiM",
        "outputId": "1f1592f7-f90a-4d75-dcda-4ba98fcad642"
      },
      "execution_count": 34,
      "outputs": [
        {
          "output_type": "execute_result",
          "data": {
            "text/plain": [
              "array([[1, 2],\n",
              "       [4, 5]])"
            ]
          },
          "metadata": {},
          "execution_count": 34
        }
      ]
    },
    {
      "cell_type": "code",
      "source": [
        "Q = np.array([[7, 8], [9, 10]])\n",
        "Q"
      ],
      "metadata": {
        "colab": {
          "base_uri": "https://localhost:8080/"
        },
        "id": "3CVNHVAxCTYX",
        "outputId": "f8d2f59a-a62b-4d70-ebc7-50ad11734056"
      },
      "execution_count": 35,
      "outputs": [
        {
          "output_type": "execute_result",
          "data": {
            "text/plain": [
              "array([[ 7,  8],\n",
              "       [ 9, 10]])"
            ]
          },
          "metadata": {},
          "execution_count": 35
        }
      ]
    },
    {
      "cell_type": "code",
      "source": [
        "a = 29\n",
        "a"
      ],
      "metadata": {
        "colab": {
          "base_uri": "https://localhost:8080/"
        },
        "id": "SyQNkJp3CW4C",
        "outputId": "06ec4459-eda2-435b-bd1d-7a1b70abc778"
      },
      "execution_count": 36,
      "outputs": [
        {
          "output_type": "execute_result",
          "data": {
            "text/plain": [
              "29"
            ]
          },
          "metadata": {},
          "execution_count": 36
        }
      ]
    },
    {
      "cell_type": "markdown",
      "source": [
        "**Penjumlahan Matriks**"
      ],
      "metadata": {
        "id": "zZNuO3WnCZYE"
      }
    },
    {
      "cell_type": "code",
      "source": [
        "np.add(P, Q)"
      ],
      "metadata": {
        "colab": {
          "base_uri": "https://localhost:8080/"
        },
        "id": "BLh7OijFCcO8",
        "outputId": "8d5cbdc9-270a-4e96-c00d-afedfd858b22"
      },
      "execution_count": 37,
      "outputs": [
        {
          "output_type": "execute_result",
          "data": {
            "text/plain": [
              "array([[ 8, 10],\n",
              "       [13, 15]])"
            ]
          },
          "metadata": {},
          "execution_count": 37
        }
      ]
    },
    {
      "cell_type": "markdown",
      "source": [
        "**Pengurangan Matriks**"
      ],
      "metadata": {
        "id": "KfwRFuNJCg3S"
      }
    },
    {
      "cell_type": "code",
      "source": [
        "np.subtract(P, Q)"
      ],
      "metadata": {
        "colab": {
          "base_uri": "https://localhost:8080/"
        },
        "id": "HBNJQ1hSCkdx",
        "outputId": "0590cd89-8f9d-4982-dbc5-ad0cae76c1f6"
      },
      "execution_count": 38,
      "outputs": [
        {
          "output_type": "execute_result",
          "data": {
            "text/plain": [
              "array([[-6, -6],\n",
              "       [-5, -5]])"
            ]
          },
          "metadata": {},
          "execution_count": 38
        }
      ]
    },
    {
      "cell_type": "markdown",
      "source": [
        "**Perkalian Skalar Matriks**"
      ],
      "metadata": {
        "id": "jo2rY3M5Cpac"
      }
    },
    {
      "cell_type": "code",
      "source": [
        "a*P"
      ],
      "metadata": {
        "colab": {
          "base_uri": "https://localhost:8080/"
        },
        "id": "6uF5hUl7Ctao",
        "outputId": "1590c77a-7a57-448e-c163-f3c30979bcac"
      },
      "execution_count": 39,
      "outputs": [
        {
          "output_type": "execute_result",
          "data": {
            "text/plain": [
              "array([[ 29,  58],\n",
              "       [116, 145]])"
            ]
          },
          "metadata": {},
          "execution_count": 39
        }
      ]
    },
    {
      "cell_type": "markdown",
      "source": [
        "**Perkalian Matriks**"
      ],
      "metadata": {
        "id": "neEJV4GRCwSF"
      }
    },
    {
      "cell_type": "code",
      "source": [
        "np.multiply(P, Q)"
      ],
      "metadata": {
        "colab": {
          "base_uri": "https://localhost:8080/"
        },
        "id": "RvsZ9_o6C0an",
        "outputId": "4adf1781-92c7-4cc0-bb27-1db6608889f1"
      },
      "execution_count": 40,
      "outputs": [
        {
          "output_type": "execute_result",
          "data": {
            "text/plain": [
              "array([[ 7, 16],\n",
              "       [36, 50]])"
            ]
          },
          "metadata": {},
          "execution_count": 40
        }
      ]
    },
    {
      "cell_type": "markdown",
      "source": [
        "**Perkalian Titik Matriks (Dot Product)**"
      ],
      "metadata": {
        "id": "CT90ZcsSCy4k"
      }
    },
    {
      "cell_type": "code",
      "source": [
        "np.dot(P, Q)"
      ],
      "metadata": {
        "colab": {
          "base_uri": "https://localhost:8080/"
        },
        "id": "PhUQI_toDSOs",
        "outputId": "2e6f6e22-136f-4294-eecd-2a934ef2876c"
      },
      "execution_count": 41,
      "outputs": [
        {
          "output_type": "execute_result",
          "data": {
            "text/plain": [
              "array([[25, 28],\n",
              "       [73, 82]])"
            ]
          },
          "metadata": {},
          "execution_count": 41
        }
      ]
    },
    {
      "cell_type": "markdown",
      "source": [
        "**Transpose Matriks**"
      ],
      "metadata": {
        "id": "QgyrgLN2DWWu"
      }
    },
    {
      "cell_type": "code",
      "source": [
        "P.T"
      ],
      "metadata": {
        "colab": {
          "base_uri": "https://localhost:8080/"
        },
        "id": "8A0xa4wBDZS2",
        "outputId": "98e2b23e-fd8d-46e9-b99f-ceb25f701247"
      },
      "execution_count": 42,
      "outputs": [
        {
          "output_type": "execute_result",
          "data": {
            "text/plain": [
              "array([[1, 4],\n",
              "       [2, 5]])"
            ]
          },
          "metadata": {},
          "execution_count": 42
        }
      ]
    },
    {
      "cell_type": "markdown",
      "source": [
        "**Operasi Fungsi Pada Setiap Elemen Matriks - Akar Kuadrat**"
      ],
      "metadata": {
        "id": "WBJczx0LDbeS"
      }
    },
    {
      "cell_type": "code",
      "source": [
        "np.sqrt(P)"
      ],
      "metadata": {
        "colab": {
          "base_uri": "https://localhost:8080/"
        },
        "id": "oFagb4WxDjSD",
        "outputId": "9d374795-7a1a-468c-cd4c-006fad2e70b0"
      },
      "execution_count": 43,
      "outputs": [
        {
          "output_type": "execute_result",
          "data": {
            "text/plain": [
              "array([[1.        , 1.41421356],\n",
              "       [2.        , 2.23606798]])"
            ]
          },
          "metadata": {},
          "execution_count": 43
        }
      ]
    },
    {
      "cell_type": "markdown",
      "source": [
        "**Menjumlahkan Semua Elemen Kolom Sebuah Matriks**"
      ],
      "metadata": {
        "id": "tdipxAn0DmI-"
      }
    },
    {
      "cell_type": "code",
      "source": [
        "Q"
      ],
      "metadata": {
        "colab": {
          "base_uri": "https://localhost:8080/"
        },
        "id": "w_ExZ79bDtK0",
        "outputId": "6d4f54ba-8e3f-469c-8944-fb607b4efe83"
      },
      "execution_count": 44,
      "outputs": [
        {
          "output_type": "execute_result",
          "data": {
            "text/plain": [
              "array([[ 7,  8],\n",
              "       [ 9, 10]])"
            ]
          },
          "metadata": {},
          "execution_count": 44
        }
      ]
    },
    {
      "cell_type": "code",
      "source": [
        "np.sum(Q, axis = 1)"
      ],
      "metadata": {
        "colab": {
          "base_uri": "https://localhost:8080/"
        },
        "id": "mb-8XkI_Dv2L",
        "outputId": "319a6b6c-b78c-4cfa-9d23-638e0a242916"
      },
      "execution_count": 45,
      "outputs": [
        {
          "output_type": "execute_result",
          "data": {
            "text/plain": [
              "array([15, 19])"
            ]
          },
          "metadata": {},
          "execution_count": 45
        }
      ]
    },
    {
      "cell_type": "markdown",
      "source": [
        "**Menjumlahkan Semua Elemen Baris Sebuah Matriks**"
      ],
      "metadata": {
        "id": "kQLB3GtaD2AW"
      }
    },
    {
      "cell_type": "code",
      "source": [
        "np.sum(Q, axis = 0)"
      ],
      "metadata": {
        "colab": {
          "base_uri": "https://localhost:8080/"
        },
        "id": "Lw4YDjx2D8Vb",
        "outputId": "a53d01cc-dce9-4608-a4cf-5029b1704ea3"
      },
      "execution_count": 46,
      "outputs": [
        {
          "output_type": "execute_result",
          "data": {
            "text/plain": [
              "array([16, 18])"
            ]
          },
          "metadata": {},
          "execution_count": 46
        }
      ]
    },
    {
      "cell_type": "markdown",
      "source": [
        "#**Aljabar Linear Pada Phyton**"
      ],
      "metadata": {
        "id": "95EOVP88ECSH"
      }
    },
    {
      "cell_type": "markdown",
      "source": [
        "Dalam modul numpy juga disediakan fungsi-fungsi Aljabar Linear untuk matriks. Beberapa konsep Aljabar Linear yang akan\n",
        "ditunjukkan di modul ini adalah :\n",
        "\n",
        "*   Determinan\n",
        "*   Inverse\n",
        "*   Nilai Eigen\n",
        "*   Vector Eigen\n",
        "*   Matriks Identitas\n",
        "*   Matriks Satuan\n",
        "*   Matriks Nol\n",
        "*   Matriks Segitiga L dan U\n",
        "*   Dekomposisi L U matriks\n"
      ],
      "metadata": {
        "id": "8mx6T30oEIDv"
      }
    },
    {
      "cell_type": "code",
      "source": [
        "A = np.array([[2, 3, 4], [7, 8, 9], [10, 7, 8]])\n",
        "A"
      ],
      "metadata": {
        "colab": {
          "base_uri": "https://localhost:8080/"
        },
        "id": "muacoxjKE4sl",
        "outputId": "981722f5-e273-4586-9737-707e09584ac6"
      },
      "execution_count": 47,
      "outputs": [
        {
          "output_type": "execute_result",
          "data": {
            "text/plain": [
              "array([[ 2,  3,  4],\n",
              "       [ 7,  8,  9],\n",
              "       [10,  7,  8]])"
            ]
          },
          "metadata": {},
          "execution_count": 47
        }
      ]
    },
    {
      "cell_type": "code",
      "source": [
        "B = np.array([[5, 7, 4], [6, 8, 9], [1, 2, 6]])\n",
        "B"
      ],
      "metadata": {
        "colab": {
          "base_uri": "https://localhost:8080/"
        },
        "id": "ycJ-tnyrFAGQ",
        "outputId": "ee7c54dc-1cf1-4a66-ab38-aed5722898c0"
      },
      "execution_count": 48,
      "outputs": [
        {
          "output_type": "execute_result",
          "data": {
            "text/plain": [
              "array([[5, 7, 4],\n",
              "       [6, 8, 9],\n",
              "       [1, 2, 6]])"
            ]
          },
          "metadata": {},
          "execution_count": 48
        }
      ]
    },
    {
      "cell_type": "markdown",
      "source": [
        "**Determinan**"
      ],
      "metadata": {
        "id": "Z-IiwMwhFHgE"
      }
    },
    {
      "cell_type": "code",
      "source": [
        "np.linalg.det(A)"
      ],
      "metadata": {
        "colab": {
          "base_uri": "https://localhost:8080/"
        },
        "id": "aRDUy7tvFKI8",
        "outputId": "6dbc5137-32cb-48c4-9e91-86ed9f349e62"
      },
      "execution_count": 49,
      "outputs": [
        {
          "output_type": "execute_result",
          "data": {
            "text/plain": [
              "-20.000000000000007"
            ]
          },
          "metadata": {},
          "execution_count": 49
        }
      ]
    },
    {
      "cell_type": "markdown",
      "source": [
        "**Inverse Matriks**"
      ],
      "metadata": {
        "id": "5HWaS92aFNvL"
      }
    },
    {
      "cell_type": "code",
      "source": [
        "np.linalg.inv(A)"
      ],
      "metadata": {
        "colab": {
          "base_uri": "https://localhost:8080/"
        },
        "id": "ILJlNceCFQkf",
        "outputId": "5a9c06f7-304f-4449-b022-a7bfe6e4eb59"
      },
      "execution_count": 50,
      "outputs": [
        {
          "output_type": "execute_result",
          "data": {
            "text/plain": [
              "array([[-0.05, -0.2 ,  0.25],\n",
              "       [-1.7 ,  1.2 , -0.5 ],\n",
              "       [ 1.55, -0.8 ,  0.25]])"
            ]
          },
          "metadata": {},
          "execution_count": 50
        }
      ]
    },
    {
      "cell_type": "markdown",
      "source": [
        "**Nilai Eigen dan Vector Eigen**"
      ],
      "metadata": {
        "id": "bYpvxJClFUPN"
      }
    },
    {
      "cell_type": "code",
      "source": [
        "eig, vec_eig = np.linalg.eig(A)\n",
        "print('Nilai eigen matriks A:')\n",
        "print(eig)\n",
        "print('Vektor eigen matriks A:')\n",
        "print(vec_eig)"
      ],
      "metadata": {
        "colab": {
          "base_uri": "https://localhost:8080/"
        },
        "id": "WCEy1RmDFYl0",
        "outputId": "c74f692e-1754-4065-a9aa-dbad004ed8a2"
      },
      "execution_count": 51,
      "outputs": [
        {
          "output_type": "stream",
          "name": "stdout",
          "text": [
            "Nilai eigen matriks A:\n",
            "[19.39079317 -1.9262474   0.53545423]\n",
            "Vektor eigen matriks A:\n",
            "[[-0.27295093 -0.54761756  0.15754422]\n",
            " [-0.6940728  -0.31621014 -0.8168342 ]\n",
            " [-0.66615369  0.7746781   0.55494297]]\n"
          ]
        }
      ]
    },
    {
      "cell_type": "markdown",
      "source": [
        "**Matriks Identitas**"
      ],
      "metadata": {
        "id": "l-mrQm99GAkg"
      }
    },
    {
      "cell_type": "code",
      "source": [
        "Identitas=np.identity(5)\n",
        "print(Identitas)"
      ],
      "metadata": {
        "colab": {
          "base_uri": "https://localhost:8080/"
        },
        "id": "X2Q25eCZGE7m",
        "outputId": "226b2c05-0a2c-450d-a5cb-b58e8cd4a571"
      },
      "execution_count": 52,
      "outputs": [
        {
          "output_type": "stream",
          "name": "stdout",
          "text": [
            "[[1. 0. 0. 0. 0.]\n",
            " [0. 1. 0. 0. 0.]\n",
            " [0. 0. 1. 0. 0.]\n",
            " [0. 0. 0. 1. 0.]\n",
            " [0. 0. 0. 0. 1.]]\n"
          ]
        }
      ]
    },
    {
      "cell_type": "code",
      "source": [
        "Identitas[:,3]"
      ],
      "metadata": {
        "colab": {
          "base_uri": "https://localhost:8080/"
        },
        "id": "MXRfTKxhGIM7",
        "outputId": "71954496-de94-4466-80be-d1b635d977d9"
      },
      "execution_count": 53,
      "outputs": [
        {
          "output_type": "execute_result",
          "data": {
            "text/plain": [
              "array([0., 0., 0., 1., 0.])"
            ]
          },
          "metadata": {},
          "execution_count": 53
        }
      ]
    },
    {
      "cell_type": "markdown",
      "source": [
        "**Matriks Satuan**"
      ],
      "metadata": {
        "id": "6WUjRNxHGJXa"
      }
    },
    {
      "cell_type": "code",
      "source": [
        "Satuan=np.ones((2, 3))\n",
        "Satuan"
      ],
      "metadata": {
        "colab": {
          "base_uri": "https://localhost:8080/"
        },
        "id": "NLhAHizKGOZL",
        "outputId": "af27b2fa-bc33-48f5-8939-4ff98f3d9642"
      },
      "execution_count": 54,
      "outputs": [
        {
          "output_type": "execute_result",
          "data": {
            "text/plain": [
              "array([[1., 1., 1.],\n",
              "       [1., 1., 1.]])"
            ]
          },
          "metadata": {},
          "execution_count": 54
        }
      ]
    },
    {
      "cell_type": "markdown",
      "source": [
        "**Matriks Nol**"
      ],
      "metadata": {
        "id": "MoLEm7USGRhY"
      }
    },
    {
      "cell_type": "code",
      "source": [
        "MatriksNol=np.zeros(10)\n",
        "MatriksNol"
      ],
      "metadata": {
        "colab": {
          "base_uri": "https://localhost:8080/"
        },
        "id": "EFN3aNV_GU8B",
        "outputId": "6370d553-da74-4af3-a216-9ec0a5d27481"
      },
      "execution_count": 55,
      "outputs": [
        {
          "output_type": "execute_result",
          "data": {
            "text/plain": [
              "array([0., 0., 0., 0., 0., 0., 0., 0., 0., 0.])"
            ]
          },
          "metadata": {},
          "execution_count": 55
        }
      ]
    },
    {
      "cell_type": "markdown",
      "source": [
        "**Matriks Segitiga Atas dan Bawah**"
      ],
      "metadata": {
        "id": "RIGLJRuQGWkA"
      }
    },
    {
      "cell_type": "code",
      "source": [
        "M=np.array([[1, 2, 3], [4, 5, 6], [7, 8, 9]])\n",
        "M"
      ],
      "metadata": {
        "colab": {
          "base_uri": "https://localhost:8080/"
        },
        "id": "ZMwrmzcyGi7t",
        "outputId": "abc63f38-8f61-4d08-c97c-c4af1fb35014"
      },
      "execution_count": 56,
      "outputs": [
        {
          "output_type": "execute_result",
          "data": {
            "text/plain": [
              "array([[1, 2, 3],\n",
              "       [4, 5, 6],\n",
              "       [7, 8, 9]])"
            ]
          },
          "metadata": {},
          "execution_count": 56
        }
      ]
    },
    {
      "cell_type": "code",
      "source": [
        "Lower=np.tril(M, -1)\n",
        "Lower"
      ],
      "metadata": {
        "colab": {
          "base_uri": "https://localhost:8080/"
        },
        "id": "bAPrd9YxGwPd",
        "outputId": "1878ebc3-185a-4de6-ee21-512e0faff99a"
      },
      "execution_count": 57,
      "outputs": [
        {
          "output_type": "execute_result",
          "data": {
            "text/plain": [
              "array([[0, 0, 0],\n",
              "       [4, 0, 0],\n",
              "       [7, 8, 0]])"
            ]
          },
          "metadata": {},
          "execution_count": 57
        }
      ]
    },
    {
      "cell_type": "code",
      "source": [
        "Upper=np.triu(M, 1)\n",
        "Upper"
      ],
      "metadata": {
        "colab": {
          "base_uri": "https://localhost:8080/"
        },
        "id": "_x0MDO_0G1f_",
        "outputId": "3c8a445b-e827-43c8-cb2f-5f389a7bb97a"
      },
      "execution_count": 58,
      "outputs": [
        {
          "output_type": "execute_result",
          "data": {
            "text/plain": [
              "array([[0, 2, 3],\n",
              "       [0, 0, 6],\n",
              "       [0, 0, 0]])"
            ]
          },
          "metadata": {},
          "execution_count": 58
        }
      ]
    },
    {
      "cell_type": "markdown",
      "source": [
        "#**Latihan**"
      ],
      "metadata": {
        "id": "iOqE6l6eG5kQ"
      }
    },
    {
      "cell_type": "markdown",
      "source": [
        "1. Buatlah array matriks identitas dengan ukuran 20x20!\n"
      ],
      "metadata": {
        "id": "6WZgOKvbG8F3"
      }
    },
    {
      "cell_type": "code",
      "source": [
        "Identitas=np.identity(20)\n",
        "print(Identitas)"
      ],
      "metadata": {
        "colab": {
          "base_uri": "https://localhost:8080/"
        },
        "id": "9fdRW25JG_EQ",
        "outputId": "7e825d98-63ea-481c-9b38-3593a3ffe028"
      },
      "execution_count": 59,
      "outputs": [
        {
          "output_type": "stream",
          "name": "stdout",
          "text": [
            "[[1. 0. 0. 0. 0. 0. 0. 0. 0. 0. 0. 0. 0. 0. 0. 0. 0. 0. 0. 0.]\n",
            " [0. 1. 0. 0. 0. 0. 0. 0. 0. 0. 0. 0. 0. 0. 0. 0. 0. 0. 0. 0.]\n",
            " [0. 0. 1. 0. 0. 0. 0. 0. 0. 0. 0. 0. 0. 0. 0. 0. 0. 0. 0. 0.]\n",
            " [0. 0. 0. 1. 0. 0. 0. 0. 0. 0. 0. 0. 0. 0. 0. 0. 0. 0. 0. 0.]\n",
            " [0. 0. 0. 0. 1. 0. 0. 0. 0. 0. 0. 0. 0. 0. 0. 0. 0. 0. 0. 0.]\n",
            " [0. 0. 0. 0. 0. 1. 0. 0. 0. 0. 0. 0. 0. 0. 0. 0. 0. 0. 0. 0.]\n",
            " [0. 0. 0. 0. 0. 0. 1. 0. 0. 0. 0. 0. 0. 0. 0. 0. 0. 0. 0. 0.]\n",
            " [0. 0. 0. 0. 0. 0. 0. 1. 0. 0. 0. 0. 0. 0. 0. 0. 0. 0. 0. 0.]\n",
            " [0. 0. 0. 0. 0. 0. 0. 0. 1. 0. 0. 0. 0. 0. 0. 0. 0. 0. 0. 0.]\n",
            " [0. 0. 0. 0. 0. 0. 0. 0. 0. 1. 0. 0. 0. 0. 0. 0. 0. 0. 0. 0.]\n",
            " [0. 0. 0. 0. 0. 0. 0. 0. 0. 0. 1. 0. 0. 0. 0. 0. 0. 0. 0. 0.]\n",
            " [0. 0. 0. 0. 0. 0. 0. 0. 0. 0. 0. 1. 0. 0. 0. 0. 0. 0. 0. 0.]\n",
            " [0. 0. 0. 0. 0. 0. 0. 0. 0. 0. 0. 0. 1. 0. 0. 0. 0. 0. 0. 0.]\n",
            " [0. 0. 0. 0. 0. 0. 0. 0. 0. 0. 0. 0. 0. 1. 0. 0. 0. 0. 0. 0.]\n",
            " [0. 0. 0. 0. 0. 0. 0. 0. 0. 0. 0. 0. 0. 0. 1. 0. 0. 0. 0. 0.]\n",
            " [0. 0. 0. 0. 0. 0. 0. 0. 0. 0. 0. 0. 0. 0. 0. 1. 0. 0. 0. 0.]\n",
            " [0. 0. 0. 0. 0. 0. 0. 0. 0. 0. 0. 0. 0. 0. 0. 0. 1. 0. 0. 0.]\n",
            " [0. 0. 0. 0. 0. 0. 0. 0. 0. 0. 0. 0. 0. 0. 0. 0. 0. 1. 0. 0.]\n",
            " [0. 0. 0. 0. 0. 0. 0. 0. 0. 0. 0. 0. 0. 0. 0. 0. 0. 0. 1. 0.]\n",
            " [0. 0. 0. 0. 0. 0. 0. 0. 0. 0. 0. 0. 0. 0. 0. 0. 0. 0. 0. 1.]]\n"
          ]
        }
      ]
    },
    {
      "cell_type": "markdown",
      "source": [
        "2. Buatlah array matriks dengan ukuran sesuai dengan array c dan dengan elemennya adalah bilangan 112!\n"
      ],
      "metadata": {
        "id": "Mu6L7CyhHJyH"
      }
    },
    {
      "cell_type": "code",
      "source": [
        "c=[20, 60, 50, 70, 90, 78, 46, 56]\n",
        "c = np.array([20, 60, 50, 70, 90, 78, 46, 56])\n",
        "print(c)\n",
        "print(np.full_like(c,112))"
      ],
      "metadata": {
        "colab": {
          "base_uri": "https://localhost:8080/"
        },
        "id": "BNedaCGZHM0a",
        "outputId": "c7f01300-8287-44f1-b478-461be9547eac"
      },
      "execution_count": 60,
      "outputs": [
        {
          "output_type": "stream",
          "name": "stdout",
          "text": [
            "[20 60 50 70 90 78 46 56]\n",
            "[112 112 112 112 112 112 112 112]\n"
          ]
        }
      ]
    }
  ]
}