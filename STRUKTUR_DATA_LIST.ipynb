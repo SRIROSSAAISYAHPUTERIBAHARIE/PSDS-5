{
  "nbformat": 4,
  "nbformat_minor": 0,
  "metadata": {
    "colab": {
      "provenance": [],
      "authorship_tag": "ABX9TyONOkEh9sAsrqNNEjgoByQ1",
      "include_colab_link": true
    },
    "kernelspec": {
      "name": "python3",
      "display_name": "Python 3"
    },
    "language_info": {
      "name": "python"
    }
  },
  "cells": [
    {
      "cell_type": "markdown",
      "metadata": {
        "id": "view-in-github",
        "colab_type": "text"
      },
      "source": [
        "<a href=\"https://colab.research.google.com/github/SRIROSSAAISYAHPUTERIBAHARIE/PSDS-5.0/blob/main/STRUKTUR_DATA_LIST.ipynb\" target=\"_parent\"><img src=\"https://colab.research.google.com/assets/colab-badge.svg\" alt=\"Open In Colab\"/></a>"
      ]
    },
    {
      "cell_type": "markdown",
      "source": [
        "#**SRI ROSSA AISYAH PUTERI BAHARIE**\n",
        "#**2100015052**\n",
        "**TUGAS PERTEMUAN 8**"
      ],
      "metadata": {
        "id": "0Twt-6kr63tT"
      }
    },
    {
      "cell_type": "markdown",
      "source": [
        "#**STRUKTUR DATA LIST**"
      ],
      "metadata": {
        "id": "f2FzoND465Us"
      }
    },
    {
      "cell_type": "markdown",
      "source": [
        "List adalah jenis data terurut (Ordered Sequence), bisa diubah elemennya (Mutable), bisa ditambahkan elemen baru atau menghapus elemen (Chaengeable), dan merupakan salah satu variabel yang sering digunakan pada Phyton. Serupa, namun tak sama dengan Array pada bahasa pemrograman lainnya. Bedanya, elemen List pada Phyton tidak harus memiliki tipe data yang sama. Mendeklarasikan List cukup mudah dengan kurung siku dan elemen yang dipisahkan dengan koma.\n",
        "\n",
        "Setiap data di dalamnya dapat diakses dengan indeks yang dimulai dari 0.\n",
        "\n",
        "\n"
      ],
      "metadata": {
        "id": "bNPqkn2V684t"
      }
    },
    {
      "cell_type": "code",
      "source": [
        "#Contoh List\n",
        "L1 = [1, 4, 2, 13]\n",
        "print(type(L1))"
      ],
      "metadata": {
        "colab": {
          "base_uri": "https://localhost:8080/"
        },
        "id": "zSk7okBG8KlJ",
        "outputId": "51d28b59-b1e2-45fe-f668-4d9952366819"
      },
      "execution_count": 1,
      "outputs": [
        {
          "output_type": "stream",
          "name": "stdout",
          "text": [
            "<class 'list'>\n"
          ]
        }
      ]
    },
    {
      "cell_type": "code",
      "source": [
        "L2 = [\"a\", \"Phyton\", 3]\n",
        "print(type(L2))"
      ],
      "metadata": {
        "colab": {
          "base_uri": "https://localhost:8080/"
        },
        "id": "S5MuWklq8cs6",
        "outputId": "9988803e-76e5-477f-b339-79692484b32d"
      },
      "execution_count": 2,
      "outputs": [
        {
          "output_type": "stream",
          "name": "stdout",
          "text": [
            "<class 'list'>\n"
          ]
        }
      ]
    },
    {
      "cell_type": "code",
      "source": [
        "print(L1)\n",
        "print(L2)"
      ],
      "metadata": {
        "colab": {
          "base_uri": "https://localhost:8080/"
        },
        "id": "-S9NuxYB8ncs",
        "outputId": "dd13b226-812d-4955-857f-f4ff3f925dd0"
      },
      "execution_count": 3,
      "outputs": [
        {
          "output_type": "stream",
          "name": "stdout",
          "text": [
            "[1, 4, 2, 13]\n",
            "['a', 'Phyton', 3]\n"
          ]
        }
      ]
    },
    {
      "cell_type": "markdown",
      "source": [
        "**INDEKS DI PHYTON (LIST, TUPLE) MULAI DARI 0**"
      ],
      "metadata": {
        "id": "1ZYwT65B8t6f"
      }
    },
    {
      "cell_type": "code",
      "source": [
        "#Sifat-sifat List\n",
        "\n",
        "#Terurut/Oedered\n",
        "print(\"Memanggil List L1 dengan Indeks Urutan:\", L1[0:3])\n",
        "\n",
        "#Bisa diganti/Mutable\n",
        "L1[1] = 2\n",
        "print(\"List L1 setelah diganti elemennya:\", L1)\n",
        "\n",
        "L1 = [1, \"Dua\", True, 2+3j]\n",
        "\n",
        "#Dapat Diindeks/Slicing\n",
        "print(\"Slicing List L1:\", L1[3])\n",
        "\n",
        "#Dapat Diijinkan Duplikasi\n",
        "L1 = [1, \"Dua\", True, 2+3j, 2+3j]\n",
        "print(\"Duplikasi pada List L1:\", L1)\n",
        "\n",
        "#Dapat mengubah data dengan mengganti elemen tertentu\n",
        "L1 = [1, \"Dua\", True, 2+3j]\n",
        "L1[2] = 3\n",
        "print(\"Data setelah Diubah:\", L1)\n",
        "\n",
        "#Dapat menambahkan elemen baru pada data\n",
        "L1 = [1, \"Dua\", True, 2+3j]\n",
        "L1.append(20)\n",
        "print(\"Data setelah ditambahkan elemennya:\", L1)\n",
        "\n",
        "#Dapat menghapus elemen pada data (remove() = menghapus berdasarkan nama objek)\n",
        "L1 = [1, \"Dua\", True, 2+3j]\n",
        "L1.remove(2+3j)\n",
        "print(\"Data setelah dihapus elemennya:\", L1)"
      ],
      "metadata": {
        "colab": {
          "base_uri": "https://localhost:8080/"
        },
        "id": "RRx94YLP82zH",
        "outputId": "9060e894-a3d6-4c01-ec0a-28bb1ec11018"
      },
      "execution_count": 4,
      "outputs": [
        {
          "output_type": "stream",
          "name": "stdout",
          "text": [
            "Memanggil List L1 dengan Indeks Urutan: [1, 4, 2]\n",
            "List L1 setelah diganti elemennya: [1, 2, 2, 13]\n",
            "Slicing List L1: (2+3j)\n",
            "Duplikasi pada List L1: [1, 'Dua', True, (2+3j), (2+3j)]\n",
            "Data setelah Diubah: [1, 'Dua', 3, (2+3j)]\n",
            "Data setelah ditambahkan elemennya: [1, 'Dua', True, (2+3j), 20]\n",
            "Data setelah dihapus elemennya: [1, 'Dua', True]\n"
          ]
        }
      ]
    },
    {
      "cell_type": "code",
      "source": [
        "#Menambahkan data menggunakan fungsi extend (menambahkan elemen baru pada List namun elemen tersebut ditambahkan secara individual)\n",
        "L1 = [1, \"Dua\", True, 2+3j]\n",
        "L1.extend(\"Nanas\")\n",
        "print(L1)"
      ],
      "metadata": {
        "colab": {
          "base_uri": "https://localhost:8080/"
        },
        "id": "fOmt4JhV_EUh",
        "outputId": "078338b6-164d-4483-ba9c-8ba20f4c6d0c"
      },
      "execution_count": 5,
      "outputs": [
        {
          "output_type": "stream",
          "name": "stdout",
          "text": [
            "[1, 'Dua', True, (2+3j), 'N', 'a', 'n', 'a', 's']\n"
          ]
        }
      ]
    },
    {
      "cell_type": "code",
      "source": [
        "L1 = [1, \"Dua\", True, 2+3j]\n",
        "L1.extend([\"Nanas\"])\n",
        "print(L1)"
      ],
      "metadata": {
        "colab": {
          "base_uri": "https://localhost:8080/"
        },
        "id": "MuKGUi_w_fdP",
        "outputId": "dcc560d8-9e38-43c3-a3e9-cbb05c6a355c"
      },
      "execution_count": 7,
      "outputs": [
        {
          "output_type": "stream",
          "name": "stdout",
          "text": [
            "[1, 'Dua', True, (2+3j), 'Nanas']\n"
          ]
        }
      ]
    },
    {
      "cell_type": "code",
      "source": [
        "#Menambahkan data menggunakan fungsi insert (menambahkan elemen baru di List pada indeks tertentu)\n",
        "L1 = [1, \"Dua\", True, 2+3j]\n",
        "L1.insert(2, 5)\n",
        "print(L1)"
      ],
      "metadata": {
        "colab": {
          "base_uri": "https://localhost:8080/"
        },
        "id": "i7sx5Wzf_viw",
        "outputId": "b7fa9894-3927-4548-a047-53296400b671"
      },
      "execution_count": 8,
      "outputs": [
        {
          "output_type": "stream",
          "name": "stdout",
          "text": [
            "[1, 'Dua', 5, True, (2+3j)]\n"
          ]
        }
      ]
    },
    {
      "cell_type": "code",
      "source": [
        "#Menghapus elemen dari List menggunakan fungsi pop() (menghapus berdasarkan indeks)\n",
        "L1 = [1, \"Dua\", True, 2+3j]\n",
        "L1.pop(2)\n",
        "print(L1)"
      ],
      "metadata": {
        "colab": {
          "base_uri": "https://localhost:8080/"
        },
        "id": "4vftm_OtAF9r",
        "outputId": "f41b7ee3-b221-4157-a65a-04199d47c9de"
      },
      "execution_count": 9,
      "outputs": [
        {
          "output_type": "stream",
          "name": "stdout",
          "text": [
            "[1, 'Dua', (2+3j)]\n"
          ]
        }
      ]
    },
    {
      "cell_type": "code",
      "source": [
        "L1 = [1, \"Dua\", True, 2+3j]\n",
        "L1.pop()\n",
        "print(L1)"
      ],
      "metadata": {
        "colab": {
          "base_uri": "https://localhost:8080/"
        },
        "id": "jyyLYt5KAYLR",
        "outputId": "9d3969eb-d1fc-489d-f40d-64cc51fc9cfd"
      },
      "execution_count": 10,
      "outputs": [
        {
          "output_type": "stream",
          "name": "stdout",
          "text": [
            "[1, 'Dua', True]\n"
          ]
        }
      ]
    },
    {
      "cell_type": "markdown",
      "source": [
        "**LATIHAN 1**"
      ],
      "metadata": {
        "id": "OLntIX5iAkDY"
      }
    },
    {
      "cell_type": "code",
      "source": [
        "#Buatlah List kalian sendiri\n",
        "\n",
        "#List dapat diisi dengan type data apa saja misal string, integer, float, double, boolean\n",
        "Mahasiswwa = [\"Matematika\", 10, True, 10.24]\n",
        "A = [24]\n",
        "print(A)"
      ],
      "metadata": {
        "colab": {
          "base_uri": "https://localhost:8080/"
        },
        "id": "Rdv3jrRaAqFA",
        "outputId": "837337c6-1ec7-4679-8d3f-eba1fa316c7c"
      },
      "execution_count": 12,
      "outputs": [
        {
          "output_type": "stream",
          "name": "stdout",
          "text": [
            "[24]\n"
          ]
        }
      ]
    },
    {
      "cell_type": "code",
      "source": [
        "#List Nama-Nama Buah\n",
        "Buah = [\"Durian\", \"Anggur\", \"Mangga\", \"Jeruk\", \"Apel\"]\n",
        "print(Buah)\n",
        "print(Buah[2])"
      ],
      "metadata": {
        "colab": {
          "base_uri": "https://localhost:8080/"
        },
        "id": "UAPqazu1Cx72",
        "outputId": "c6b2a214-d02c-466d-9f5b-fc3749c30009"
      },
      "execution_count": 15,
      "outputs": [
        {
          "output_type": "stream",
          "name": "stdout",
          "text": [
            "['Durian', 'Anggur', 'Mangga', 'Jeruk', 'Apel']\n",
            "Mangga\n"
          ]
        }
      ]
    },
    {
      "cell_type": "markdown",
      "source": [
        "**LATIHAN 2**"
      ],
      "metadata": {
        "id": "VaS7o0SEAn4B"
      }
    },
    {
      "cell_type": "code",
      "source": [
        "#Ganti elemen yang ada pada List"
      ],
      "metadata": {
        "id": "xh2L3pv2DYkG"
      },
      "execution_count": 20,
      "outputs": []
    },
    {
      "cell_type": "code",
      "source": [
        "#List awal\n",
        "Buah = [\"Durian\", \"Anggur\", \"Mangga\", \"Jeruk\", \"Apel\"]"
      ],
      "metadata": {
        "id": "RvYX1NuTMCGY"
      },
      "execution_count": 21,
      "outputs": []
    },
    {
      "cell_type": "code",
      "source": [
        "#Mengubah indeks ke-4\n",
        "Buah[4] = (\"Manggis\")\n",
        "print(Buah)"
      ],
      "metadata": {
        "colab": {
          "base_uri": "https://localhost:8080/"
        },
        "id": "H281eqVUEyAr",
        "outputId": "6f452c46-0903-4b08-860e-b34adfecd34a"
      },
      "execution_count": 25,
      "outputs": [
        {
          "output_type": "stream",
          "name": "stdout",
          "text": [
            "['Durian', 'Anggur', 'Mangga', 'Jeruk', 'Manggis']\n"
          ]
        }
      ]
    }
  ]
}